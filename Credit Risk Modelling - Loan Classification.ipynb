{
  "metadata": {
    "kernelspec": {
      "name": "python3",
      "display_name": "Python 3",
      "language": "python"
    },
    "language_info": {
      "name": "python",
      "version": "3.10.13",
      "mimetype": "text/x-python",
      "codemirror_mode": {
        "name": "ipython",
        "version": 3
      },
      "pygments_lexer": "ipython3",
      "nbconvert_exporter": "python",
      "file_extension": ".py"
    },
    "kaggle": {
      "accelerator": "none",
      "dataSources": [
        {
          "sourceId": 9166966,
          "sourceType": "datasetVersion",
          "datasetId": 5539054
        }
      ],
      "dockerImageVersionId": 30746,
      "isInternetEnabled": false,
      "language": "python",
      "sourceType": "notebook",
      "isGpuEnabled": false
    },
    "colab": {
      "name": "notebook95884cd773",
      "provenance": [],
      "include_colab_link": true
    }
  },
  "nbformat_minor": 0,
  "nbformat": 4,
  "cells": [
    {
      "cell_type": "markdown",
      "metadata": {
        "id": "view-in-github",
        "colab_type": "text"
      },
      "source": [
        "<a href=\"https://colab.research.google.com/github/HimankPatidar/Advance_House_Price_Prediction/blob/main/Credit%20Risk%20Modelling%20-%20Loan%20Classification.ipynb\" target=\"_parent\"><img src=\"https://colab.research.google.com/assets/colab-badge.svg\" alt=\"Open In Colab\"/></a>"
      ]
    },
    {
      "source": [
        "\n",
        "# IMPORTANT: RUN THIS CELL IN ORDER TO IMPORT YOUR KAGGLE DATA SOURCES\n",
        "# TO THE CORRECT LOCATION (/kaggle/input) IN YOUR NOTEBOOK,\n",
        "# THEN FEEL FREE TO DELETE THIS CELL.\n",
        "# NOTE: THIS NOTEBOOK ENVIRONMENT DIFFERS FROM KAGGLE'S PYTHON\n",
        "# ENVIRONMENT SO THERE MAY BE MISSING LIBRARIES USED BY YOUR\n",
        "# NOTEBOOK.\n",
        "\n",
        "import os\n",
        "import sys\n",
        "from tempfile import NamedTemporaryFile\n",
        "from urllib.request import urlopen\n",
        "from urllib.parse import unquote, urlparse\n",
        "from urllib.error import HTTPError\n",
        "from zipfile import ZipFile\n",
        "import tarfile\n",
        "import shutil\n",
        "\n",
        "CHUNK_SIZE = 40960\n",
        "DATA_SOURCE_MAPPING = 'loan-detection:https%3A%2F%2Fstorage.googleapis.com%2Fkaggle-data-sets%2F5539054%2F9166966%2Fbundle%2Farchive.zip%3FX-Goog-Algorithm%3DGOOG4-RSA-SHA256%26X-Goog-Credential%3Dgcp-kaggle-com%2540kaggle-161607.iam.gserviceaccount.com%252F20240814%252Fauto%252Fstorage%252Fgoog4_request%26X-Goog-Date%3D20240814T102412Z%26X-Goog-Expires%3D259200%26X-Goog-SignedHeaders%3Dhost%26X-Goog-Signature%3D2e66647fac00143b6c27742c61f29d51e2bc76c2fd6954c64f1db761868cd4ef3ba3e1da072f50181b2090272ddaf8b73972569faa4a50aaca6cca03b8d09770a6d86507555d2338761455d35e205969802943ccb4ec3a50fd4096e5be9e04376da0e2d45c043f9b8cd940ebefe9281b6bf2a518ec189549c8c7c067979b971c0cee2dfd06c411a96167ef9dcc70ceeddfdb4bc2e48bfc38fb13803ad3445ce1d80d1b92da1b85d64accf680f668d23ad5383acbaa21fb4d5ac1b634547823224d856dce71b731533d64764b3fe287006a3b7eeca9d325adee620aff44aab55913d878a2eba4e6ed5681a031bc64b5af0479b1e92a0f42a40215ef9a095dd556'\n",
        "\n",
        "KAGGLE_INPUT_PATH='/kaggle/input'\n",
        "KAGGLE_WORKING_PATH='/kaggle/working'\n",
        "KAGGLE_SYMLINK='kaggle'\n",
        "\n",
        "!umount /kaggle/input/ 2> /dev/null\n",
        "shutil.rmtree('/kaggle/input', ignore_errors=True)\n",
        "os.makedirs(KAGGLE_INPUT_PATH, 0o777, exist_ok=True)\n",
        "os.makedirs(KAGGLE_WORKING_PATH, 0o777, exist_ok=True)\n",
        "\n",
        "try:\n",
        "  os.symlink(KAGGLE_INPUT_PATH, os.path.join(\"..\", 'input'), target_is_directory=True)\n",
        "except FileExistsError:\n",
        "  pass\n",
        "try:\n",
        "  os.symlink(KAGGLE_WORKING_PATH, os.path.join(\"..\", 'working'), target_is_directory=True)\n",
        "except FileExistsError:\n",
        "  pass\n",
        "\n",
        "for data_source_mapping in DATA_SOURCE_MAPPING.split(','):\n",
        "    directory, download_url_encoded = data_source_mapping.split(':')\n",
        "    download_url = unquote(download_url_encoded)\n",
        "    filename = urlparse(download_url).path\n",
        "    destination_path = os.path.join(KAGGLE_INPUT_PATH, directory)\n",
        "    try:\n",
        "        with urlopen(download_url) as fileres, NamedTemporaryFile() as tfile:\n",
        "            total_length = fileres.headers['content-length']\n",
        "            print(f'Downloading {directory}, {total_length} bytes compressed')\n",
        "            dl = 0\n",
        "            data = fileres.read(CHUNK_SIZE)\n",
        "            while len(data) > 0:\n",
        "                dl += len(data)\n",
        "                tfile.write(data)\n",
        "                done = int(50 * dl / int(total_length))\n",
        "                sys.stdout.write(f\"\\r[{'=' * done}{' ' * (50-done)}] {dl} bytes downloaded\")\n",
        "                sys.stdout.flush()\n",
        "                data = fileres.read(CHUNK_SIZE)\n",
        "            if filename.endswith('.zip'):\n",
        "              with ZipFile(tfile) as zfile:\n",
        "                zfile.extractall(destination_path)\n",
        "            else:\n",
        "              with tarfile.open(tfile.name) as tarfile:\n",
        "                tarfile.extractall(destination_path)\n",
        "            print(f'\\nDownloaded and uncompressed: {directory}')\n",
        "    except HTTPError as e:\n",
        "        print(f'Failed to load (likely expired) {download_url} to path {destination_path}')\n",
        "        continue\n",
        "    except OSError as e:\n",
        "        print(f'Failed to load {download_url} to path {destination_path}')\n",
        "        continue\n",
        "\n",
        "print('Data source import complete.')\n"
      ],
      "metadata": {
        "id": "stWhTUNWarqy"
      },
      "cell_type": "code",
      "outputs": [],
      "execution_count": null
    },
    {
      "cell_type": "markdown",
      "source": [
        "# Credit Risk Modelling - Loan Classification\n"
      ],
      "metadata": {
        "id": "pvAD7ap3arq7"
      }
    },
    {
      "cell_type": "markdown",
      "source": [
        "# Import relevant Libraries/Modules"
      ],
      "metadata": {
        "id": "oLGpBtmWarq-"
      }
    },
    {
      "cell_type": "code",
      "source": [
        "import numpy as np\n",
        "import pandas as pd\n",
        "import matplotlib.pyplot as plt\n",
        "import seaborn as sns\n",
        "\n",
        "from sklearn.model_selection import train_test_split\n",
        "from sklearn.linear_model import LogisticRegression\n",
        "from sklearn.tree import DecisionTreeClassifier\n",
        "from sklearn.ensemble import RandomForestClassifier\n",
        "\n",
        "from xgboost import XGBClassifier\n",
        "\n",
        "from sklearn.preprocessing import StandardScaler\n",
        "from sklearn.model_selection import GridSearchCV\n",
        "from sklearn.metrics import confusion_matrix, accuracy_score, classification_report\n",
        "\n",
        "import warnings\n",
        "warnings.filterwarnings(\"ignore\")"
      ],
      "metadata": {
        "execution": {
          "iopub.status.busy": "2024-08-13T18:07:47.646727Z",
          "iopub.execute_input": "2024-08-13T18:07:47.647173Z",
          "iopub.status.idle": "2024-08-13T18:07:49.812145Z",
          "shell.execute_reply.started": "2024-08-13T18:07:47.647137Z",
          "shell.execute_reply": "2024-08-13T18:07:49.811044Z"
        },
        "trusted": true,
        "id": "7aFKNunLarq_"
      },
      "execution_count": null,
      "outputs": []
    },
    {
      "cell_type": "code",
      "source": [],
      "metadata": {
        "id": "CUx1EC2BarrA"
      },
      "execution_count": null,
      "outputs": []
    },
    {
      "cell_type": "markdown",
      "source": [
        "# Load the Dataset"
      ],
      "metadata": {
        "id": "HSaQVWUuarrA"
      }
    },
    {
      "cell_type": "code",
      "source": [
        "df = pd.read_csv(\"/kaggle/input/loan-detection/loan_detection.csv\")\n",
        "df.head()"
      ],
      "metadata": {
        "execution": {
          "iopub.status.busy": "2024-08-13T18:07:49.813913Z",
          "iopub.execute_input": "2024-08-13T18:07:49.814424Z",
          "iopub.status.idle": "2024-08-13T18:07:50.193684Z",
          "shell.execute_reply.started": "2024-08-13T18:07:49.814392Z",
          "shell.execute_reply": "2024-08-13T18:07:50.191196Z"
        },
        "trusted": true,
        "id": "ChKFXEYUarrB"
      },
      "execution_count": null,
      "outputs": []
    },
    {
      "cell_type": "markdown",
      "source": [
        "# Basic EDA"
      ],
      "metadata": {
        "id": "Beg0EwVJarrC"
      }
    },
    {
      "cell_type": "code",
      "source": [
        "df.shape"
      ],
      "metadata": {
        "execution": {
          "iopub.status.busy": "2024-08-13T18:07:50.195639Z",
          "iopub.execute_input": "2024-08-13T18:07:50.196361Z",
          "iopub.status.idle": "2024-08-13T18:07:50.205851Z",
          "shell.execute_reply.started": "2024-08-13T18:07:50.196303Z",
          "shell.execute_reply": "2024-08-13T18:07:50.203857Z"
        },
        "trusted": true,
        "id": "s1iDhW4varrD"
      },
      "execution_count": null,
      "outputs": []
    },
    {
      "cell_type": "code",
      "source": [
        "df.describe()"
      ],
      "metadata": {
        "execution": {
          "iopub.status.busy": "2024-08-13T18:07:50.210207Z",
          "iopub.execute_input": "2024-08-13T18:07:50.210791Z",
          "iopub.status.idle": "2024-08-13T18:07:50.435423Z",
          "shell.execute_reply.started": "2024-08-13T18:07:50.210733Z",
          "shell.execute_reply": "2024-08-13T18:07:50.433953Z"
        },
        "trusted": true,
        "id": "sdcA1y7GarrD"
      },
      "execution_count": null,
      "outputs": []
    },
    {
      "cell_type": "code",
      "source": [
        "df.info()"
      ],
      "metadata": {
        "execution": {
          "iopub.status.busy": "2024-08-13T18:07:50.436918Z",
          "iopub.execute_input": "2024-08-13T18:07:50.437311Z",
          "iopub.status.idle": "2024-08-13T18:07:50.470883Z",
          "shell.execute_reply.started": "2024-08-13T18:07:50.437281Z",
          "shell.execute_reply": "2024-08-13T18:07:50.46954Z"
        },
        "trusted": true,
        "id": "BKBKTnQFarrE"
      },
      "execution_count": null,
      "outputs": []
    },
    {
      "cell_type": "code",
      "source": [
        "df.nunique()"
      ],
      "metadata": {
        "execution": {
          "iopub.status.busy": "2024-08-13T18:07:50.472407Z",
          "iopub.execute_input": "2024-08-13T18:07:50.472852Z",
          "iopub.status.idle": "2024-08-13T18:07:50.510006Z",
          "shell.execute_reply.started": "2024-08-13T18:07:50.472812Z",
          "shell.execute_reply": "2024-08-13T18:07:50.508764Z"
        },
        "trusted": true,
        "id": "wb9CCKwIarrE"
      },
      "execution_count": null,
      "outputs": []
    },
    {
      "cell_type": "code",
      "source": [
        "df.columns"
      ],
      "metadata": {
        "execution": {
          "iopub.status.busy": "2024-08-13T18:07:50.511565Z",
          "iopub.execute_input": "2024-08-13T18:07:50.512041Z",
          "iopub.status.idle": "2024-08-13T18:07:50.52105Z",
          "shell.execute_reply.started": "2024-08-13T18:07:50.511997Z",
          "shell.execute_reply": "2024-08-13T18:07:50.51932Z"
        },
        "trusted": true,
        "id": "k0ML17qIarrE"
      },
      "execution_count": null,
      "outputs": []
    },
    {
      "cell_type": "markdown",
      "source": [
        "# Handling Missing Value"
      ],
      "metadata": {
        "id": "Y-uU6mlDarrF"
      }
    },
    {
      "cell_type": "code",
      "source": [
        "df.isnull().sum()"
      ],
      "metadata": {
        "execution": {
          "iopub.status.busy": "2024-08-13T18:07:50.522863Z",
          "iopub.execute_input": "2024-08-13T18:07:50.523364Z",
          "iopub.status.idle": "2024-08-13T18:07:50.539173Z",
          "shell.execute_reply.started": "2024-08-13T18:07:50.523323Z",
          "shell.execute_reply": "2024-08-13T18:07:50.537666Z"
        },
        "trusted": true,
        "id": "tZJQws2yarrF"
      },
      "execution_count": null,
      "outputs": []
    },
    {
      "cell_type": "code",
      "source": [
        "round(df.isnull().mean() * 100, 2)\n"
      ],
      "metadata": {
        "execution": {
          "iopub.status.busy": "2024-08-13T18:07:50.540794Z",
          "iopub.execute_input": "2024-08-13T18:07:50.541619Z",
          "iopub.status.idle": "2024-08-13T18:07:50.559586Z",
          "shell.execute_reply.started": "2024-08-13T18:07:50.541577Z",
          "shell.execute_reply": "2024-08-13T18:07:50.558393Z"
        },
        "trusted": true,
        "id": "4iVAEjraarrF"
      },
      "execution_count": null,
      "outputs": []
    },
    {
      "cell_type": "code",
      "source": [
        "df.duplicated().sum()"
      ],
      "metadata": {
        "execution": {
          "iopub.status.busy": "2024-08-13T18:07:50.564652Z",
          "iopub.execute_input": "2024-08-13T18:07:50.56504Z",
          "iopub.status.idle": "2024-08-13T18:07:50.617273Z",
          "shell.execute_reply.started": "2024-08-13T18:07:50.565011Z",
          "shell.execute_reply": "2024-08-13T18:07:50.616035Z"
        },
        "trusted": true,
        "id": "dDA9nv-5arrG"
      },
      "execution_count": null,
      "outputs": []
    },
    {
      "cell_type": "code",
      "source": [
        "df[df.duplicated()]"
      ],
      "metadata": {
        "execution": {
          "iopub.status.busy": "2024-08-13T18:07:50.619059Z",
          "iopub.execute_input": "2024-08-13T18:07:50.619436Z",
          "iopub.status.idle": "2024-08-13T18:07:50.683438Z",
          "shell.execute_reply.started": "2024-08-13T18:07:50.619406Z",
          "shell.execute_reply": "2024-08-13T18:07:50.682234Z"
        },
        "trusted": true,
        "id": "8PvicDZMarrG"
      },
      "execution_count": null,
      "outputs": []
    },
    {
      "cell_type": "code",
      "source": [
        "sns.distplot(df['age'], color='r', label=df.age.skew())\n",
        "plt.legend()\n"
      ],
      "metadata": {
        "execution": {
          "iopub.status.busy": "2024-08-13T18:07:50.685065Z",
          "iopub.execute_input": "2024-08-13T18:07:50.68553Z",
          "iopub.status.idle": "2024-08-13T18:07:51.47561Z",
          "shell.execute_reply.started": "2024-08-13T18:07:50.685484Z",
          "shell.execute_reply": "2024-08-13T18:07:51.474072Z"
        },
        "trusted": true,
        "id": "Ps6ruBKdarrG"
      },
      "execution_count": null,
      "outputs": []
    },
    {
      "cell_type": "code",
      "source": [
        "df.age.mean()"
      ],
      "metadata": {
        "execution": {
          "iopub.status.busy": "2024-08-13T18:07:51.477189Z",
          "iopub.execute_input": "2024-08-13T18:07:51.477628Z",
          "iopub.status.idle": "2024-08-13T18:07:51.486287Z",
          "shell.execute_reply.started": "2024-08-13T18:07:51.477596Z",
          "shell.execute_reply": "2024-08-13T18:07:51.484877Z"
        },
        "trusted": true,
        "id": "i-a98cQ-arrG"
      },
      "execution_count": null,
      "outputs": []
    },
    {
      "cell_type": "code",
      "source": [
        "df.age.median()"
      ],
      "metadata": {
        "execution": {
          "iopub.status.busy": "2024-08-13T18:07:51.488413Z",
          "iopub.execute_input": "2024-08-13T18:07:51.488889Z",
          "iopub.status.idle": "2024-08-13T18:07:51.499589Z",
          "shell.execute_reply.started": "2024-08-13T18:07:51.488776Z",
          "shell.execute_reply": "2024-08-13T18:07:51.498218Z"
        },
        "trusted": true,
        "id": "P3RwQM4HarrG"
      },
      "execution_count": null,
      "outputs": []
    },
    {
      "cell_type": "code",
      "source": [
        "for i in df:\n",
        "    if df[i].isna().sum() > 0:\n",
        "        print(f' {i} : {df[i].mean()}')\n",
        "        df[i].fillna(df[i].mean(), inplace=True)"
      ],
      "metadata": {
        "execution": {
          "iopub.status.busy": "2024-08-13T18:07:51.501216Z",
          "iopub.execute_input": "2024-08-13T18:07:51.502521Z",
          "iopub.status.idle": "2024-08-13T18:07:51.519965Z",
          "shell.execute_reply.started": "2024-08-13T18:07:51.502427Z",
          "shell.execute_reply": "2024-08-13T18:07:51.518477Z"
        },
        "trusted": true,
        "id": "6le48U4EarrH"
      },
      "execution_count": null,
      "outputs": []
    },
    {
      "cell_type": "markdown",
      "source": [
        "# Duplicate Data"
      ],
      "metadata": {
        "id": "Osmc822narrH"
      }
    },
    {
      "cell_type": "code",
      "source": [
        "df.drop_duplicates(keep=\"first\", inplace=True)"
      ],
      "metadata": {
        "execution": {
          "iopub.status.busy": "2024-08-13T18:07:51.521581Z",
          "iopub.execute_input": "2024-08-13T18:07:51.521994Z",
          "iopub.status.idle": "2024-08-13T18:07:51.575492Z",
          "shell.execute_reply.started": "2024-08-13T18:07:51.521952Z",
          "shell.execute_reply": "2024-08-13T18:07:51.574165Z"
        },
        "trusted": true,
        "id": "EuZW4qrWarrH"
      },
      "execution_count": null,
      "outputs": []
    },
    {
      "cell_type": "code",
      "source": [
        "df.duplicated().sum()"
      ],
      "metadata": {
        "execution": {
          "iopub.status.busy": "2024-08-13T18:07:51.576988Z",
          "iopub.execute_input": "2024-08-13T18:07:51.577362Z",
          "iopub.status.idle": "2024-08-13T18:07:51.636832Z",
          "shell.execute_reply.started": "2024-08-13T18:07:51.57733Z",
          "shell.execute_reply": "2024-08-13T18:07:51.635692Z"
        },
        "trusted": true,
        "id": "_XizsIZharrH"
      },
      "execution_count": null,
      "outputs": []
    },
    {
      "cell_type": "code",
      "source": [
        "df[df.duplicated()]"
      ],
      "metadata": {
        "execution": {
          "iopub.status.busy": "2024-08-13T18:07:51.63836Z",
          "iopub.execute_input": "2024-08-13T18:07:51.638815Z",
          "iopub.status.idle": "2024-08-13T18:07:51.685274Z",
          "shell.execute_reply.started": "2024-08-13T18:07:51.638775Z",
          "shell.execute_reply": "2024-08-13T18:07:51.684001Z"
        },
        "trusted": true,
        "id": "N5XNsbx-arrH"
      },
      "execution_count": null,
      "outputs": []
    },
    {
      "cell_type": "code",
      "source": [
        "df.shape"
      ],
      "metadata": {
        "execution": {
          "iopub.status.busy": "2024-08-13T18:07:51.686756Z",
          "iopub.execute_input": "2024-08-13T18:07:51.687335Z",
          "iopub.status.idle": "2024-08-13T18:07:51.695292Z",
          "shell.execute_reply.started": "2024-08-13T18:07:51.687302Z",
          "shell.execute_reply": "2024-08-13T18:07:51.693869Z"
        },
        "trusted": true,
        "id": "safYZIQBarrH"
      },
      "execution_count": null,
      "outputs": []
    },
    {
      "cell_type": "markdown",
      "source": [
        "# Outliers or Anomalies"
      ],
      "metadata": {
        "id": "PrC89lzXarrH"
      }
    },
    {
      "cell_type": "markdown",
      "source": [
        "## Using IQR - Inter Quartile Range"
      ],
      "metadata": {
        "id": "irsBOomCarrI"
      }
    },
    {
      "cell_type": "code",
      "source": [
        "Q1 = df.quantile(0.25)\n",
        "Q3 = df.quantile(0.75)\n",
        "IQR = Q3 - Q1\n",
        "IQR"
      ],
      "metadata": {
        "execution": {
          "iopub.status.busy": "2024-08-13T18:07:51.69711Z",
          "iopub.execute_input": "2024-08-13T18:07:51.69752Z",
          "iopub.status.idle": "2024-08-13T18:07:51.758842Z",
          "shell.execute_reply.started": "2024-08-13T18:07:51.697475Z",
          "shell.execute_reply": "2024-08-13T18:07:51.757611Z"
        },
        "trusted": true,
        "id": "2kRJhSA4arrI"
      },
      "execution_count": null,
      "outputs": []
    },
    {
      "cell_type": "code",
      "source": [
        "print(Q1 - 1.5 * IQR)\n",
        "print()\n",
        "print(Q3 + 1.5 * IQR)"
      ],
      "metadata": {
        "execution": {
          "iopub.status.busy": "2024-08-13T18:07:51.760245Z",
          "iopub.execute_input": "2024-08-13T18:07:51.760591Z",
          "iopub.status.idle": "2024-08-13T18:07:51.778252Z",
          "shell.execute_reply.started": "2024-08-13T18:07:51.760561Z",
          "shell.execute_reply": "2024-08-13T18:07:51.776524Z"
        },
        "trusted": true,
        "id": "F_iS324darrI"
      },
      "execution_count": null,
      "outputs": []
    },
    {
      "cell_type": "code",
      "source": [
        "lower_bound = (Q1 - 1.5  * IQR)\n",
        "upper_bound = (Q3 + 1.5 * IQR)\n"
      ],
      "metadata": {
        "execution": {
          "iopub.status.busy": "2024-08-13T18:07:51.779705Z",
          "iopub.execute_input": "2024-08-13T18:07:51.78011Z",
          "iopub.status.idle": "2024-08-13T18:07:51.789937Z",
          "shell.execute_reply.started": "2024-08-13T18:07:51.780075Z",
          "shell.execute_reply": "2024-08-13T18:07:51.78855Z"
        },
        "trusted": true,
        "id": "wT9aSSPcarrJ"
      },
      "execution_count": null,
      "outputs": []
    },
    {
      "cell_type": "code",
      "source": [
        "upper_bound"
      ],
      "metadata": {
        "execution": {
          "iopub.status.busy": "2024-08-13T18:07:51.791541Z",
          "iopub.execute_input": "2024-08-13T18:07:51.792058Z",
          "iopub.status.idle": "2024-08-13T18:07:51.81313Z",
          "shell.execute_reply.started": "2024-08-13T18:07:51.792019Z",
          "shell.execute_reply": "2024-08-13T18:07:51.811725Z"
        },
        "trusted": true,
        "id": "A5PHUYHuarrJ"
      },
      "execution_count": null,
      "outputs": []
    },
    {
      "cell_type": "code",
      "source": [
        "df.shape"
      ],
      "metadata": {
        "execution": {
          "iopub.status.busy": "2024-08-13T18:07:51.81576Z",
          "iopub.execute_input": "2024-08-13T18:07:51.81652Z",
          "iopub.status.idle": "2024-08-13T18:07:51.830939Z",
          "shell.execute_reply.started": "2024-08-13T18:07:51.816478Z",
          "shell.execute_reply": "2024-08-13T18:07:51.829323Z"
        },
        "trusted": true,
        "id": "AD9n5csvarrK"
      },
      "execution_count": null,
      "outputs": []
    },
    {
      "cell_type": "code",
      "source": [
        "\n",
        "Q1 = df[\"age\"].quantile(0.25)\n",
        "Q3 = df[\"age\"].quantile(0.75)\n"
      ],
      "metadata": {
        "execution": {
          "iopub.status.busy": "2024-08-13T18:07:51.833454Z",
          "iopub.execute_input": "2024-08-13T18:07:51.833999Z",
          "iopub.status.idle": "2024-08-13T18:07:51.847239Z",
          "shell.execute_reply.started": "2024-08-13T18:07:51.833961Z",
          "shell.execute_reply": "2024-08-13T18:07:51.845547Z"
        },
        "trusted": true,
        "id": "W8cDgbjGarrK"
      },
      "execution_count": null,
      "outputs": []
    },
    {
      "cell_type": "code",
      "source": [
        "IQR = Q3 - Q1\n",
        "IQR"
      ],
      "metadata": {
        "execution": {
          "iopub.status.busy": "2024-08-13T18:07:51.849007Z",
          "iopub.execute_input": "2024-08-13T18:07:51.849445Z",
          "iopub.status.idle": "2024-08-13T18:07:51.860493Z",
          "shell.execute_reply.started": "2024-08-13T18:07:51.8494Z",
          "shell.execute_reply": "2024-08-13T18:07:51.858994Z"
        },
        "trusted": true,
        "id": "37JPKjObarrK"
      },
      "execution_count": null,
      "outputs": []
    },
    {
      "cell_type": "code",
      "source": [
        "lower_bound = Q1 - 1.5 * IQR\n",
        "upper_bound = Q3 + 1.5 * IQR\n"
      ],
      "metadata": {
        "execution": {
          "iopub.status.busy": "2024-08-13T18:07:51.862942Z",
          "iopub.execute_input": "2024-08-13T18:07:51.863433Z",
          "iopub.status.idle": "2024-08-13T18:07:51.87223Z",
          "shell.execute_reply.started": "2024-08-13T18:07:51.863391Z",
          "shell.execute_reply": "2024-08-13T18:07:51.870351Z"
        },
        "trusted": true,
        "id": "_m0pAWNbarrL"
      },
      "execution_count": null,
      "outputs": []
    },
    {
      "cell_type": "code",
      "source": [
        "lower_bound\n"
      ],
      "metadata": {
        "execution": {
          "iopub.status.busy": "2024-08-13T18:07:51.883196Z",
          "iopub.execute_input": "2024-08-13T18:07:51.884349Z",
          "iopub.status.idle": "2024-08-13T18:07:51.892363Z",
          "shell.execute_reply.started": "2024-08-13T18:07:51.88431Z",
          "shell.execute_reply": "2024-08-13T18:07:51.891133Z"
        },
        "trusted": true,
        "id": "oFHBxfw2arrL"
      },
      "execution_count": null,
      "outputs": []
    },
    {
      "cell_type": "code",
      "source": [
        "upper_bound\n"
      ],
      "metadata": {
        "execution": {
          "iopub.status.busy": "2024-08-13T18:07:51.893722Z",
          "iopub.execute_input": "2024-08-13T18:07:51.894132Z",
          "iopub.status.idle": "2024-08-13T18:07:51.906399Z",
          "shell.execute_reply.started": "2024-08-13T18:07:51.8941Z",
          "shell.execute_reply": "2024-08-13T18:07:51.904759Z"
        },
        "trusted": true,
        "id": "2_yDaZ69arrL"
      },
      "execution_count": null,
      "outputs": []
    },
    {
      "cell_type": "code",
      "source": [
        "df_filtered = df[(df['age'] >= lower_bound) & (df['age'] <= upper_bound)]\n"
      ],
      "metadata": {
        "execution": {
          "iopub.status.busy": "2024-08-13T18:07:51.907921Z",
          "iopub.execute_input": "2024-08-13T18:07:51.908407Z",
          "iopub.status.idle": "2024-08-13T18:07:51.926824Z",
          "shell.execute_reply.started": "2024-08-13T18:07:51.908366Z",
          "shell.execute_reply": "2024-08-13T18:07:51.925516Z"
        },
        "trusted": true,
        "id": "yxsw1A0uarrR"
      },
      "execution_count": null,
      "outputs": []
    },
    {
      "cell_type": "code",
      "source": [
        "print(f\"Q1: {Q1}, Q3: {Q3}\")\n",
        "print(f\"IQR: {IQR}\")\n",
        "print(f\"Lower Bound: {lower_bound}\")\n",
        "print(f\"Upper Bound: {upper_bound}\")\n"
      ],
      "metadata": {
        "execution": {
          "iopub.status.busy": "2024-08-13T18:07:51.928278Z",
          "iopub.execute_input": "2024-08-13T18:07:51.928621Z",
          "iopub.status.idle": "2024-08-13T18:07:51.936485Z",
          "shell.execute_reply.started": "2024-08-13T18:07:51.928592Z",
          "shell.execute_reply": "2024-08-13T18:07:51.935036Z"
        },
        "trusted": true,
        "id": "3DJQRzSearrR"
      },
      "execution_count": null,
      "outputs": []
    },
    {
      "cell_type": "code",
      "source": [
        "df_filtered"
      ],
      "metadata": {
        "execution": {
          "iopub.status.busy": "2024-08-13T18:07:51.937945Z",
          "iopub.execute_input": "2024-08-13T18:07:51.938867Z",
          "iopub.status.idle": "2024-08-13T18:07:51.988815Z",
          "shell.execute_reply.started": "2024-08-13T18:07:51.938822Z",
          "shell.execute_reply": "2024-08-13T18:07:51.98735Z"
        },
        "trusted": true,
        "id": "MIngRdCKarrR"
      },
      "execution_count": null,
      "outputs": []
    },
    {
      "cell_type": "code",
      "source": [
        "sns.boxplot(df_filtered['age'])\n",
        "plt.title(\"age\")\n",
        "plt.grid()\n",
        "plt.show()\n"
      ],
      "metadata": {
        "execution": {
          "iopub.status.busy": "2024-08-13T18:07:51.990655Z",
          "iopub.execute_input": "2024-08-13T18:07:51.991156Z",
          "iopub.status.idle": "2024-08-13T18:07:52.253235Z",
          "shell.execute_reply.started": "2024-08-13T18:07:51.991121Z",
          "shell.execute_reply": "2024-08-13T18:07:52.251906Z"
        },
        "trusted": true,
        "id": "86eTiImgarrR"
      },
      "execution_count": null,
      "outputs": []
    },
    {
      "cell_type": "code",
      "source": [
        "df=  df_filtered\n",
        "df"
      ],
      "metadata": {
        "execution": {
          "iopub.status.busy": "2024-08-13T18:07:52.254994Z",
          "iopub.execute_input": "2024-08-13T18:07:52.255464Z",
          "iopub.status.idle": "2024-08-13T18:07:52.286215Z",
          "shell.execute_reply.started": "2024-08-13T18:07:52.255422Z",
          "shell.execute_reply": "2024-08-13T18:07:52.284939Z"
        },
        "trusted": true,
        "id": "23R3GJ-ZarrS"
      },
      "execution_count": null,
      "outputs": []
    },
    {
      "cell_type": "markdown",
      "source": [
        "# Feature Selection"
      ],
      "metadata": {
        "id": "PuEx6etxarrS"
      }
    },
    {
      "cell_type": "code",
      "source": [
        "corr_matrix = df.corr()\n",
        "corr_matrix"
      ],
      "metadata": {
        "execution": {
          "iopub.status.busy": "2024-08-13T18:07:52.287639Z",
          "iopub.execute_input": "2024-08-13T18:07:52.288042Z",
          "iopub.status.idle": "2024-08-13T18:07:52.775697Z",
          "shell.execute_reply.started": "2024-08-13T18:07:52.288009Z",
          "shell.execute_reply": "2024-08-13T18:07:52.774466Z"
        },
        "trusted": true,
        "id": "TJgCkgWJarrS"
      },
      "execution_count": null,
      "outputs": []
    },
    {
      "cell_type": "markdown",
      "source": [
        "# Model Building"
      ],
      "metadata": {
        "id": "rAHSxpScarrS"
      }
    },
    {
      "cell_type": "markdown",
      "source": [
        "## Split the Independent and Dependent Data"
      ],
      "metadata": {
        "id": "kEZDB11darrS"
      }
    },
    {
      "cell_type": "code",
      "source": [
        "X = df.iloc[:, :-1]\n",
        "X"
      ],
      "metadata": {
        "execution": {
          "iopub.status.busy": "2024-08-13T18:07:52.77745Z",
          "iopub.execute_input": "2024-08-13T18:07:52.777859Z",
          "iopub.status.idle": "2024-08-13T18:07:52.805855Z",
          "shell.execute_reply.started": "2024-08-13T18:07:52.777821Z",
          "shell.execute_reply": "2024-08-13T18:07:52.804519Z"
        },
        "trusted": true,
        "id": "SzxMYiOSarrS"
      },
      "execution_count": null,
      "outputs": []
    },
    {
      "cell_type": "code",
      "source": [
        "y = df['Loan_Status_label']\n",
        "y"
      ],
      "metadata": {
        "execution": {
          "iopub.status.busy": "2024-08-13T18:07:52.807389Z",
          "iopub.execute_input": "2024-08-13T18:07:52.80775Z",
          "iopub.status.idle": "2024-08-13T18:07:52.816531Z",
          "shell.execute_reply.started": "2024-08-13T18:07:52.807718Z",
          "shell.execute_reply": "2024-08-13T18:07:52.815387Z"
        },
        "trusted": true,
        "id": "jWD8TqyiarrS"
      },
      "execution_count": null,
      "outputs": []
    },
    {
      "cell_type": "code",
      "source": [
        "y.value_counts()"
      ],
      "metadata": {
        "execution": {
          "iopub.status.busy": "2024-08-13T18:07:52.818277Z",
          "iopub.execute_input": "2024-08-13T18:07:52.818715Z",
          "iopub.status.idle": "2024-08-13T18:07:52.834028Z",
          "shell.execute_reply.started": "2024-08-13T18:07:52.818676Z",
          "shell.execute_reply": "2024-08-13T18:07:52.832608Z"
        },
        "trusted": true,
        "id": "ROuVom4uarrT"
      },
      "execution_count": null,
      "outputs": []
    },
    {
      "cell_type": "code",
      "source": [
        "df['Loan_Status_label'].value_counts()\n",
        "\n",
        "plt.figure(figsize=(6,4))\n",
        "sns.barplot(x=y.index, y=y.values, palette='viridis')\n",
        "plt.xlabel('Loan Status (0: No, 1: Yes)')\n",
        "plt.ylabel('Count')\n",
        "plt.title('Distribution of Loan Status')\n",
        "plt.show()"
      ],
      "metadata": {
        "execution": {
          "iopub.status.busy": "2024-08-13T18:07:52.835876Z",
          "iopub.execute_input": "2024-08-13T18:07:52.836372Z",
          "iopub.status.idle": "2024-08-13T18:15:25.373858Z",
          "shell.execute_reply.started": "2024-08-13T18:07:52.836339Z",
          "shell.execute_reply": "2024-08-13T18:15:25.372524Z"
        },
        "trusted": true,
        "id": "_x7lrOyXarrT"
      },
      "execution_count": null,
      "outputs": []
    },
    {
      "cell_type": "code",
      "source": [
        "plt.figure(figsize=(6,4))\n",
        "sns.countplot(x='poutcome_success', hue='Loan_Status_label', data=df, palette='Set2')\n",
        "plt.xlabel('Previous Outcome: Success (0: No, 1: Yes)')\n",
        "plt.ylabel('Count')\n",
        "plt.title('Loan Status by Previous Outcome Success')\n",
        "plt.legend(title='Loan Status', labels=['No', 'Yes'])\n",
        "plt.show()\n"
      ],
      "metadata": {
        "execution": {
          "iopub.status.busy": "2024-08-13T18:15:25.375243Z",
          "iopub.execute_input": "2024-08-13T18:15:25.375592Z",
          "iopub.status.idle": "2024-08-13T18:15:25.687056Z",
          "shell.execute_reply.started": "2024-08-13T18:15:25.375563Z",
          "shell.execute_reply": "2024-08-13T18:15:25.685896Z"
        },
        "trusted": true,
        "id": "YfqGTRMxarrT"
      },
      "execution_count": null,
      "outputs": []
    },
    {
      "cell_type": "code",
      "source": [
        "\n",
        "plt.figure(figsize=(6,4))\n",
        "sns.countplot(x='contact_cellular', hue='Loan_Status_label', data=df, palette='Set2')\n",
        "plt.xlabel('Contacted via Cellular (0: No, 1: Yes)')\n",
        "plt.ylabel('Count')\n",
        "plt.title('Loan Status by Contact Method')\n",
        "plt.legend(title='Loan Status', labels=['No', 'Yes'])\n",
        "plt.show()"
      ],
      "metadata": {
        "execution": {
          "iopub.status.busy": "2024-08-13T18:15:25.688705Z",
          "iopub.execute_input": "2024-08-13T18:15:25.689163Z",
          "iopub.status.idle": "2024-08-13T18:15:25.941271Z",
          "shell.execute_reply.started": "2024-08-13T18:15:25.689125Z",
          "shell.execute_reply": "2024-08-13T18:15:25.939945Z"
        },
        "trusted": true,
        "id": "v80ED4RNarrT"
      },
      "execution_count": null,
      "outputs": []
    },
    {
      "cell_type": "markdown",
      "source": [
        "## Split data into Training and Test Set"
      ],
      "metadata": {
        "id": "j6RqEry0arrT"
      }
    },
    {
      "cell_type": "code",
      "source": [
        "\n",
        "X_train, X_test, y_train , y_test = train_test_split(X, y , test_size=0.2, random_state=42)\n"
      ],
      "metadata": {
        "execution": {
          "iopub.status.busy": "2024-08-13T18:15:25.943092Z",
          "iopub.execute_input": "2024-08-13T18:15:25.943563Z",
          "iopub.status.idle": "2024-08-13T18:15:25.97333Z",
          "shell.execute_reply.started": "2024-08-13T18:15:25.943521Z",
          "shell.execute_reply": "2024-08-13T18:15:25.971922Z"
        },
        "trusted": true,
        "id": "AJN7pu-larrU"
      },
      "execution_count": null,
      "outputs": []
    },
    {
      "cell_type": "code",
      "source": [
        "X_train\n"
      ],
      "metadata": {
        "execution": {
          "iopub.status.busy": "2024-08-13T18:15:25.974901Z",
          "iopub.execute_input": "2024-08-13T18:15:25.975299Z",
          "iopub.status.idle": "2024-08-13T18:15:26.005962Z",
          "shell.execute_reply.started": "2024-08-13T18:15:25.975268Z",
          "shell.execute_reply": "2024-08-13T18:15:26.004607Z"
        },
        "trusted": true,
        "id": "kQ--VVyIarrU"
      },
      "execution_count": null,
      "outputs": []
    },
    {
      "cell_type": "code",
      "source": [
        "X_test"
      ],
      "metadata": {
        "execution": {
          "iopub.status.busy": "2024-08-13T18:15:26.007648Z",
          "iopub.execute_input": "2024-08-13T18:15:26.008114Z",
          "iopub.status.idle": "2024-08-13T18:15:26.037162Z",
          "shell.execute_reply.started": "2024-08-13T18:15:26.008081Z",
          "shell.execute_reply": "2024-08-13T18:15:26.035565Z"
        },
        "trusted": true,
        "id": "xgfJKk6marrU"
      },
      "execution_count": null,
      "outputs": []
    },
    {
      "cell_type": "markdown",
      "source": [
        "# Feature Scaling"
      ],
      "metadata": {
        "id": "pTGXdnnkarrV"
      }
    },
    {
      "cell_type": "code",
      "source": [
        "sc = StandardScaler()\n",
        "X_train_sc = sc.fit_transform(X_train)\n",
        "X_test_sc = sc.fit_transform(X_test)"
      ],
      "metadata": {
        "execution": {
          "iopub.status.busy": "2024-08-13T18:15:26.038768Z",
          "iopub.execute_input": "2024-08-13T18:15:26.039467Z",
          "iopub.status.idle": "2024-08-13T18:15:26.100065Z",
          "shell.execute_reply.started": "2024-08-13T18:15:26.039425Z",
          "shell.execute_reply": "2024-08-13T18:15:26.098426Z"
        },
        "trusted": true,
        "id": "Pj7sInO9arrV"
      },
      "execution_count": null,
      "outputs": []
    },
    {
      "cell_type": "code",
      "source": [
        "X_test_sc"
      ],
      "metadata": {
        "execution": {
          "iopub.status.busy": "2024-08-13T18:15:26.102073Z",
          "iopub.execute_input": "2024-08-13T18:15:26.102547Z",
          "iopub.status.idle": "2024-08-13T18:15:26.113017Z",
          "shell.execute_reply.started": "2024-08-13T18:15:26.102512Z",
          "shell.execute_reply": "2024-08-13T18:15:26.111339Z"
        },
        "trusted": true,
        "id": "y1AHtxzMarrV"
      },
      "execution_count": null,
      "outputs": []
    },
    {
      "cell_type": "code",
      "source": [
        "X_train_sc"
      ],
      "metadata": {
        "execution": {
          "iopub.status.busy": "2024-08-13T18:15:26.114629Z",
          "iopub.execute_input": "2024-08-13T18:15:26.115152Z",
          "iopub.status.idle": "2024-08-13T18:15:26.127804Z",
          "shell.execute_reply.started": "2024-08-13T18:15:26.11511Z",
          "shell.execute_reply": "2024-08-13T18:15:26.126245Z"
        },
        "trusted": true,
        "id": "b5P1X1d-arrV"
      },
      "execution_count": null,
      "outputs": []
    },
    {
      "cell_type": "code",
      "source": [],
      "metadata": {
        "id": "6udGoWpUarrW"
      },
      "execution_count": null,
      "outputs": []
    },
    {
      "cell_type": "markdown",
      "source": [
        "# Model Selection"
      ],
      "metadata": {
        "id": "37W5ZsrRarrW"
      }
    },
    {
      "cell_type": "markdown",
      "source": [
        "## Using Logistic Regression"
      ],
      "metadata": {
        "id": "lWdjASwfarrW"
      }
    },
    {
      "cell_type": "code",
      "source": [
        "lr = LogisticRegression()\n",
        "lr.fit(X_train , y_train)"
      ],
      "metadata": {
        "execution": {
          "iopub.status.busy": "2024-08-13T18:15:26.129372Z",
          "iopub.execute_input": "2024-08-13T18:15:26.12974Z",
          "iopub.status.idle": "2024-08-13T18:15:26.762635Z",
          "shell.execute_reply.started": "2024-08-13T18:15:26.12971Z",
          "shell.execute_reply": "2024-08-13T18:15:26.761003Z"
        },
        "trusted": true,
        "id": "W2_qtJZ1arrW"
      },
      "execution_count": null,
      "outputs": []
    },
    {
      "cell_type": "code",
      "source": [
        "print(f'Training Accuracy : {lr.score(X_train, y_train)}')\n",
        "print(f'Test Accuracy : {lr.score(X_test, y_test)}')\n"
      ],
      "metadata": {
        "execution": {
          "iopub.status.busy": "2024-08-13T18:15:26.764911Z",
          "iopub.execute_input": "2024-08-13T18:15:26.766392Z",
          "iopub.status.idle": "2024-08-13T18:15:26.819757Z",
          "shell.execute_reply.started": "2024-08-13T18:15:26.766317Z",
          "shell.execute_reply": "2024-08-13T18:15:26.818309Z"
        },
        "trusted": true,
        "id": "5gF-qUgLarrX"
      },
      "execution_count": null,
      "outputs": []
    },
    {
      "cell_type": "code",
      "source": [
        "# On Scaled Data\n",
        "\n",
        "lr = LogisticRegression()\n",
        "lr.fit(X_train_sc, y_train)\n"
      ],
      "metadata": {
        "execution": {
          "iopub.status.busy": "2024-08-13T18:15:26.822111Z",
          "iopub.execute_input": "2024-08-13T18:15:26.823107Z",
          "iopub.status.idle": "2024-08-13T18:15:27.022911Z",
          "shell.execute_reply.started": "2024-08-13T18:15:26.823047Z",
          "shell.execute_reply": "2024-08-13T18:15:27.021433Z"
        },
        "trusted": true,
        "id": "4enEBtY3arrY"
      },
      "execution_count": null,
      "outputs": []
    },
    {
      "cell_type": "code",
      "source": [
        "print(f'Training Accuracy : {lr.score(X_train_sc, y_train)}')\n",
        "print(f'Test Accuracy : {lr.score(X_test_sc, y_test)}')\n"
      ],
      "metadata": {
        "execution": {
          "iopub.status.busy": "2024-08-13T18:15:27.025302Z",
          "iopub.execute_input": "2024-08-13T18:15:27.026278Z",
          "iopub.status.idle": "2024-08-13T18:15:27.054316Z",
          "shell.execute_reply.started": "2024-08-13T18:15:27.026216Z",
          "shell.execute_reply": "2024-08-13T18:15:27.052828Z"
        },
        "trusted": true,
        "id": "ML3M39TiarrY"
      },
      "execution_count": null,
      "outputs": []
    },
    {
      "cell_type": "code",
      "source": [],
      "metadata": {
        "id": "LUiSHNbkarrY"
      },
      "execution_count": null,
      "outputs": []
    },
    {
      "cell_type": "markdown",
      "source": [
        "## Using DecisionTreeClassifier"
      ],
      "metadata": {
        "id": "VmYt8JcZarrZ"
      }
    },
    {
      "cell_type": "code",
      "source": [
        "dt = DecisionTreeClassifier(max_depth=5)\n",
        "dt.fit(X_train, y_train)\n"
      ],
      "metadata": {
        "execution": {
          "iopub.status.busy": "2024-08-13T18:15:27.056659Z",
          "iopub.execute_input": "2024-08-13T18:15:27.057675Z",
          "iopub.status.idle": "2024-08-13T18:15:27.221229Z",
          "shell.execute_reply.started": "2024-08-13T18:15:27.057613Z",
          "shell.execute_reply": "2024-08-13T18:15:27.219787Z"
        },
        "trusted": true,
        "id": "--L7Snqoarra"
      },
      "execution_count": null,
      "outputs": []
    },
    {
      "cell_type": "code",
      "source": [
        "print(f'Training Accuracy : {dt.score(X_train, y_train)}')\n",
        "print(f'Test Accuracy : {dt.score(X_test, y_test)}')\n"
      ],
      "metadata": {
        "execution": {
          "iopub.status.busy": "2024-08-13T18:15:27.222888Z",
          "iopub.execute_input": "2024-08-13T18:15:27.223474Z",
          "iopub.status.idle": "2024-08-13T18:15:27.248264Z",
          "shell.execute_reply.started": "2024-08-13T18:15:27.223429Z",
          "shell.execute_reply": "2024-08-13T18:15:27.246738Z"
        },
        "trusted": true,
        "id": "hHy6yqyRarra"
      },
      "execution_count": null,
      "outputs": []
    },
    {
      "cell_type": "code",
      "source": [],
      "metadata": {
        "id": "9tPWDYYnarrb"
      },
      "execution_count": null,
      "outputs": []
    },
    {
      "cell_type": "markdown",
      "source": [
        "## Using RandomForestClassifier"
      ],
      "metadata": {
        "id": "MGxDbNZNarrb"
      }
    },
    {
      "cell_type": "code",
      "source": [
        "rfc = RandomForestClassifier(n_estimators=100, random_state=42)\n",
        "\n",
        "rfc.fit(X_train, y_train)"
      ],
      "metadata": {
        "execution": {
          "iopub.status.busy": "2024-08-13T18:15:27.249694Z",
          "iopub.execute_input": "2024-08-13T18:15:27.250137Z",
          "iopub.status.idle": "2024-08-13T18:15:32.312256Z",
          "shell.execute_reply.started": "2024-08-13T18:15:27.250106Z",
          "shell.execute_reply": "2024-08-13T18:15:32.311026Z"
        },
        "trusted": true,
        "id": "tGXGwzraarrb"
      },
      "execution_count": null,
      "outputs": []
    },
    {
      "cell_type": "code",
      "source": [
        "print(f'Training Accuracy : {rfc.score(X_train, y_train)}')\n",
        "print(f'Test Accuracy : {rfc.score(X_test, y_test)}')\n"
      ],
      "metadata": {
        "execution": {
          "iopub.status.busy": "2024-08-13T18:15:32.313792Z",
          "iopub.execute_input": "2024-08-13T18:15:32.314166Z",
          "iopub.status.idle": "2024-08-13T18:15:33.485291Z",
          "shell.execute_reply.started": "2024-08-13T18:15:32.314136Z",
          "shell.execute_reply": "2024-08-13T18:15:33.484118Z"
        },
        "trusted": true,
        "id": "_A0ozllGarrc"
      },
      "execution_count": null,
      "outputs": []
    },
    {
      "cell_type": "code",
      "source": [],
      "metadata": {
        "id": "SoR3IKR4arrc"
      },
      "execution_count": null,
      "outputs": []
    },
    {
      "cell_type": "markdown",
      "source": [
        "## Using XGBClassifier"
      ],
      "metadata": {
        "id": "0eNStlRZarrc"
      }
    },
    {
      "cell_type": "code",
      "source": [
        "xgb = XGBClassifier(gamma=0.7, reg_alpha=0.5, reg_lambda=0.2)\n",
        "xgb.fit(X_train ,y_train)\n"
      ],
      "metadata": {
        "execution": {
          "iopub.status.busy": "2024-08-13T18:15:33.486642Z",
          "iopub.execute_input": "2024-08-13T18:15:33.487008Z",
          "iopub.status.idle": "2024-08-13T18:15:33.977095Z",
          "shell.execute_reply.started": "2024-08-13T18:15:33.486979Z",
          "shell.execute_reply": "2024-08-13T18:15:33.976046Z"
        },
        "trusted": true,
        "id": "UEI__6Aparrc"
      },
      "execution_count": null,
      "outputs": []
    },
    {
      "cell_type": "code",
      "source": [
        "print(f'Training Accuracy : {xgb.score(X_train, y_train)}')\n",
        "print(f'Test Accuracy : {xgb.score(X_test, y_test)}')\n"
      ],
      "metadata": {
        "execution": {
          "iopub.status.busy": "2024-08-13T18:15:33.981456Z",
          "iopub.execute_input": "2024-08-13T18:15:33.982502Z",
          "iopub.status.idle": "2024-08-13T18:15:34.050946Z",
          "shell.execute_reply.started": "2024-08-13T18:15:33.982455Z",
          "shell.execute_reply": "2024-08-13T18:15:34.049776Z"
        },
        "trusted": true,
        "id": "d0TiCDoNarrc"
      },
      "execution_count": null,
      "outputs": []
    },
    {
      "cell_type": "code",
      "source": [],
      "metadata": {
        "id": "DI7TVnakarrd"
      },
      "execution_count": null,
      "outputs": []
    },
    {
      "cell_type": "code",
      "source": [
        "y_pred_xgtr = xgb.predict(X_train)\n",
        "y_pred_xgts = xgb.predict(X_test)\n"
      ],
      "metadata": {
        "execution": {
          "iopub.status.busy": "2024-08-13T18:15:34.055509Z",
          "iopub.execute_input": "2024-08-13T18:15:34.056485Z",
          "iopub.status.idle": "2024-08-13T18:15:34.112891Z",
          "shell.execute_reply.started": "2024-08-13T18:15:34.05644Z",
          "shell.execute_reply": "2024-08-13T18:15:34.111957Z"
        },
        "trusted": true,
        "id": "NB0oWJfaarrd"
      },
      "execution_count": null,
      "outputs": []
    },
    {
      "cell_type": "code",
      "source": [
        "X_train[:3]\n"
      ],
      "metadata": {
        "execution": {
          "iopub.status.busy": "2024-08-13T18:15:34.114594Z",
          "iopub.execute_input": "2024-08-13T18:15:34.115508Z",
          "iopub.status.idle": "2024-08-13T18:15:34.140003Z",
          "shell.execute_reply.started": "2024-08-13T18:15:34.115464Z",
          "shell.execute_reply": "2024-08-13T18:15:34.138782Z"
        },
        "trusted": true,
        "id": "90-OW_1Oarrd"
      },
      "execution_count": null,
      "outputs": []
    },
    {
      "cell_type": "code",
      "source": [
        "y_train[:3]\n"
      ],
      "metadata": {
        "execution": {
          "iopub.status.busy": "2024-08-13T18:15:34.141949Z",
          "iopub.execute_input": "2024-08-13T18:15:34.142781Z",
          "iopub.status.idle": "2024-08-13T18:15:34.152179Z",
          "shell.execute_reply.started": "2024-08-13T18:15:34.142711Z",
          "shell.execute_reply": "2024-08-13T18:15:34.150891Z"
        },
        "trusted": true,
        "id": "aLDyS-wIarrd"
      },
      "execution_count": null,
      "outputs": []
    },
    {
      "cell_type": "code",
      "source": [
        "y_pred_xgtr[:3]\n"
      ],
      "metadata": {
        "execution": {
          "iopub.status.busy": "2024-08-13T18:15:34.153676Z",
          "iopub.execute_input": "2024-08-13T18:15:34.15436Z",
          "iopub.status.idle": "2024-08-13T18:15:34.164677Z",
          "shell.execute_reply.started": "2024-08-13T18:15:34.154317Z",
          "shell.execute_reply": "2024-08-13T18:15:34.163462Z"
        },
        "trusted": true,
        "id": "AZ-2boFWarrd"
      },
      "execution_count": null,
      "outputs": []
    },
    {
      "cell_type": "code",
      "source": [],
      "metadata": {
        "id": "yLSvHt1Garre"
      },
      "execution_count": null,
      "outputs": []
    },
    {
      "cell_type": "code",
      "source": [
        "confusion_matrix(y_train, y_pred_xgtr)\n"
      ],
      "metadata": {
        "execution": {
          "iopub.status.busy": "2024-08-13T18:15:34.166348Z",
          "iopub.execute_input": "2024-08-13T18:15:34.167142Z",
          "iopub.status.idle": "2024-08-13T18:15:34.187999Z",
          "shell.execute_reply.started": "2024-08-13T18:15:34.167108Z",
          "shell.execute_reply": "2024-08-13T18:15:34.185919Z"
        },
        "trusted": true,
        "id": "SSH654yTarre"
      },
      "execution_count": null,
      "outputs": []
    },
    {
      "cell_type": "code",
      "source": [
        "sns.heatmap(confusion_matrix(y_train, y_pred_xgtr), annot=True, fmt='.4g')\n"
      ],
      "metadata": {
        "execution": {
          "iopub.status.busy": "2024-08-13T18:15:34.19049Z",
          "iopub.execute_input": "2024-08-13T18:15:34.190987Z",
          "iopub.status.idle": "2024-08-13T18:15:34.513048Z",
          "shell.execute_reply.started": "2024-08-13T18:15:34.190952Z",
          "shell.execute_reply": "2024-08-13T18:15:34.511804Z"
        },
        "trusted": true,
        "id": "LcQm3BdLarre"
      },
      "execution_count": null,
      "outputs": []
    },
    {
      "cell_type": "code",
      "source": [
        "accuracy_score(y_train, y_pred_xgtr)\n"
      ],
      "metadata": {
        "execution": {
          "iopub.status.busy": "2024-08-13T18:15:34.514641Z",
          "iopub.execute_input": "2024-08-13T18:15:34.515088Z",
          "iopub.status.idle": "2024-08-13T18:15:34.526278Z",
          "shell.execute_reply.started": "2024-08-13T18:15:34.515056Z",
          "shell.execute_reply": "2024-08-13T18:15:34.524905Z"
        },
        "trusted": true,
        "id": "R4Q6EZB6arre"
      },
      "execution_count": null,
      "outputs": []
    },
    {
      "cell_type": "code",
      "source": [],
      "metadata": {
        "id": "oz0EKhC5arre"
      },
      "execution_count": null,
      "outputs": []
    },
    {
      "cell_type": "code",
      "source": [
        "print(classification_report(y_train, y_pred_xgtr))\n"
      ],
      "metadata": {
        "execution": {
          "iopub.status.busy": "2024-08-13T18:15:34.527915Z",
          "iopub.execute_input": "2024-08-13T18:15:34.528502Z",
          "iopub.status.idle": "2024-08-13T18:15:34.589066Z",
          "shell.execute_reply.started": "2024-08-13T18:15:34.528466Z",
          "shell.execute_reply": "2024-08-13T18:15:34.587736Z"
        },
        "trusted": true,
        "id": "1hPy6U_Earre"
      },
      "execution_count": null,
      "outputs": []
    },
    {
      "cell_type": "code",
      "source": [],
      "metadata": {
        "id": "Vp48dtbparrf"
      },
      "execution_count": null,
      "outputs": []
    },
    {
      "cell_type": "code",
      "source": [
        "#TEST\n",
        "\n",
        "confusion_matrix(y_test, y_pred_xgts)\n"
      ],
      "metadata": {
        "execution": {
          "iopub.status.busy": "2024-08-13T18:15:34.590363Z",
          "iopub.execute_input": "2024-08-13T18:15:34.590682Z",
          "iopub.status.idle": "2024-08-13T18:15:34.601719Z",
          "shell.execute_reply.started": "2024-08-13T18:15:34.590656Z",
          "shell.execute_reply": "2024-08-13T18:15:34.600465Z"
        },
        "trusted": true,
        "id": "B0AE6CRxarrf"
      },
      "execution_count": null,
      "outputs": []
    },
    {
      "cell_type": "code",
      "source": [
        "sns.heatmap(confusion_matrix(y_test, y_pred_xgts), annot=True, fmt='.3g')\n"
      ],
      "metadata": {
        "execution": {
          "iopub.status.busy": "2024-08-13T18:15:34.603435Z",
          "iopub.execute_input": "2024-08-13T18:15:34.603864Z",
          "iopub.status.idle": "2024-08-13T18:15:34.923396Z",
          "shell.execute_reply.started": "2024-08-13T18:15:34.603812Z",
          "shell.execute_reply": "2024-08-13T18:15:34.922034Z"
        },
        "trusted": true,
        "id": "wCgMcvnkarrf"
      },
      "execution_count": null,
      "outputs": []
    },
    {
      "cell_type": "code",
      "source": [
        "accuracy_score(y_test, y_pred_xgts)\n"
      ],
      "metadata": {
        "execution": {
          "iopub.status.busy": "2024-08-13T18:15:34.924512Z",
          "iopub.execute_input": "2024-08-13T18:15:34.924961Z",
          "iopub.status.idle": "2024-08-13T18:15:34.936707Z",
          "shell.execute_reply.started": "2024-08-13T18:15:34.924901Z",
          "shell.execute_reply": "2024-08-13T18:15:34.935056Z"
        },
        "trusted": true,
        "id": "sgbhvBlnarrf"
      },
      "execution_count": null,
      "outputs": []
    },
    {
      "cell_type": "code",
      "source": [],
      "metadata": {
        "id": "1LRzo79harrf"
      },
      "execution_count": null,
      "outputs": []
    },
    {
      "cell_type": "markdown",
      "source": [
        "# Hyperparameter Tuning"
      ],
      "metadata": {
        "id": "BE5jVMy5arrf"
      }
    },
    {
      "cell_type": "code",
      "source": [],
      "metadata": {
        "id": "nfGxFjekarrf"
      },
      "execution_count": null,
      "outputs": []
    },
    {
      "cell_type": "code",
      "source": [
        "parameters = {\n",
        "    'n_estimators' : [100, 200],\n",
        "    'learning_rate' : [0.1,0.01,1.0,0.05],\n",
        "    'max_depth' : [3,4,5],\n",
        "    'gamma' : [0.2,0.3],\n",
        "    'reg_alpha' : [0.1,1,0.2],\n",
        "    'reg_lambda' : [0.1,1]\n",
        "}\n",
        "\n",
        "parameters\n"
      ],
      "metadata": {
        "execution": {
          "iopub.status.busy": "2024-08-13T18:15:34.938958Z",
          "iopub.execute_input": "2024-08-13T18:15:34.93939Z",
          "iopub.status.idle": "2024-08-13T18:15:34.951921Z",
          "shell.execute_reply.started": "2024-08-13T18:15:34.939358Z",
          "shell.execute_reply": "2024-08-13T18:15:34.950263Z"
        },
        "trusted": true,
        "id": "gpkpY6Ttarrg"
      },
      "execution_count": null,
      "outputs": []
    },
    {
      "cell_type": "code",
      "source": [],
      "metadata": {
        "id": "TWvVBgmGarrg"
      },
      "execution_count": null,
      "outputs": []
    },
    {
      "cell_type": "code",
      "source": [
        "# perform GridSearchCV\n",
        "\n",
        "grid_search = GridSearchCV(estimator=xgb, param_grid=parameters, scoring='accuracy', cv=5, verbose=3)\n",
        "grid_search.fit(X_train, y_train)\n"
      ],
      "metadata": {
        "execution": {
          "iopub.status.busy": "2024-08-13T18:15:34.953942Z",
          "iopub.execute_input": "2024-08-13T18:15:34.954483Z",
          "iopub.status.idle": "2024-08-13T18:31:28.639695Z",
          "shell.execute_reply.started": "2024-08-13T18:15:34.95444Z",
          "shell.execute_reply": "2024-08-13T18:31:28.638417Z"
        },
        "trusted": true,
        "id": "-sfwvDxSarrg"
      },
      "execution_count": null,
      "outputs": []
    },
    {
      "cell_type": "code",
      "source": [
        "print(f'Best Selected Hyperparamters : \\n\\n{grid_search.best_params_}\\n')\n",
        "\n",
        "print(f'Best Estimators : \\n\\n{grid_search.best_estimator_}')\n"
      ],
      "metadata": {
        "execution": {
          "iopub.status.busy": "2024-08-13T18:31:28.641312Z",
          "iopub.execute_input": "2024-08-13T18:31:28.641674Z",
          "iopub.status.idle": "2024-08-13T18:31:28.649835Z",
          "shell.execute_reply.started": "2024-08-13T18:31:28.641644Z",
          "shell.execute_reply": "2024-08-13T18:31:28.64856Z"
        },
        "trusted": true,
        "id": "sL59ZvOGarrg"
      },
      "execution_count": null,
      "outputs": []
    },
    {
      "cell_type": "code",
      "source": [
        "\n",
        "print(f'Training Accuracy : {grid_search.score(X_train, y_train)}')\n",
        "print(f'Test Accuracy : {grid_search.score(X_test, y_test)}')\n"
      ],
      "metadata": {
        "execution": {
          "iopub.status.busy": "2024-08-13T18:31:28.651335Z",
          "iopub.execute_input": "2024-08-13T18:31:28.651709Z",
          "iopub.status.idle": "2024-08-13T18:31:28.738365Z",
          "shell.execute_reply.started": "2024-08-13T18:31:28.651679Z",
          "shell.execute_reply": "2024-08-13T18:31:28.737447Z"
        },
        "trusted": true,
        "id": "OYI8mt9Carrg"
      },
      "execution_count": null,
      "outputs": []
    },
    {
      "cell_type": "code",
      "source": [],
      "metadata": {
        "id": "SZDjOgUUarrg"
      },
      "execution_count": null,
      "outputs": []
    },
    {
      "cell_type": "code",
      "source": [],
      "metadata": {
        "id": "FXiVW0fwarrh"
      },
      "execution_count": null,
      "outputs": []
    },
    {
      "cell_type": "code",
      "source": [],
      "metadata": {
        "id": "fqvfVEPRarrh"
      },
      "execution_count": null,
      "outputs": []
    },
    {
      "cell_type": "code",
      "source": [],
      "metadata": {
        "id": "hdw0rcNwarrh"
      },
      "execution_count": null,
      "outputs": []
    },
    {
      "cell_type": "code",
      "source": [],
      "metadata": {
        "id": "jKwMAa-rarrh"
      },
      "execution_count": null,
      "outputs": []
    }
  ]
}