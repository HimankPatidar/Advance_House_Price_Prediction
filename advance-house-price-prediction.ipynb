{
 "cells": [
  {
   "cell_type": "markdown",
   "id": "3e1ca272",
   "metadata": {
    "papermill": {
     "duration": 0.019246,
     "end_time": "2024-08-10T07:31:18.818107",
     "exception": false,
     "start_time": "2024-08-10T07:31:18.798861",
     "status": "completed"
    },
    "tags": []
   },
   "source": [
    "# STEPS : \n",
    "\n",
    "## Import Relevent Libraries/Modules\n",
    "\n",
    "#### Basic EDA\n",
    "    # Missing Data\n",
    "    # Duplicate Data\n",
    "    # Outliers or Anomalies\n",
    "    # Data Visulaization\n",
    "    # Feture Encoding\n",
    "    # Feature Selection\n",
    "    \n",
    "#### Model Building\n",
    "    # Seprate your Independent and Dependent data\n",
    "    # Split your data into Training and Test Set\n",
    "    # Model Selection\n",
    "    # Model Training\n",
    "    # Model Prediction\n",
    "    # Model Evaluation\n"
   ]
  },
  {
   "cell_type": "code",
   "execution_count": 1,
   "id": "1965e31a",
   "metadata": {
    "execution": {
     "iopub.execute_input": "2024-08-10T07:31:18.858766Z",
     "iopub.status.busy": "2024-08-10T07:31:18.858352Z",
     "iopub.status.idle": "2024-08-10T07:31:22.070450Z",
     "shell.execute_reply": "2024-08-10T07:31:22.069089Z"
    },
    "papermill": {
     "duration": 3.23658,
     "end_time": "2024-08-10T07:31:22.073613",
     "exception": false,
     "start_time": "2024-08-10T07:31:18.837033",
     "status": "completed"
    },
    "tags": []
   },
   "outputs": [],
   "source": [
    "import numpy as np\n",
    "import pandas as pd\n",
    "import matplotlib.pyplot as plt\n",
    "import seaborn as sns\n",
    "\n",
    "from sklearn.model_selection import train_test_split\n",
    "from sklearn.linear_model import LinearRegression\n",
    "from sklearn.tree import DecisionTreeRegressor\n",
    "from sklearn.ensemble import GradientBoostingRegressor\n",
    "\n",
    "import xgboost\n",
    "from xgboost import XGBRegressor\n",
    "\n",
    "from sklearn.metrics import mean_squared_error, mean_absolute_error, r2_score\n",
    "\n",
    "import warnings\n",
    "warnings.filterwarnings(\"ignore\")"
   ]
  },
  {
   "cell_type": "markdown",
   "id": "d0024e67",
   "metadata": {
    "papermill": {
     "duration": 0.018514,
     "end_time": "2024-08-10T07:31:22.111311",
     "exception": false,
     "start_time": "2024-08-10T07:31:22.092797",
     "status": "completed"
    },
    "tags": []
   },
   "source": [
    "# Load the Dataset"
   ]
  },
  {
   "cell_type": "code",
   "execution_count": 2,
   "id": "f6ac4cd8",
   "metadata": {
    "execution": {
     "iopub.execute_input": "2024-08-10T07:31:22.151281Z",
     "iopub.status.busy": "2024-08-10T07:31:22.150773Z",
     "iopub.status.idle": "2024-08-10T07:31:22.243619Z",
     "shell.execute_reply": "2024-08-10T07:31:22.242315Z"
    },
    "papermill": {
     "duration": 0.115799,
     "end_time": "2024-08-10T07:31:22.245998",
     "exception": false,
     "start_time": "2024-08-10T07:31:22.130199",
     "status": "completed"
    },
    "tags": []
   },
   "outputs": [
    {
     "data": {
      "text/html": [
       "<div>\n",
       "<style scoped>\n",
       "    .dataframe tbody tr th:only-of-type {\n",
       "        vertical-align: middle;\n",
       "    }\n",
       "\n",
       "    .dataframe tbody tr th {\n",
       "        vertical-align: top;\n",
       "    }\n",
       "\n",
       "    .dataframe thead th {\n",
       "        text-align: right;\n",
       "    }\n",
       "</style>\n",
       "<table border=\"1\" class=\"dataframe\">\n",
       "  <thead>\n",
       "    <tr style=\"text-align: right;\">\n",
       "      <th></th>\n",
       "      <th>Avg. Area Income</th>\n",
       "      <th>Avg. Area House Age</th>\n",
       "      <th>Avg. Area Number of Rooms</th>\n",
       "      <th>Avg. Area Number of Bedrooms</th>\n",
       "      <th>Area Population</th>\n",
       "      <th>Price</th>\n",
       "      <th>Address</th>\n",
       "    </tr>\n",
       "  </thead>\n",
       "  <tbody>\n",
       "    <tr>\n",
       "      <th>0</th>\n",
       "      <td>79545.458574</td>\n",
       "      <td>5.682861</td>\n",
       "      <td>7.009188</td>\n",
       "      <td>4.09</td>\n",
       "      <td>23086.800503</td>\n",
       "      <td>1.059034e+06</td>\n",
       "      <td>208 Michael Ferry Apt. 674\\nLaurabury, NE 3701...</td>\n",
       "    </tr>\n",
       "    <tr>\n",
       "      <th>1</th>\n",
       "      <td>79248.642455</td>\n",
       "      <td>6.002900</td>\n",
       "      <td>6.730821</td>\n",
       "      <td>3.09</td>\n",
       "      <td>40173.072174</td>\n",
       "      <td>1.505891e+06</td>\n",
       "      <td>188 Johnson Views Suite 079\\nLake Kathleen, CA...</td>\n",
       "    </tr>\n",
       "    <tr>\n",
       "      <th>2</th>\n",
       "      <td>61287.067179</td>\n",
       "      <td>5.865890</td>\n",
       "      <td>8.512727</td>\n",
       "      <td>5.13</td>\n",
       "      <td>36882.159400</td>\n",
       "      <td>1.058988e+06</td>\n",
       "      <td>9127 Elizabeth Stravenue\\nDanieltown, WI 06482...</td>\n",
       "    </tr>\n",
       "    <tr>\n",
       "      <th>3</th>\n",
       "      <td>63345.240046</td>\n",
       "      <td>7.188236</td>\n",
       "      <td>5.586729</td>\n",
       "      <td>3.26</td>\n",
       "      <td>34310.242831</td>\n",
       "      <td>1.260617e+06</td>\n",
       "      <td>USS Barnett\\nFPO AP 44820</td>\n",
       "    </tr>\n",
       "    <tr>\n",
       "      <th>4</th>\n",
       "      <td>59982.197226</td>\n",
       "      <td>5.040555</td>\n",
       "      <td>7.839388</td>\n",
       "      <td>4.23</td>\n",
       "      <td>26354.109472</td>\n",
       "      <td>6.309435e+05</td>\n",
       "      <td>USNS Raymond\\nFPO AE 09386</td>\n",
       "    </tr>\n",
       "  </tbody>\n",
       "</table>\n",
       "</div>"
      ],
      "text/plain": [
       "   Avg. Area Income  Avg. Area House Age  Avg. Area Number of Rooms  \\\n",
       "0      79545.458574             5.682861                   7.009188   \n",
       "1      79248.642455             6.002900                   6.730821   \n",
       "2      61287.067179             5.865890                   8.512727   \n",
       "3      63345.240046             7.188236                   5.586729   \n",
       "4      59982.197226             5.040555                   7.839388   \n",
       "\n",
       "   Avg. Area Number of Bedrooms  Area Population         Price  \\\n",
       "0                          4.09     23086.800503  1.059034e+06   \n",
       "1                          3.09     40173.072174  1.505891e+06   \n",
       "2                          5.13     36882.159400  1.058988e+06   \n",
       "3                          3.26     34310.242831  1.260617e+06   \n",
       "4                          4.23     26354.109472  6.309435e+05   \n",
       "\n",
       "                                             Address  \n",
       "0  208 Michael Ferry Apt. 674\\nLaurabury, NE 3701...  \n",
       "1  188 Johnson Views Suite 079\\nLake Kathleen, CA...  \n",
       "2  9127 Elizabeth Stravenue\\nDanieltown, WI 06482...  \n",
       "3                          USS Barnett\\nFPO AP 44820  \n",
       "4                         USNS Raymond\\nFPO AE 09386  "
      ]
     },
     "execution_count": 2,
     "metadata": {},
     "output_type": "execute_result"
    }
   ],
   "source": [
    "df = pd.read_csv(\"/kaggle/input/usa-housing/USA_Housing.csv\")\n",
    "df.head()"
   ]
  },
  {
   "cell_type": "code",
   "execution_count": 3,
   "id": "ebbc70e5",
   "metadata": {
    "execution": {
     "iopub.execute_input": "2024-08-10T07:31:22.287346Z",
     "iopub.status.busy": "2024-08-10T07:31:22.286621Z",
     "iopub.status.idle": "2024-08-10T07:31:22.293807Z",
     "shell.execute_reply": "2024-08-10T07:31:22.292665Z"
    },
    "papermill": {
     "duration": 0.030796,
     "end_time": "2024-08-10T07:31:22.296307",
     "exception": false,
     "start_time": "2024-08-10T07:31:22.265511",
     "status": "completed"
    },
    "tags": []
   },
   "outputs": [
    {
     "data": {
      "text/plain": [
       "(5000, 7)"
      ]
     },
     "execution_count": 3,
     "metadata": {},
     "output_type": "execute_result"
    }
   ],
   "source": [
    "df.shape"
   ]
  },
  {
   "cell_type": "code",
   "execution_count": null,
   "id": "a2620c91",
   "metadata": {
    "papermill": {
     "duration": 0.018832,
     "end_time": "2024-08-10T07:31:22.334207",
     "exception": false,
     "start_time": "2024-08-10T07:31:22.315375",
     "status": "completed"
    },
    "tags": []
   },
   "outputs": [],
   "source": []
  },
  {
   "cell_type": "markdown",
   "id": "2da32b19",
   "metadata": {
    "papermill": {
     "duration": 0.018615,
     "end_time": "2024-08-10T07:31:22.371944",
     "exception": false,
     "start_time": "2024-08-10T07:31:22.353329",
     "status": "completed"
    },
    "tags": []
   },
   "source": [
    "# Basic EDA"
   ]
  },
  {
   "cell_type": "code",
   "execution_count": 4,
   "id": "8020303c",
   "metadata": {
    "execution": {
     "iopub.execute_input": "2024-08-10T07:31:22.412666Z",
     "iopub.status.busy": "2024-08-10T07:31:22.411608Z",
     "iopub.status.idle": "2024-08-10T07:31:22.426901Z",
     "shell.execute_reply": "2024-08-10T07:31:22.425576Z"
    },
    "papermill": {
     "duration": 0.038301,
     "end_time": "2024-08-10T07:31:22.429210",
     "exception": false,
     "start_time": "2024-08-10T07:31:22.390909",
     "status": "completed"
    },
    "tags": []
   },
   "outputs": [
    {
     "data": {
      "text/html": [
       "<div>\n",
       "<style scoped>\n",
       "    .dataframe tbody tr th:only-of-type {\n",
       "        vertical-align: middle;\n",
       "    }\n",
       "\n",
       "    .dataframe tbody tr th {\n",
       "        vertical-align: top;\n",
       "    }\n",
       "\n",
       "    .dataframe thead th {\n",
       "        text-align: right;\n",
       "    }\n",
       "</style>\n",
       "<table border=\"1\" class=\"dataframe\">\n",
       "  <thead>\n",
       "    <tr style=\"text-align: right;\">\n",
       "      <th></th>\n",
       "      <th>Avg. Area Income</th>\n",
       "      <th>Avg. Area House Age</th>\n",
       "      <th>Avg. Area Number of Rooms</th>\n",
       "      <th>Avg. Area Number of Bedrooms</th>\n",
       "      <th>Area Population</th>\n",
       "      <th>Price</th>\n",
       "      <th>Address</th>\n",
       "    </tr>\n",
       "  </thead>\n",
       "  <tbody>\n",
       "    <tr>\n",
       "      <th>4995</th>\n",
       "      <td>60567.944140</td>\n",
       "      <td>7.830362</td>\n",
       "      <td>6.137356</td>\n",
       "      <td>3.46</td>\n",
       "      <td>22837.361035</td>\n",
       "      <td>1.060194e+06</td>\n",
       "      <td>USNS Williams\\nFPO AP 30153-7653</td>\n",
       "    </tr>\n",
       "    <tr>\n",
       "      <th>4996</th>\n",
       "      <td>78491.275435</td>\n",
       "      <td>6.999135</td>\n",
       "      <td>6.576763</td>\n",
       "      <td>4.02</td>\n",
       "      <td>25616.115489</td>\n",
       "      <td>1.482618e+06</td>\n",
       "      <td>PSC 9258, Box 8489\\nAPO AA 42991-3352</td>\n",
       "    </tr>\n",
       "    <tr>\n",
       "      <th>4997</th>\n",
       "      <td>63390.686886</td>\n",
       "      <td>7.250591</td>\n",
       "      <td>4.805081</td>\n",
       "      <td>2.13</td>\n",
       "      <td>33266.145490</td>\n",
       "      <td>1.030730e+06</td>\n",
       "      <td>4215 Tracy Garden Suite 076\\nJoshualand, VA 01...</td>\n",
       "    </tr>\n",
       "    <tr>\n",
       "      <th>4998</th>\n",
       "      <td>68001.331235</td>\n",
       "      <td>5.534388</td>\n",
       "      <td>7.130144</td>\n",
       "      <td>5.44</td>\n",
       "      <td>42625.620156</td>\n",
       "      <td>1.198657e+06</td>\n",
       "      <td>USS Wallace\\nFPO AE 73316</td>\n",
       "    </tr>\n",
       "    <tr>\n",
       "      <th>4999</th>\n",
       "      <td>65510.581804</td>\n",
       "      <td>5.992305</td>\n",
       "      <td>6.792336</td>\n",
       "      <td>4.07</td>\n",
       "      <td>46501.283803</td>\n",
       "      <td>1.298950e+06</td>\n",
       "      <td>37778 George Ridges Apt. 509\\nEast Holly, NV 2...</td>\n",
       "    </tr>\n",
       "  </tbody>\n",
       "</table>\n",
       "</div>"
      ],
      "text/plain": [
       "      Avg. Area Income  Avg. Area House Age  Avg. Area Number of Rooms  \\\n",
       "4995      60567.944140             7.830362                   6.137356   \n",
       "4996      78491.275435             6.999135                   6.576763   \n",
       "4997      63390.686886             7.250591                   4.805081   \n",
       "4998      68001.331235             5.534388                   7.130144   \n",
       "4999      65510.581804             5.992305                   6.792336   \n",
       "\n",
       "      Avg. Area Number of Bedrooms  Area Population         Price  \\\n",
       "4995                          3.46     22837.361035  1.060194e+06   \n",
       "4996                          4.02     25616.115489  1.482618e+06   \n",
       "4997                          2.13     33266.145490  1.030730e+06   \n",
       "4998                          5.44     42625.620156  1.198657e+06   \n",
       "4999                          4.07     46501.283803  1.298950e+06   \n",
       "\n",
       "                                                Address  \n",
       "4995                   USNS Williams\\nFPO AP 30153-7653  \n",
       "4996              PSC 9258, Box 8489\\nAPO AA 42991-3352  \n",
       "4997  4215 Tracy Garden Suite 076\\nJoshualand, VA 01...  \n",
       "4998                          USS Wallace\\nFPO AE 73316  \n",
       "4999  37778 George Ridges Apt. 509\\nEast Holly, NV 2...  "
      ]
     },
     "execution_count": 4,
     "metadata": {},
     "output_type": "execute_result"
    }
   ],
   "source": [
    "df.tail()"
   ]
  },
  {
   "cell_type": "code",
   "execution_count": 5,
   "id": "0171772c",
   "metadata": {
    "execution": {
     "iopub.execute_input": "2024-08-10T07:31:22.469838Z",
     "iopub.status.busy": "2024-08-10T07:31:22.469427Z",
     "iopub.status.idle": "2024-08-10T07:31:22.495446Z",
     "shell.execute_reply": "2024-08-10T07:31:22.494005Z"
    },
    "papermill": {
     "duration": 0.049408,
     "end_time": "2024-08-10T07:31:22.497892",
     "exception": false,
     "start_time": "2024-08-10T07:31:22.448484",
     "status": "completed"
    },
    "tags": []
   },
   "outputs": [
    {
     "name": "stdout",
     "output_type": "stream",
     "text": [
      "<class 'pandas.core.frame.DataFrame'>\n",
      "RangeIndex: 5000 entries, 0 to 4999\n",
      "Data columns (total 7 columns):\n",
      " #   Column                        Non-Null Count  Dtype  \n",
      "---  ------                        --------------  -----  \n",
      " 0   Avg. Area Income              5000 non-null   float64\n",
      " 1   Avg. Area House Age           5000 non-null   float64\n",
      " 2   Avg. Area Number of Rooms     5000 non-null   float64\n",
      " 3   Avg. Area Number of Bedrooms  5000 non-null   float64\n",
      " 4   Area Population               5000 non-null   float64\n",
      " 5   Price                         5000 non-null   float64\n",
      " 6   Address                       5000 non-null   object \n",
      "dtypes: float64(6), object(1)\n",
      "memory usage: 273.6+ KB\n"
     ]
    }
   ],
   "source": [
    "df.info()"
   ]
  },
  {
   "cell_type": "code",
   "execution_count": 6,
   "id": "2e8036b4",
   "metadata": {
    "execution": {
     "iopub.execute_input": "2024-08-10T07:31:22.541136Z",
     "iopub.status.busy": "2024-08-10T07:31:22.540773Z",
     "iopub.status.idle": "2024-08-10T07:31:22.547850Z",
     "shell.execute_reply": "2024-08-10T07:31:22.546786Z"
    },
    "papermill": {
     "duration": 0.030157,
     "end_time": "2024-08-10T07:31:22.550094",
     "exception": false,
     "start_time": "2024-08-10T07:31:22.519937",
     "status": "completed"
    },
    "tags": []
   },
   "outputs": [
    {
     "data": {
      "text/plain": [
       "Index(['Avg. Area Income', 'Avg. Area House Age', 'Avg. Area Number of Rooms',\n",
       "       'Avg. Area Number of Bedrooms', 'Area Population', 'Price', 'Address'],\n",
       "      dtype='object')"
      ]
     },
     "execution_count": 6,
     "metadata": {},
     "output_type": "execute_result"
    }
   ],
   "source": [
    "df.columns"
   ]
  },
  {
   "cell_type": "code",
   "execution_count": 7,
   "id": "7db2f857",
   "metadata": {
    "execution": {
     "iopub.execute_input": "2024-08-10T07:31:22.647015Z",
     "iopub.status.busy": "2024-08-10T07:31:22.646657Z",
     "iopub.status.idle": "2024-08-10T07:31:22.676076Z",
     "shell.execute_reply": "2024-08-10T07:31:22.674815Z"
    },
    "papermill": {
     "duration": 0.109153,
     "end_time": "2024-08-10T07:31:22.678702",
     "exception": false,
     "start_time": "2024-08-10T07:31:22.569549",
     "status": "completed"
    },
    "tags": []
   },
   "outputs": [
    {
     "data": {
      "text/html": [
       "<div>\n",
       "<style scoped>\n",
       "    .dataframe tbody tr th:only-of-type {\n",
       "        vertical-align: middle;\n",
       "    }\n",
       "\n",
       "    .dataframe tbody tr th {\n",
       "        vertical-align: top;\n",
       "    }\n",
       "\n",
       "    .dataframe thead th {\n",
       "        text-align: right;\n",
       "    }\n",
       "</style>\n",
       "<table border=\"1\" class=\"dataframe\">\n",
       "  <thead>\n",
       "    <tr style=\"text-align: right;\">\n",
       "      <th></th>\n",
       "      <th>Avg. Area Income</th>\n",
       "      <th>Avg. Area House Age</th>\n",
       "      <th>Avg. Area Number of Rooms</th>\n",
       "      <th>Avg. Area Number of Bedrooms</th>\n",
       "      <th>Area Population</th>\n",
       "      <th>Price</th>\n",
       "    </tr>\n",
       "  </thead>\n",
       "  <tbody>\n",
       "    <tr>\n",
       "      <th>count</th>\n",
       "      <td>5000.000000</td>\n",
       "      <td>5000.000000</td>\n",
       "      <td>5000.000000</td>\n",
       "      <td>5000.000000</td>\n",
       "      <td>5000.000000</td>\n",
       "      <td>5.000000e+03</td>\n",
       "    </tr>\n",
       "    <tr>\n",
       "      <th>mean</th>\n",
       "      <td>68583.108984</td>\n",
       "      <td>5.977222</td>\n",
       "      <td>6.987792</td>\n",
       "      <td>3.981330</td>\n",
       "      <td>36163.516039</td>\n",
       "      <td>1.232073e+06</td>\n",
       "    </tr>\n",
       "    <tr>\n",
       "      <th>std</th>\n",
       "      <td>10657.991214</td>\n",
       "      <td>0.991456</td>\n",
       "      <td>1.005833</td>\n",
       "      <td>1.234137</td>\n",
       "      <td>9925.650114</td>\n",
       "      <td>3.531176e+05</td>\n",
       "    </tr>\n",
       "    <tr>\n",
       "      <th>min</th>\n",
       "      <td>17796.631190</td>\n",
       "      <td>2.644304</td>\n",
       "      <td>3.236194</td>\n",
       "      <td>2.000000</td>\n",
       "      <td>172.610686</td>\n",
       "      <td>1.593866e+04</td>\n",
       "    </tr>\n",
       "    <tr>\n",
       "      <th>25%</th>\n",
       "      <td>61480.562388</td>\n",
       "      <td>5.322283</td>\n",
       "      <td>6.299250</td>\n",
       "      <td>3.140000</td>\n",
       "      <td>29403.928702</td>\n",
       "      <td>9.975771e+05</td>\n",
       "    </tr>\n",
       "    <tr>\n",
       "      <th>50%</th>\n",
       "      <td>68804.286404</td>\n",
       "      <td>5.970429</td>\n",
       "      <td>7.002902</td>\n",
       "      <td>4.050000</td>\n",
       "      <td>36199.406689</td>\n",
       "      <td>1.232669e+06</td>\n",
       "    </tr>\n",
       "    <tr>\n",
       "      <th>75%</th>\n",
       "      <td>75783.338666</td>\n",
       "      <td>6.650808</td>\n",
       "      <td>7.665871</td>\n",
       "      <td>4.490000</td>\n",
       "      <td>42861.290769</td>\n",
       "      <td>1.471210e+06</td>\n",
       "    </tr>\n",
       "    <tr>\n",
       "      <th>max</th>\n",
       "      <td>107701.748378</td>\n",
       "      <td>9.519088</td>\n",
       "      <td>10.759588</td>\n",
       "      <td>6.500000</td>\n",
       "      <td>69621.713378</td>\n",
       "      <td>2.469066e+06</td>\n",
       "    </tr>\n",
       "  </tbody>\n",
       "</table>\n",
       "</div>"
      ],
      "text/plain": [
       "       Avg. Area Income  Avg. Area House Age  Avg. Area Number of Rooms  \\\n",
       "count       5000.000000          5000.000000                5000.000000   \n",
       "mean       68583.108984             5.977222                   6.987792   \n",
       "std        10657.991214             0.991456                   1.005833   \n",
       "min        17796.631190             2.644304                   3.236194   \n",
       "25%        61480.562388             5.322283                   6.299250   \n",
       "50%        68804.286404             5.970429                   7.002902   \n",
       "75%        75783.338666             6.650808                   7.665871   \n",
       "max       107701.748378             9.519088                  10.759588   \n",
       "\n",
       "       Avg. Area Number of Bedrooms  Area Population         Price  \n",
       "count                   5000.000000      5000.000000  5.000000e+03  \n",
       "mean                       3.981330     36163.516039  1.232073e+06  \n",
       "std                        1.234137      9925.650114  3.531176e+05  \n",
       "min                        2.000000       172.610686  1.593866e+04  \n",
       "25%                        3.140000     29403.928702  9.975771e+05  \n",
       "50%                        4.050000     36199.406689  1.232669e+06  \n",
       "75%                        4.490000     42861.290769  1.471210e+06  \n",
       "max                        6.500000     69621.713378  2.469066e+06  "
      ]
     },
     "execution_count": 7,
     "metadata": {},
     "output_type": "execute_result"
    }
   ],
   "source": [
    "df.describe()"
   ]
  },
  {
   "cell_type": "code",
   "execution_count": 8,
   "id": "f1c85bf1",
   "metadata": {
    "execution": {
     "iopub.execute_input": "2024-08-10T07:31:22.720814Z",
     "iopub.status.busy": "2024-08-10T07:31:22.720396Z",
     "iopub.status.idle": "2024-08-10T07:31:22.735497Z",
     "shell.execute_reply": "2024-08-10T07:31:22.734412Z"
    },
    "papermill": {
     "duration": 0.03907,
     "end_time": "2024-08-10T07:31:22.737985",
     "exception": false,
     "start_time": "2024-08-10T07:31:22.698915",
     "status": "completed"
    },
    "tags": []
   },
   "outputs": [
    {
     "data": {
      "text/plain": [
       "Avg. Area Income                5000\n",
       "Avg. Area House Age             5000\n",
       "Avg. Area Number of Rooms       5000\n",
       "Avg. Area Number of Bedrooms     255\n",
       "Area Population                 5000\n",
       "Price                           5000\n",
       "Address                         5000\n",
       "dtype: int64"
      ]
     },
     "execution_count": 8,
     "metadata": {},
     "output_type": "execute_result"
    }
   ],
   "source": [
    "df.nunique()"
   ]
  },
  {
   "cell_type": "code",
   "execution_count": 9,
   "id": "8701bff6",
   "metadata": {
    "execution": {
     "iopub.execute_input": "2024-08-10T07:31:22.780747Z",
     "iopub.status.busy": "2024-08-10T07:31:22.780334Z",
     "iopub.status.idle": "2024-08-10T07:31:22.789959Z",
     "shell.execute_reply": "2024-08-10T07:31:22.788679Z"
    },
    "papermill": {
     "duration": 0.034523,
     "end_time": "2024-08-10T07:31:22.792792",
     "exception": false,
     "start_time": "2024-08-10T07:31:22.758269",
     "status": "completed"
    },
    "tags": []
   },
   "outputs": [
    {
     "data": {
      "text/plain": [
       "0       4.09\n",
       "1       3.09\n",
       "2       5.13\n",
       "3       3.26\n",
       "4       4.23\n",
       "        ... \n",
       "4995    3.46\n",
       "4996    4.02\n",
       "4997    2.13\n",
       "4998    5.44\n",
       "4999    4.07\n",
       "Name: Avg. Area Number of Bedrooms, Length: 5000, dtype: float64"
      ]
     },
     "execution_count": 9,
     "metadata": {},
     "output_type": "execute_result"
    }
   ],
   "source": [
    "df['Avg. Area Number of Bedrooms']"
   ]
  },
  {
   "cell_type": "code",
   "execution_count": null,
   "id": "9360d971",
   "metadata": {
    "papermill": {
     "duration": 0.020252,
     "end_time": "2024-08-10T07:31:22.834146",
     "exception": false,
     "start_time": "2024-08-10T07:31:22.813894",
     "status": "completed"
    },
    "tags": []
   },
   "outputs": [],
   "source": []
  },
  {
   "cell_type": "markdown",
   "id": "d1292d2f",
   "metadata": {
    "papermill": {
     "duration": 0.020829,
     "end_time": "2024-08-10T07:31:22.875191",
     "exception": false,
     "start_time": "2024-08-10T07:31:22.854362",
     "status": "completed"
    },
    "tags": []
   },
   "source": [
    "# Missing Data"
   ]
  },
  {
   "cell_type": "code",
   "execution_count": 10,
   "id": "7d763125",
   "metadata": {
    "execution": {
     "iopub.execute_input": "2024-08-10T07:31:22.917439Z",
     "iopub.status.busy": "2024-08-10T07:31:22.916652Z",
     "iopub.status.idle": "2024-08-10T07:31:22.925419Z",
     "shell.execute_reply": "2024-08-10T07:31:22.924355Z"
    },
    "papermill": {
     "duration": 0.032309,
     "end_time": "2024-08-10T07:31:22.927603",
     "exception": false,
     "start_time": "2024-08-10T07:31:22.895294",
     "status": "completed"
    },
    "tags": []
   },
   "outputs": [
    {
     "data": {
      "text/plain": [
       "Avg. Area Income                0\n",
       "Avg. Area House Age             0\n",
       "Avg. Area Number of Rooms       0\n",
       "Avg. Area Number of Bedrooms    0\n",
       "Area Population                 0\n",
       "Price                           0\n",
       "Address                         0\n",
       "dtype: int64"
      ]
     },
     "execution_count": 10,
     "metadata": {},
     "output_type": "execute_result"
    }
   ],
   "source": [
    "df.isnull().sum()"
   ]
  },
  {
   "cell_type": "code",
   "execution_count": 11,
   "id": "1b3b3e25",
   "metadata": {
    "execution": {
     "iopub.execute_input": "2024-08-10T07:31:22.970530Z",
     "iopub.status.busy": "2024-08-10T07:31:22.970138Z",
     "iopub.status.idle": "2024-08-10T07:31:22.977775Z",
     "shell.execute_reply": "2024-08-10T07:31:22.976759Z"
    },
    "papermill": {
     "duration": 0.031996,
     "end_time": "2024-08-10T07:31:22.979996",
     "exception": false,
     "start_time": "2024-08-10T07:31:22.948000",
     "status": "completed"
    },
    "tags": []
   },
   "outputs": [
    {
     "data": {
      "text/plain": [
       "-0.03371997540427538"
      ]
     },
     "execution_count": 11,
     "metadata": {},
     "output_type": "execute_result"
    }
   ],
   "source": [
    "df['Avg. Area Income'].skew()"
   ]
  },
  {
   "cell_type": "code",
   "execution_count": 12,
   "id": "14fa9b79",
   "metadata": {
    "execution": {
     "iopub.execute_input": "2024-08-10T07:31:23.024609Z",
     "iopub.status.busy": "2024-08-10T07:31:23.023553Z",
     "iopub.status.idle": "2024-08-10T07:31:23.460808Z",
     "shell.execute_reply": "2024-08-10T07:31:23.459646Z"
    },
    "papermill": {
     "duration": 0.461904,
     "end_time": "2024-08-10T07:31:23.463104",
     "exception": false,
     "start_time": "2024-08-10T07:31:23.001200",
     "status": "completed"
    },
    "tags": []
   },
   "outputs": [
    {
     "data": {
      "image/png": "[encoded data removed]",
      "text/plain": [
       "<Figure size 640x480 with 1 Axes>"
      ]
     },
     "metadata": {},
     "output_type": "display_data"
    }
   ],
   "source": [
    "sns.distplot(df['Avg. Area Income'], label=df['Avg. Area Income'].skew())\n",
    "plt.legend()\n",
    "plt.show()"
   ]
  },
  {
   "cell_type": "code",
   "execution_count": 13,
   "id": "c2f7ffb0",
   "metadata": {
    "execution": {
     "iopub.execute_input": "2024-08-10T07:31:23.506909Z",
     "iopub.status.busy": "2024-08-10T07:31:23.506402Z",
     "iopub.status.idle": "2024-08-10T07:31:23.515169Z",
     "shell.execute_reply": "2024-08-10T07:31:23.513860Z"
    },
    "papermill": {
     "duration": 0.033566,
     "end_time": "2024-08-10T07:31:23.517579",
     "exception": false,
     "start_time": "2024-08-10T07:31:23.484013",
     "status": "completed"
    },
    "tags": []
   },
   "outputs": [
    {
     "data": {
      "text/plain": [
       "68583.10898395974"
      ]
     },
     "execution_count": 13,
     "metadata": {},
     "output_type": "execute_result"
    }
   ],
   "source": [
    "df['Avg. Area Income'].mean()"
   ]
  },
  {
   "cell_type": "code",
   "execution_count": 14,
   "id": "9307bdfc",
   "metadata": {
    "execution": {
     "iopub.execute_input": "2024-08-10T07:31:23.561793Z",
     "iopub.status.busy": "2024-08-10T07:31:23.561395Z",
     "iopub.status.idle": "2024-08-10T07:31:23.570969Z",
     "shell.execute_reply": "2024-08-10T07:31:23.569809Z"
    },
    "papermill": {
     "duration": 0.0347,
     "end_time": "2024-08-10T07:31:23.573505",
     "exception": false,
     "start_time": "2024-08-10T07:31:23.538805",
     "status": "completed"
    },
    "tags": []
   },
   "outputs": [
    {
     "data": {
      "text/plain": [
       "68804.28640371616"
      ]
     },
     "execution_count": 14,
     "metadata": {},
     "output_type": "execute_result"
    }
   ],
   "source": [
    "df['Avg. Area Income'].median()"
   ]
  },
  {
   "cell_type": "code",
   "execution_count": 15,
   "id": "ecb63055",
   "metadata": {
    "execution": {
     "iopub.execute_input": "2024-08-10T07:31:23.618801Z",
     "iopub.status.busy": "2024-08-10T07:31:23.618395Z",
     "iopub.status.idle": "2024-08-10T07:31:23.624783Z",
     "shell.execute_reply": "2024-08-10T07:31:23.623635Z"
    },
    "papermill": {
     "duration": 0.031862,
     "end_time": "2024-08-10T07:31:23.627162",
     "exception": false,
     "start_time": "2024-08-10T07:31:23.595300",
     "status": "completed"
    },
    "tags": []
   },
   "outputs": [],
   "source": [
    "df['Avg. Area Income'].fillna(df['Avg. Area Income'].mean(), inplace=True)"
   ]
  },
  {
   "cell_type": "code",
   "execution_count": null,
   "id": "ed01b42b",
   "metadata": {
    "papermill": {
     "duration": 0.021715,
     "end_time": "2024-08-10T07:31:23.670118",
     "exception": false,
     "start_time": "2024-08-10T07:31:23.648403",
     "status": "completed"
    },
    "tags": []
   },
   "outputs": [],
   "source": []
  },
  {
   "cell_type": "markdown",
   "id": "be518f87",
   "metadata": {
    "papermill": {
     "duration": 0.0208,
     "end_time": "2024-08-10T07:31:23.712207",
     "exception": false,
     "start_time": "2024-08-10T07:31:23.691407",
     "status": "completed"
    },
    "tags": []
   },
   "source": [
    "# Duplicate Data"
   ]
  },
  {
   "cell_type": "code",
   "execution_count": 16,
   "id": "3c93181f",
   "metadata": {
    "execution": {
     "iopub.execute_input": "2024-08-10T07:31:23.756785Z",
     "iopub.status.busy": "2024-08-10T07:31:23.756355Z",
     "iopub.status.idle": "2024-08-10T07:31:23.768725Z",
     "shell.execute_reply": "2024-08-10T07:31:23.767249Z"
    },
    "papermill": {
     "duration": 0.037259,
     "end_time": "2024-08-10T07:31:23.771136",
     "exception": false,
     "start_time": "2024-08-10T07:31:23.733877",
     "status": "completed"
    },
    "tags": []
   },
   "outputs": [
    {
     "data": {
      "text/plain": [
       "0"
      ]
     },
     "execution_count": 16,
     "metadata": {},
     "output_type": "execute_result"
    }
   ],
   "source": [
    "df.duplicated().sum()"
   ]
  },
  {
   "cell_type": "code",
   "execution_count": 17,
   "id": "01577894",
   "metadata": {
    "execution": {
     "iopub.execute_input": "2024-08-10T07:31:23.816015Z",
     "iopub.status.busy": "2024-08-10T07:31:23.815112Z",
     "iopub.status.idle": "2024-08-10T07:31:23.832108Z",
     "shell.execute_reply": "2024-08-10T07:31:23.831039Z"
    },
    "papermill": {
     "duration": 0.041841,
     "end_time": "2024-08-10T07:31:23.834278",
     "exception": false,
     "start_time": "2024-08-10T07:31:23.792437",
     "status": "completed"
    },
    "tags": []
   },
   "outputs": [
    {
     "data": {
      "text/html": [
       "<div>\n",
       "<style scoped>\n",
       "    .dataframe tbody tr th:only-of-type {\n",
       "        vertical-align: middle;\n",
       "    }\n",
       "\n",
       "    .dataframe tbody tr th {\n",
       "        vertical-align: top;\n",
       "    }\n",
       "\n",
       "    .dataframe thead th {\n",
       "        text-align: right;\n",
       "    }\n",
       "</style>\n",
       "<table border=\"1\" class=\"dataframe\">\n",
       "  <thead>\n",
       "    <tr style=\"text-align: right;\">\n",
       "      <th></th>\n",
       "      <th>Avg. Area Income</th>\n",
       "      <th>Avg. Area House Age</th>\n",
       "      <th>Avg. Area Number of Rooms</th>\n",
       "      <th>Avg. Area Number of Bedrooms</th>\n",
       "      <th>Area Population</th>\n",
       "      <th>Price</th>\n",
       "      <th>Address</th>\n",
       "    </tr>\n",
       "  </thead>\n",
       "  <tbody>\n",
       "  </tbody>\n",
       "</table>\n",
       "</div>"
      ],
      "text/plain": [
       "Empty DataFrame\n",
       "Columns: [Avg. Area Income, Avg. Area House Age, Avg. Area Number of Rooms, Avg. Area Number of Bedrooms, Area Population, Price, Address]\n",
       "Index: []"
      ]
     },
     "execution_count": 17,
     "metadata": {},
     "output_type": "execute_result"
    }
   ],
   "source": [
    "df[df.duplicated()]"
   ]
  },
  {
   "cell_type": "code",
   "execution_count": 18,
   "id": "cfa396f8",
   "metadata": {
    "execution": {
     "iopub.execute_input": "2024-08-10T07:31:23.880640Z",
     "iopub.status.busy": "2024-08-10T07:31:23.879754Z",
     "iopub.status.idle": "2024-08-10T07:31:23.889378Z",
     "shell.execute_reply": "2024-08-10T07:31:23.888277Z"
    },
    "papermill": {
     "duration": 0.035886,
     "end_time": "2024-08-10T07:31:23.891789",
     "exception": false,
     "start_time": "2024-08-10T07:31:23.855903",
     "status": "completed"
    },
    "tags": []
   },
   "outputs": [],
   "source": [
    "df.drop_duplicates(keep=\"first\", inplace=True)"
   ]
  },
  {
   "cell_type": "code",
   "execution_count": null,
   "id": "24546afd",
   "metadata": {
    "papermill": {
     "duration": 0.020974,
     "end_time": "2024-08-10T07:31:23.934061",
     "exception": false,
     "start_time": "2024-08-10T07:31:23.913087",
     "status": "completed"
    },
    "tags": []
   },
   "outputs": [],
   "source": []
  },
  {
   "cell_type": "markdown",
   "id": "a3022788",
   "metadata": {
    "papermill": {
     "duration": 0.021698,
     "end_time": "2024-08-10T07:31:23.978054",
     "exception": false,
     "start_time": "2024-08-10T07:31:23.956356",
     "status": "completed"
    },
    "tags": []
   },
   "source": [
    "# Outliers or Anomalies "
   ]
  },
  {
   "cell_type": "code",
   "execution_count": 19,
   "id": "97d058d1",
   "metadata": {
    "execution": {
     "iopub.execute_input": "2024-08-10T07:31:24.024795Z",
     "iopub.status.busy": "2024-08-10T07:31:24.024269Z",
     "iopub.status.idle": "2024-08-10T07:31:24.296406Z",
     "shell.execute_reply": "2024-08-10T07:31:24.295258Z"
    },
    "papermill": {
     "duration": 0.299407,
     "end_time": "2024-08-10T07:31:24.299049",
     "exception": false,
     "start_time": "2024-08-10T07:31:23.999642",
     "status": "completed"
    },
    "tags": []
   },
   "outputs": [
    {
     "data": {
      "image/png": "[encoded data removed]",
      "text/plain": [
       "<Figure size 640x480 with 1 Axes>"
      ]
     },
     "metadata": {},
     "output_type": "display_data"
    }
   ],
   "source": [
    "sns.boxplot(df)\n",
    "plt.xticks(rotation=40)\n",
    "plt.show()"
   ]
  },
  {
   "cell_type": "code",
   "execution_count": 20,
   "id": "c1d483e9",
   "metadata": {
    "execution": {
     "iopub.execute_input": "2024-08-10T07:31:24.345297Z",
     "iopub.status.busy": "2024-08-10T07:31:24.344932Z",
     "iopub.status.idle": "2024-08-10T07:31:24.500497Z",
     "shell.execute_reply": "2024-08-10T07:31:24.499308Z"
    },
    "papermill": {
     "duration": 0.181576,
     "end_time": "2024-08-10T07:31:24.502952",
     "exception": false,
     "start_time": "2024-08-10T07:31:24.321376",
     "status": "completed"
    },
    "tags": []
   },
   "outputs": [
    {
     "data": {
      "image/png": "[encoded data removed]",
      "text/plain": [
       "<Figure size 640x480 with 1 Axes>"
      ]
     },
     "metadata": {},
     "output_type": "display_data"
    }
   ],
   "source": [
    "sns.boxplot(df['Avg. Area Income'])\n",
    "plt.title('Avg Area Income')\n",
    "plt.grid()\n",
    "plt.show()"
   ]
  },
  {
   "cell_type": "code",
   "execution_count": 21,
   "id": "578c0ef2",
   "metadata": {
    "execution": {
     "iopub.execute_input": "2024-08-10T07:31:24.551149Z",
     "iopub.status.busy": "2024-08-10T07:31:24.550757Z",
     "iopub.status.idle": "2024-08-10T07:31:24.559148Z",
     "shell.execute_reply": "2024-08-10T07:31:24.558152Z"
    },
    "papermill": {
     "duration": 0.034781,
     "end_time": "2024-08-10T07:31:24.561756",
     "exception": false,
     "start_time": "2024-08-10T07:31:24.526975",
     "status": "completed"
    },
    "tags": []
   },
   "outputs": [],
   "source": [
    "Q1 = df[\"Avg. Area Income\"].quantile(0.25)\n",
    "Q3 = df[\"Avg. Area Income\"].quantile(0.75)"
   ]
  },
  {
   "cell_type": "code",
   "execution_count": 22,
   "id": "a20441f7",
   "metadata": {
    "execution": {
     "iopub.execute_input": "2024-08-10T07:31:24.610450Z",
     "iopub.status.busy": "2024-08-10T07:31:24.609379Z",
     "iopub.status.idle": "2024-08-10T07:31:24.614727Z",
     "shell.execute_reply": "2024-08-10T07:31:24.613557Z"
    },
    "papermill": {
     "duration": 0.032642,
     "end_time": "2024-08-10T07:31:24.617265",
     "exception": false,
     "start_time": "2024-08-10T07:31:24.584623",
     "status": "completed"
    },
    "tags": []
   },
   "outputs": [],
   "source": [
    "IQR = Q3 - Q1"
   ]
  },
  {
   "cell_type": "code",
   "execution_count": 23,
   "id": "0ad3e963",
   "metadata": {
    "execution": {
     "iopub.execute_input": "2024-08-10T07:31:24.665024Z",
     "iopub.status.busy": "2024-08-10T07:31:24.664609Z",
     "iopub.status.idle": "2024-08-10T07:31:24.671975Z",
     "shell.execute_reply": "2024-08-10T07:31:24.670648Z"
    },
    "papermill": {
     "duration": 0.033892,
     "end_time": "2024-08-10T07:31:24.674353",
     "exception": false,
     "start_time": "2024-08-10T07:31:24.640461",
     "status": "completed"
    },
    "tags": []
   },
   "outputs": [
    {
     "data": {
      "text/plain": [
       "14302.776277691672"
      ]
     },
     "execution_count": 23,
     "metadata": {},
     "output_type": "execute_result"
    }
   ],
   "source": [
    "IQR"
   ]
  },
  {
   "cell_type": "code",
   "execution_count": 24,
   "id": "30cfe9d5",
   "metadata": {
    "execution": {
     "iopub.execute_input": "2024-08-10T07:31:24.722345Z",
     "iopub.status.busy": "2024-08-10T07:31:24.721946Z",
     "iopub.status.idle": "2024-08-10T07:31:24.728268Z",
     "shell.execute_reply": "2024-08-10T07:31:24.726797Z"
    },
    "papermill": {
     "duration": 0.033542,
     "end_time": "2024-08-10T07:31:24.731060",
     "exception": false,
     "start_time": "2024-08-10T07:31:24.697518",
     "status": "completed"
    },
    "tags": []
   },
   "outputs": [],
   "source": [
    "lower_bound = Q1 - 1.5 * IQR\n",
    "upper_bound = Q3 + 1.5 * IQR"
   ]
  },
  {
   "cell_type": "code",
   "execution_count": 25,
   "id": "30027289",
   "metadata": {
    "execution": {
     "iopub.execute_input": "2024-08-10T07:31:24.779741Z",
     "iopub.status.busy": "2024-08-10T07:31:24.779305Z",
     "iopub.status.idle": "2024-08-10T07:31:24.787002Z",
     "shell.execute_reply": "2024-08-10T07:31:24.785876Z"
    },
    "papermill": {
     "duration": 0.035037,
     "end_time": "2024-08-10T07:31:24.789533",
     "exception": false,
     "start_time": "2024-08-10T07:31:24.754496",
     "status": "completed"
    },
    "tags": []
   },
   "outputs": [
    {
     "data": {
      "text/plain": [
       "40026.39797192346"
      ]
     },
     "execution_count": 25,
     "metadata": {},
     "output_type": "execute_result"
    }
   ],
   "source": [
    "lower_bound"
   ]
  },
  {
   "cell_type": "code",
   "execution_count": 26,
   "id": "fad01c40",
   "metadata": {
    "execution": {
     "iopub.execute_input": "2024-08-10T07:31:24.838439Z",
     "iopub.status.busy": "2024-08-10T07:31:24.838058Z",
     "iopub.status.idle": "2024-08-10T07:31:24.845957Z",
     "shell.execute_reply": "2024-08-10T07:31:24.844619Z"
    },
    "papermill": {
     "duration": 0.035231,
     "end_time": "2024-08-10T07:31:24.848551",
     "exception": false,
     "start_time": "2024-08-10T07:31:24.813320",
     "status": "completed"
    },
    "tags": []
   },
   "outputs": [
    {
     "data": {
      "text/plain": [
       "97237.50308269015"
      ]
     },
     "execution_count": 26,
     "metadata": {},
     "output_type": "execute_result"
    }
   ],
   "source": [
    "upper_bound"
   ]
  },
  {
   "cell_type": "code",
   "execution_count": 27,
   "id": "ead09193",
   "metadata": {
    "execution": {
     "iopub.execute_input": "2024-08-10T07:31:24.898176Z",
     "iopub.status.busy": "2024-08-10T07:31:24.897781Z",
     "iopub.status.idle": "2024-08-10T07:31:24.905830Z",
     "shell.execute_reply": "2024-08-10T07:31:24.904644Z"
    },
    "papermill": {
     "duration": 0.036555,
     "end_time": "2024-08-10T07:31:24.908486",
     "exception": false,
     "start_time": "2024-08-10T07:31:24.871931",
     "status": "completed"
    },
    "tags": []
   },
   "outputs": [],
   "source": [
    "df_filtered = df[(df['Avg. Area Income'] >= lower_bound) & (df['Avg. Area Income'] <= upper_bound)]\n"
   ]
  },
  {
   "cell_type": "code",
   "execution_count": 28,
   "id": "3bbf6975",
   "metadata": {
    "execution": {
     "iopub.execute_input": "2024-08-10T07:31:24.960984Z",
     "iopub.status.busy": "2024-08-10T07:31:24.960605Z",
     "iopub.status.idle": "2024-08-10T07:31:24.967022Z",
     "shell.execute_reply": "2024-08-10T07:31:24.965631Z"
    },
    "papermill": {
     "duration": 0.037867,
     "end_time": "2024-08-10T07:31:24.969852",
     "exception": false,
     "start_time": "2024-08-10T07:31:24.931985",
     "status": "completed"
    },
    "tags": []
   },
   "outputs": [
    {
     "name": "stdout",
     "output_type": "stream",
     "text": [
      "Q1: 61480.562388460974, Q3: 75783.33866615265\n",
      "IQR: 14302.776277691672\n",
      "Lower Bound: 40026.39797192346\n",
      "Upper Bound: 97237.50308269015\n"
     ]
    }
   ],
   "source": [
    "print(f\"Q1: {Q1}, Q3: {Q3}\")\n",
    "print(f\"IQR: {IQR}\")\n",
    "print(f\"Lower Bound: {lower_bound}\")\n",
    "print(f\"Upper Bound: {upper_bound}\")\n"
   ]
  },
  {
   "cell_type": "code",
   "execution_count": 29,
   "id": "e7976383",
   "metadata": {
    "execution": {
     "iopub.execute_input": "2024-08-10T07:31:25.023768Z",
     "iopub.status.busy": "2024-08-10T07:31:25.023346Z",
     "iopub.status.idle": "2024-08-10T07:31:25.029063Z",
     "shell.execute_reply": "2024-08-10T07:31:25.027628Z"
    },
    "papermill": {
     "duration": 0.035867,
     "end_time": "2024-08-10T07:31:25.031853",
     "exception": false,
     "start_time": "2024-08-10T07:31:24.995986",
     "status": "completed"
    },
    "tags": []
   },
   "outputs": [],
   "source": [
    "df = df_filtered"
   ]
  },
  {
   "cell_type": "code",
   "execution_count": 30,
   "id": "21b3863a",
   "metadata": {
    "execution": {
     "iopub.execute_input": "2024-08-10T07:31:25.081497Z",
     "iopub.status.busy": "2024-08-10T07:31:25.081092Z",
     "iopub.status.idle": "2024-08-10T07:31:25.088635Z",
     "shell.execute_reply": "2024-08-10T07:31:25.087398Z"
    },
    "papermill": {
     "duration": 0.036066,
     "end_time": "2024-08-10T07:31:25.091072",
     "exception": false,
     "start_time": "2024-08-10T07:31:25.055006",
     "status": "completed"
    },
    "tags": []
   },
   "outputs": [
    {
     "data": {
      "text/plain": [
       "(4968, 7)"
      ]
     },
     "execution_count": 30,
     "metadata": {},
     "output_type": "execute_result"
    }
   ],
   "source": [
    "df.shape"
   ]
  },
  {
   "cell_type": "code",
   "execution_count": 31,
   "id": "dd67b684",
   "metadata": {
    "execution": {
     "iopub.execute_input": "2024-08-10T07:31:25.139863Z",
     "iopub.status.busy": "2024-08-10T07:31:25.139016Z",
     "iopub.status.idle": "2024-08-10T07:31:25.352639Z",
     "shell.execute_reply": "2024-08-10T07:31:25.351476Z"
    },
    "papermill": {
     "duration": 0.240786,
     "end_time": "2024-08-10T07:31:25.355034",
     "exception": false,
     "start_time": "2024-08-10T07:31:25.114248",
     "status": "completed"
    },
    "tags": []
   },
   "outputs": [
    {
     "data": {
      "image/png": "[encoded data removed]",
      "text/plain": [
       "<Figure size 640x480 with 1 Axes>"
      ]
     },
     "metadata": {},
     "output_type": "display_data"
    }
   ],
   "source": [
    "sns.boxplot(df['Avg. Area Income'])\n",
    "plt.title(\"Avg Area Income\")\n",
    "plt.grid()\n",
    "plt.show()"
   ]
  },
  {
   "cell_type": "code",
   "execution_count": null,
   "id": "10e2351f",
   "metadata": {
    "papermill": {
     "duration": 0.023178,
     "end_time": "2024-08-10T07:31:25.401648",
     "exception": false,
     "start_time": "2024-08-10T07:31:25.378470",
     "status": "completed"
    },
    "tags": []
   },
   "outputs": [],
   "source": []
  },
  {
   "cell_type": "markdown",
   "id": "5a6a6a64",
   "metadata": {
    "papermill": {
     "duration": 0.023184,
     "end_time": "2024-08-10T07:31:25.448168",
     "exception": false,
     "start_time": "2024-08-10T07:31:25.424984",
     "status": "completed"
    },
    "tags": []
   },
   "source": [
    "# Feature Encoding or Drop the column"
   ]
  },
  {
   "cell_type": "code",
   "execution_count": 32,
   "id": "61309038",
   "metadata": {
    "execution": {
     "iopub.execute_input": "2024-08-10T07:31:25.505695Z",
     "iopub.status.busy": "2024-08-10T07:31:25.505103Z",
     "iopub.status.idle": "2024-08-10T07:31:25.523601Z",
     "shell.execute_reply": "2024-08-10T07:31:25.522215Z"
    },
    "papermill": {
     "duration": 0.053109,
     "end_time": "2024-08-10T07:31:25.526205",
     "exception": false,
     "start_time": "2024-08-10T07:31:25.473096",
     "status": "completed"
    },
    "tags": []
   },
   "outputs": [
    {
     "data": {
      "text/html": [
       "<div>\n",
       "<style scoped>\n",
       "    .dataframe tbody tr th:only-of-type {\n",
       "        vertical-align: middle;\n",
       "    }\n",
       "\n",
       "    .dataframe tbody tr th {\n",
       "        vertical-align: top;\n",
       "    }\n",
       "\n",
       "    .dataframe thead th {\n",
       "        text-align: right;\n",
       "    }\n",
       "</style>\n",
       "<table border=\"1\" class=\"dataframe\">\n",
       "  <thead>\n",
       "    <tr style=\"text-align: right;\">\n",
       "      <th></th>\n",
       "      <th>Avg. Area Income</th>\n",
       "      <th>Avg. Area House Age</th>\n",
       "      <th>Avg. Area Number of Rooms</th>\n",
       "      <th>Avg. Area Number of Bedrooms</th>\n",
       "      <th>Area Population</th>\n",
       "      <th>Price</th>\n",
       "      <th>Address</th>\n",
       "    </tr>\n",
       "  </thead>\n",
       "  <tbody>\n",
       "    <tr>\n",
       "      <th>0</th>\n",
       "      <td>79545.458574</td>\n",
       "      <td>5.682861</td>\n",
       "      <td>7.009188</td>\n",
       "      <td>4.09</td>\n",
       "      <td>23086.800503</td>\n",
       "      <td>1.059034e+06</td>\n",
       "      <td>208 Michael Ferry Apt. 674\\nLaurabury, NE 3701...</td>\n",
       "    </tr>\n",
       "    <tr>\n",
       "      <th>1</th>\n",
       "      <td>79248.642455</td>\n",
       "      <td>6.002900</td>\n",
       "      <td>6.730821</td>\n",
       "      <td>3.09</td>\n",
       "      <td>40173.072174</td>\n",
       "      <td>1.505891e+06</td>\n",
       "      <td>188 Johnson Views Suite 079\\nLake Kathleen, CA...</td>\n",
       "    </tr>\n",
       "    <tr>\n",
       "      <th>2</th>\n",
       "      <td>61287.067179</td>\n",
       "      <td>5.865890</td>\n",
       "      <td>8.512727</td>\n",
       "      <td>5.13</td>\n",
       "      <td>36882.159400</td>\n",
       "      <td>1.058988e+06</td>\n",
       "      <td>9127 Elizabeth Stravenue\\nDanieltown, WI 06482...</td>\n",
       "    </tr>\n",
       "    <tr>\n",
       "      <th>3</th>\n",
       "      <td>63345.240046</td>\n",
       "      <td>7.188236</td>\n",
       "      <td>5.586729</td>\n",
       "      <td>3.26</td>\n",
       "      <td>34310.242831</td>\n",
       "      <td>1.260617e+06</td>\n",
       "      <td>USS Barnett\\nFPO AP 44820</td>\n",
       "    </tr>\n",
       "    <tr>\n",
       "      <th>4</th>\n",
       "      <td>59982.197226</td>\n",
       "      <td>5.040555</td>\n",
       "      <td>7.839388</td>\n",
       "      <td>4.23</td>\n",
       "      <td>26354.109472</td>\n",
       "      <td>6.309435e+05</td>\n",
       "      <td>USNS Raymond\\nFPO AE 09386</td>\n",
       "    </tr>\n",
       "  </tbody>\n",
       "</table>\n",
       "</div>"
      ],
      "text/plain": [
       "   Avg. Area Income  Avg. Area House Age  Avg. Area Number of Rooms  \\\n",
       "0      79545.458574             5.682861                   7.009188   \n",
       "1      79248.642455             6.002900                   6.730821   \n",
       "2      61287.067179             5.865890                   8.512727   \n",
       "3      63345.240046             7.188236                   5.586729   \n",
       "4      59982.197226             5.040555                   7.839388   \n",
       "\n",
       "   Avg. Area Number of Bedrooms  Area Population         Price  \\\n",
       "0                          4.09     23086.800503  1.059034e+06   \n",
       "1                          3.09     40173.072174  1.505891e+06   \n",
       "2                          5.13     36882.159400  1.058988e+06   \n",
       "3                          3.26     34310.242831  1.260617e+06   \n",
       "4                          4.23     26354.109472  6.309435e+05   \n",
       "\n",
       "                                             Address  \n",
       "0  208 Michael Ferry Apt. 674\\nLaurabury, NE 3701...  \n",
       "1  188 Johnson Views Suite 079\\nLake Kathleen, CA...  \n",
       "2  9127 Elizabeth Stravenue\\nDanieltown, WI 06482...  \n",
       "3                          USS Barnett\\nFPO AP 44820  \n",
       "4                         USNS Raymond\\nFPO AE 09386  "
      ]
     },
     "execution_count": 32,
     "metadata": {},
     "output_type": "execute_result"
    }
   ],
   "source": [
    "df.head()"
   ]
  },
  {
   "cell_type": "code",
   "execution_count": 33,
   "id": "24dfb11f",
   "metadata": {
    "execution": {
     "iopub.execute_input": "2024-08-10T07:31:25.578631Z",
     "iopub.status.busy": "2024-08-10T07:31:25.578231Z",
     "iopub.status.idle": "2024-08-10T07:31:25.587975Z",
     "shell.execute_reply": "2024-08-10T07:31:25.586639Z"
    },
    "papermill": {
     "duration": 0.037134,
     "end_time": "2024-08-10T07:31:25.590300",
     "exception": false,
     "start_time": "2024-08-10T07:31:25.553166",
     "status": "completed"
    },
    "tags": []
   },
   "outputs": [
    {
     "data": {
      "text/plain": [
       "0       208 Michael Ferry Apt. 674\\nLaurabury, NE 3701...\n",
       "1       188 Johnson Views Suite 079\\nLake Kathleen, CA...\n",
       "2       9127 Elizabeth Stravenue\\nDanieltown, WI 06482...\n",
       "3                               USS Barnett\\nFPO AP 44820\n",
       "4                              USNS Raymond\\nFPO AE 09386\n",
       "                              ...                        \n",
       "4995                     USNS Williams\\nFPO AP 30153-7653\n",
       "4996                PSC 9258, Box 8489\\nAPO AA 42991-3352\n",
       "4997    4215 Tracy Garden Suite 076\\nJoshualand, VA 01...\n",
       "4998                            USS Wallace\\nFPO AE 73316\n",
       "4999    37778 George Ridges Apt. 509\\nEast Holly, NV 2...\n",
       "Name: Address, Length: 4968, dtype: object"
      ]
     },
     "execution_count": 33,
     "metadata": {},
     "output_type": "execute_result"
    }
   ],
   "source": [
    "df['Address']"
   ]
  },
  {
   "cell_type": "code",
   "execution_count": 34,
   "id": "f21a79d8",
   "metadata": {
    "execution": {
     "iopub.execute_input": "2024-08-10T07:31:25.658823Z",
     "iopub.status.busy": "2024-08-10T07:31:25.657707Z",
     "iopub.status.idle": "2024-08-10T07:31:25.671501Z",
     "shell.execute_reply": "2024-08-10T07:31:25.670395Z"
    },
    "papermill": {
     "duration": 0.051971,
     "end_time": "2024-08-10T07:31:25.674980",
     "exception": false,
     "start_time": "2024-08-10T07:31:25.623009",
     "status": "completed"
    },
    "tags": []
   },
   "outputs": [
    {
     "data": {
      "text/plain": [
       "Address\n",
       "208 Michael Ferry Apt. 674\\nLaurabury, NE 37010-5101             1\n",
       "89265 Robert Haven Apt. 492\\nSmithburgh, FM 58565-1105           1\n",
       "PSC 7034, Box 6131\\nAPO AA 05662-4293                            1\n",
       "21042 Wilson Islands Suite 238\\nFischerchester, MP 42425-4129    1\n",
       "Unit 8831 Box 5748\\nDPO AE 73012-7314                            1\n",
       "                                                                ..\n",
       "054 Carter Crescent Suite 674\\nGlennport, WA 11140               1\n",
       "8460 Kathleen Mission Apt. 482\\nPort Amytown, KY 72016           1\n",
       "3737 Hartman Rue\\nReneestad, ID 69250-7718                       1\n",
       "3465 Latoya Well\\nNelsonmouth, MI 55741-4287                     1\n",
       "37778 George Ridges Apt. 509\\nEast Holly, NV 29290-3595          1\n",
       "Name: count, Length: 4968, dtype: int64"
      ]
     },
     "execution_count": 34,
     "metadata": {},
     "output_type": "execute_result"
    }
   ],
   "source": [
    "df['Address'].value_counts()"
   ]
  },
  {
   "cell_type": "code",
   "execution_count": 35,
   "id": "e9711431",
   "metadata": {
    "execution": {
     "iopub.execute_input": "2024-08-10T07:31:25.727851Z",
     "iopub.status.busy": "2024-08-10T07:31:25.727076Z",
     "iopub.status.idle": "2024-08-10T07:31:25.734130Z",
     "shell.execute_reply": "2024-08-10T07:31:25.732992Z"
    },
    "papermill": {
     "duration": 0.035251,
     "end_time": "2024-08-10T07:31:25.736555",
     "exception": false,
     "start_time": "2024-08-10T07:31:25.701304",
     "status": "completed"
    },
    "tags": []
   },
   "outputs": [
    {
     "data": {
      "text/plain": [
       "(4968, 7)"
      ]
     },
     "execution_count": 35,
     "metadata": {},
     "output_type": "execute_result"
    }
   ],
   "source": [
    "df.shape"
   ]
  },
  {
   "cell_type": "code",
   "execution_count": 36,
   "id": "1ee7cccc",
   "metadata": {
    "execution": {
     "iopub.execute_input": "2024-08-10T07:31:25.787302Z",
     "iopub.status.busy": "2024-08-10T07:31:25.786454Z",
     "iopub.status.idle": "2024-08-10T07:31:25.792895Z",
     "shell.execute_reply": "2024-08-10T07:31:25.791744Z"
    },
    "papermill": {
     "duration": 0.034721,
     "end_time": "2024-08-10T07:31:25.795330",
     "exception": false,
     "start_time": "2024-08-10T07:31:25.760609",
     "status": "completed"
    },
    "tags": []
   },
   "outputs": [],
   "source": [
    "df.drop(columns=['Address'], axis=1 , inplace=True)"
   ]
  },
  {
   "cell_type": "code",
   "execution_count": 37,
   "id": "07c6b5b6",
   "metadata": {
    "execution": {
     "iopub.execute_input": "2024-08-10T07:31:25.847104Z",
     "iopub.status.busy": "2024-08-10T07:31:25.846697Z",
     "iopub.status.idle": "2024-08-10T07:31:25.863105Z",
     "shell.execute_reply": "2024-08-10T07:31:25.862019Z"
    },
    "papermill": {
     "duration": 0.045614,
     "end_time": "2024-08-10T07:31:25.865410",
     "exception": false,
     "start_time": "2024-08-10T07:31:25.819796",
     "status": "completed"
    },
    "tags": []
   },
   "outputs": [
    {
     "data": {
      "text/html": [
       "<div>\n",
       "<style scoped>\n",
       "    .dataframe tbody tr th:only-of-type {\n",
       "        vertical-align: middle;\n",
       "    }\n",
       "\n",
       "    .dataframe tbody tr th {\n",
       "        vertical-align: top;\n",
       "    }\n",
       "\n",
       "    .dataframe thead th {\n",
       "        text-align: right;\n",
       "    }\n",
       "</style>\n",
       "<table border=\"1\" class=\"dataframe\">\n",
       "  <thead>\n",
       "    <tr style=\"text-align: right;\">\n",
       "      <th></th>\n",
       "      <th>Avg. Area Income</th>\n",
       "      <th>Avg. Area House Age</th>\n",
       "      <th>Avg. Area Number of Rooms</th>\n",
       "      <th>Avg. Area Number of Bedrooms</th>\n",
       "      <th>Area Population</th>\n",
       "      <th>Price</th>\n",
       "    </tr>\n",
       "  </thead>\n",
       "  <tbody>\n",
       "    <tr>\n",
       "      <th>0</th>\n",
       "      <td>79545.458574</td>\n",
       "      <td>5.682861</td>\n",
       "      <td>7.009188</td>\n",
       "      <td>4.09</td>\n",
       "      <td>23086.800503</td>\n",
       "      <td>1.059034e+06</td>\n",
       "    </tr>\n",
       "    <tr>\n",
       "      <th>1</th>\n",
       "      <td>79248.642455</td>\n",
       "      <td>6.002900</td>\n",
       "      <td>6.730821</td>\n",
       "      <td>3.09</td>\n",
       "      <td>40173.072174</td>\n",
       "      <td>1.505891e+06</td>\n",
       "    </tr>\n",
       "    <tr>\n",
       "      <th>2</th>\n",
       "      <td>61287.067179</td>\n",
       "      <td>5.865890</td>\n",
       "      <td>8.512727</td>\n",
       "      <td>5.13</td>\n",
       "      <td>36882.159400</td>\n",
       "      <td>1.058988e+06</td>\n",
       "    </tr>\n",
       "    <tr>\n",
       "      <th>3</th>\n",
       "      <td>63345.240046</td>\n",
       "      <td>7.188236</td>\n",
       "      <td>5.586729</td>\n",
       "      <td>3.26</td>\n",
       "      <td>34310.242831</td>\n",
       "      <td>1.260617e+06</td>\n",
       "    </tr>\n",
       "    <tr>\n",
       "      <th>4</th>\n",
       "      <td>59982.197226</td>\n",
       "      <td>5.040555</td>\n",
       "      <td>7.839388</td>\n",
       "      <td>4.23</td>\n",
       "      <td>26354.109472</td>\n",
       "      <td>6.309435e+05</td>\n",
       "    </tr>\n",
       "    <tr>\n",
       "      <th>...</th>\n",
       "      <td>...</td>\n",
       "      <td>...</td>\n",
       "      <td>...</td>\n",
       "      <td>...</td>\n",
       "      <td>...</td>\n",
       "      <td>...</td>\n",
       "    </tr>\n",
       "    <tr>\n",
       "      <th>4995</th>\n",
       "      <td>60567.944140</td>\n",
       "      <td>7.830362</td>\n",
       "      <td>6.137356</td>\n",
       "      <td>3.46</td>\n",
       "      <td>22837.361035</td>\n",
       "      <td>1.060194e+06</td>\n",
       "    </tr>\n",
       "    <tr>\n",
       "      <th>4996</th>\n",
       "      <td>78491.275435</td>\n",
       "      <td>6.999135</td>\n",
       "      <td>6.576763</td>\n",
       "      <td>4.02</td>\n",
       "      <td>25616.115489</td>\n",
       "      <td>1.482618e+06</td>\n",
       "    </tr>\n",
       "    <tr>\n",
       "      <th>4997</th>\n",
       "      <td>63390.686886</td>\n",
       "      <td>7.250591</td>\n",
       "      <td>4.805081</td>\n",
       "      <td>2.13</td>\n",
       "      <td>33266.145490</td>\n",
       "      <td>1.030730e+06</td>\n",
       "    </tr>\n",
       "    <tr>\n",
       "      <th>4998</th>\n",
       "      <td>68001.331235</td>\n",
       "      <td>5.534388</td>\n",
       "      <td>7.130144</td>\n",
       "      <td>5.44</td>\n",
       "      <td>42625.620156</td>\n",
       "      <td>1.198657e+06</td>\n",
       "    </tr>\n",
       "    <tr>\n",
       "      <th>4999</th>\n",
       "      <td>65510.581804</td>\n",
       "      <td>5.992305</td>\n",
       "      <td>6.792336</td>\n",
       "      <td>4.07</td>\n",
       "      <td>46501.283803</td>\n",
       "      <td>1.298950e+06</td>\n",
       "    </tr>\n",
       "  </tbody>\n",
       "</table>\n",
       "<p>4968 rows × 6 columns</p>\n",
       "</div>"
      ],
      "text/plain": [
       "      Avg. Area Income  Avg. Area House Age  Avg. Area Number of Rooms  \\\n",
       "0         79545.458574             5.682861                   7.009188   \n",
       "1         79248.642455             6.002900                   6.730821   \n",
       "2         61287.067179             5.865890                   8.512727   \n",
       "3         63345.240046             7.188236                   5.586729   \n",
       "4         59982.197226             5.040555                   7.839388   \n",
       "...                ...                  ...                        ...   \n",
       "4995      60567.944140             7.830362                   6.137356   \n",
       "4996      78491.275435             6.999135                   6.576763   \n",
       "4997      63390.686886             7.250591                   4.805081   \n",
       "4998      68001.331235             5.534388                   7.130144   \n",
       "4999      65510.581804             5.992305                   6.792336   \n",
       "\n",
       "      Avg. Area Number of Bedrooms  Area Population         Price  \n",
       "0                             4.09     23086.800503  1.059034e+06  \n",
       "1                             3.09     40173.072174  1.505891e+06  \n",
       "2                             5.13     36882.159400  1.058988e+06  \n",
       "3                             3.26     34310.242831  1.260617e+06  \n",
       "4                             4.23     26354.109472  6.309435e+05  \n",
       "...                            ...              ...           ...  \n",
       "4995                          3.46     22837.361035  1.060194e+06  \n",
       "4996                          4.02     25616.115489  1.482618e+06  \n",
       "4997                          2.13     33266.145490  1.030730e+06  \n",
       "4998                          5.44     42625.620156  1.198657e+06  \n",
       "4999                          4.07     46501.283803  1.298950e+06  \n",
       "\n",
       "[4968 rows x 6 columns]"
      ]
     },
     "execution_count": 37,
     "metadata": {},
     "output_type": "execute_result"
    }
   ],
   "source": [
    "df"
   ]
  },
  {
   "cell_type": "code",
   "execution_count": null,
   "id": "e9c22c5c",
   "metadata": {
    "papermill": {
     "duration": 0.029065,
     "end_time": "2024-08-10T07:31:25.923392",
     "exception": false,
     "start_time": "2024-08-10T07:31:25.894327",
     "status": "completed"
    },
    "tags": []
   },
   "outputs": [],
   "source": []
  },
  {
   "cell_type": "markdown",
   "id": "dd6d94a9",
   "metadata": {
    "papermill": {
     "duration": 0.024876,
     "end_time": "2024-08-10T07:31:25.973371",
     "exception": false,
     "start_time": "2024-08-10T07:31:25.948495",
     "status": "completed"
    },
    "tags": []
   },
   "source": [
    "# Feature Selection - Corr()"
   ]
  },
  {
   "cell_type": "code",
   "execution_count": 38,
   "id": "0f183df4",
   "metadata": {
    "execution": {
     "iopub.execute_input": "2024-08-10T07:31:26.028657Z",
     "iopub.status.busy": "2024-08-10T07:31:26.028225Z",
     "iopub.status.idle": "2024-08-10T07:31:26.044478Z",
     "shell.execute_reply": "2024-08-10T07:31:26.042873Z"
    },
    "papermill": {
     "duration": 0.046213,
     "end_time": "2024-08-10T07:31:26.047368",
     "exception": false,
     "start_time": "2024-08-10T07:31:26.001155",
     "status": "completed"
    },
    "tags": []
   },
   "outputs": [
    {
     "data": {
      "text/html": [
       "<div>\n",
       "<style scoped>\n",
       "    .dataframe tbody tr th:only-of-type {\n",
       "        vertical-align: middle;\n",
       "    }\n",
       "\n",
       "    .dataframe tbody tr th {\n",
       "        vertical-align: top;\n",
       "    }\n",
       "\n",
       "    .dataframe thead th {\n",
       "        text-align: right;\n",
       "    }\n",
       "</style>\n",
       "<table border=\"1\" class=\"dataframe\">\n",
       "  <thead>\n",
       "    <tr style=\"text-align: right;\">\n",
       "      <th></th>\n",
       "      <th>Avg. Area Income</th>\n",
       "      <th>Avg. Area House Age</th>\n",
       "      <th>Avg. Area Number of Rooms</th>\n",
       "      <th>Avg. Area Number of Bedrooms</th>\n",
       "      <th>Area Population</th>\n",
       "      <th>Price</th>\n",
       "    </tr>\n",
       "  </thead>\n",
       "  <tbody>\n",
       "    <tr>\n",
       "      <th>Avg. Area Income</th>\n",
       "      <td>1.000000</td>\n",
       "      <td>-0.006309</td>\n",
       "      <td>-0.013493</td>\n",
       "      <td>0.017502</td>\n",
       "      <td>-0.010862</td>\n",
       "      <td>0.630234</td>\n",
       "    </tr>\n",
       "    <tr>\n",
       "      <th>Avg. Area House Age</th>\n",
       "      <td>-0.006309</td>\n",
       "      <td>1.000000</td>\n",
       "      <td>-0.008900</td>\n",
       "      <td>0.005042</td>\n",
       "      <td>-0.018827</td>\n",
       "      <td>0.455194</td>\n",
       "    </tr>\n",
       "    <tr>\n",
       "      <th>Avg. Area Number of Rooms</th>\n",
       "      <td>-0.013493</td>\n",
       "      <td>-0.008900</td>\n",
       "      <td>1.000000</td>\n",
       "      <td>0.463214</td>\n",
       "      <td>0.003899</td>\n",
       "      <td>0.339439</td>\n",
       "    </tr>\n",
       "    <tr>\n",
       "      <th>Avg. Area Number of Bedrooms</th>\n",
       "      <td>0.017502</td>\n",
       "      <td>0.005042</td>\n",
       "      <td>0.463214</td>\n",
       "      <td>1.000000</td>\n",
       "      <td>-0.021823</td>\n",
       "      <td>0.170994</td>\n",
       "    </tr>\n",
       "    <tr>\n",
       "      <th>Area Population</th>\n",
       "      <td>-0.010862</td>\n",
       "      <td>-0.018827</td>\n",
       "      <td>0.003899</td>\n",
       "      <td>-0.021823</td>\n",
       "      <td>1.000000</td>\n",
       "      <td>0.415309</td>\n",
       "    </tr>\n",
       "    <tr>\n",
       "      <th>Price</th>\n",
       "      <td>0.630234</td>\n",
       "      <td>0.455194</td>\n",
       "      <td>0.339439</td>\n",
       "      <td>0.170994</td>\n",
       "      <td>0.415309</td>\n",
       "      <td>1.000000</td>\n",
       "    </tr>\n",
       "  </tbody>\n",
       "</table>\n",
       "</div>"
      ],
      "text/plain": [
       "                              Avg. Area Income  Avg. Area House Age  \\\n",
       "Avg. Area Income                      1.000000            -0.006309   \n",
       "Avg. Area House Age                  -0.006309             1.000000   \n",
       "Avg. Area Number of Rooms            -0.013493            -0.008900   \n",
       "Avg. Area Number of Bedrooms          0.017502             0.005042   \n",
       "Area Population                      -0.010862            -0.018827   \n",
       "Price                                 0.630234             0.455194   \n",
       "\n",
       "                              Avg. Area Number of Rooms  \\\n",
       "Avg. Area Income                              -0.013493   \n",
       "Avg. Area House Age                           -0.008900   \n",
       "Avg. Area Number of Rooms                      1.000000   \n",
       "Avg. Area Number of Bedrooms                   0.463214   \n",
       "Area Population                                0.003899   \n",
       "Price                                          0.339439   \n",
       "\n",
       "                              Avg. Area Number of Bedrooms  Area Population  \\\n",
       "Avg. Area Income                                  0.017502        -0.010862   \n",
       "Avg. Area House Age                               0.005042        -0.018827   \n",
       "Avg. Area Number of Rooms                         0.463214         0.003899   \n",
       "Avg. Area Number of Bedrooms                      1.000000        -0.021823   \n",
       "Area Population                                  -0.021823         1.000000   \n",
       "Price                                             0.170994         0.415309   \n",
       "\n",
       "                                 Price  \n",
       "Avg. Area Income              0.630234  \n",
       "Avg. Area House Age           0.455194  \n",
       "Avg. Area Number of Rooms     0.339439  \n",
       "Avg. Area Number of Bedrooms  0.170994  \n",
       "Area Population               0.415309  \n",
       "Price                         1.000000  "
      ]
     },
     "execution_count": 38,
     "metadata": {},
     "output_type": "execute_result"
    }
   ],
   "source": [
    "df.corr()"
   ]
  },
  {
   "cell_type": "code",
   "execution_count": 39,
   "id": "706881ce",
   "metadata": {
    "execution": {
     "iopub.execute_input": "2024-08-10T07:31:26.101744Z",
     "iopub.status.busy": "2024-08-10T07:31:26.101305Z",
     "iopub.status.idle": "2024-08-10T07:31:26.580823Z",
     "shell.execute_reply": "2024-08-10T07:31:26.579531Z"
    },
    "papermill": {
     "duration": 0.510152,
     "end_time": "2024-08-10T07:31:26.583378",
     "exception": false,
     "start_time": "2024-08-10T07:31:26.073226",
     "status": "completed"
    },
    "tags": []
   },
   "outputs": [
    {
     "data": {
      "image/png": "[encoded data removed]",
      "text/plain": [
       "<Figure size 1000x800 with 2 Axes>"
      ]
     },
     "metadata": {},
     "output_type": "display_data"
    }
   ],
   "source": [
    "corr_matrix = df.corr()\n",
    "\n",
    "# Create a heatmap\n",
    "\n",
    "plt.figure(figsize=(10, 8))\n",
    "sns.heatmap(corr_matrix, annot=True, cmap='coolwarm', fmt='.2f', linewidths=0.5)\n",
    "plt.title('Correlation Heatmap')\n",
    "plt.show()"
   ]
  },
  {
   "cell_type": "code",
   "execution_count": 40,
   "id": "5cc9bed5",
   "metadata": {
    "execution": {
     "iopub.execute_input": "2024-08-10T07:31:26.640690Z",
     "iopub.status.busy": "2024-08-10T07:31:26.640281Z",
     "iopub.status.idle": "2024-08-10T07:31:26.650481Z",
     "shell.execute_reply": "2024-08-10T07:31:26.649325Z"
    },
    "papermill": {
     "duration": 0.042633,
     "end_time": "2024-08-10T07:31:26.653004",
     "exception": false,
     "start_time": "2024-08-10T07:31:26.610371",
     "status": "completed"
    },
    "tags": []
   },
   "outputs": [
    {
     "data": {
      "text/plain": [
       "Avg. Area Income                0.630234\n",
       "Avg. Area House Age             0.455194\n",
       "Avg. Area Number of Rooms       0.339439\n",
       "Avg. Area Number of Bedrooms    0.170994\n",
       "Area Population                 0.415309\n",
       "Price                           1.000000\n",
       "Name: Price, dtype: float64"
      ]
     },
     "execution_count": 40,
     "metadata": {},
     "output_type": "execute_result"
    }
   ],
   "source": [
    "df.corr()['Price']"
   ]
  },
  {
   "cell_type": "code",
   "execution_count": null,
   "id": "d73cc6e7",
   "metadata": {
    "papermill": {
     "duration": 0.027017,
     "end_time": "2024-08-10T07:31:26.707249",
     "exception": false,
     "start_time": "2024-08-10T07:31:26.680232",
     "status": "completed"
    },
    "tags": []
   },
   "outputs": [],
   "source": []
  },
  {
   "cell_type": "markdown",
   "id": "466a1b04",
   "metadata": {
    "papermill": {
     "duration": 0.026869,
     "end_time": "2024-08-10T07:31:26.761218",
     "exception": false,
     "start_time": "2024-08-10T07:31:26.734349",
     "status": "completed"
    },
    "tags": []
   },
   "source": [
    "# Model Building using Regression Algorithms"
   ]
  },
  {
   "cell_type": "markdown",
   "id": "d06e33b0",
   "metadata": {
    "papermill": {
     "duration": 0.025811,
     "end_time": "2024-08-10T07:31:26.813365",
     "exception": false,
     "start_time": "2024-08-10T07:31:26.787554",
     "status": "completed"
    },
    "tags": []
   },
   "source": [
    "## Seprate your Independent and Dependent Data"
   ]
  },
  {
   "cell_type": "code",
   "execution_count": 41,
   "id": "1e672f04",
   "metadata": {
    "execution": {
     "iopub.execute_input": "2024-08-10T07:31:26.869615Z",
     "iopub.status.busy": "2024-08-10T07:31:26.868678Z",
     "iopub.status.idle": "2024-08-10T07:31:26.884132Z",
     "shell.execute_reply": "2024-08-10T07:31:26.882669Z"
    },
    "papermill": {
     "duration": 0.046763,
     "end_time": "2024-08-10T07:31:26.886807",
     "exception": false,
     "start_time": "2024-08-10T07:31:26.840044",
     "status": "completed"
    },
    "tags": []
   },
   "outputs": [
    {
     "data": {
      "text/html": [
       "<div>\n",
       "<style scoped>\n",
       "    .dataframe tbody tr th:only-of-type {\n",
       "        vertical-align: middle;\n",
       "    }\n",
       "\n",
       "    .dataframe tbody tr th {\n",
       "        vertical-align: top;\n",
       "    }\n",
       "\n",
       "    .dataframe thead th {\n",
       "        text-align: right;\n",
       "    }\n",
       "</style>\n",
       "<table border=\"1\" class=\"dataframe\">\n",
       "  <thead>\n",
       "    <tr style=\"text-align: right;\">\n",
       "      <th></th>\n",
       "      <th>Avg. Area Income</th>\n",
       "      <th>Avg. Area House Age</th>\n",
       "      <th>Avg. Area Number of Rooms</th>\n",
       "      <th>Avg. Area Number of Bedrooms</th>\n",
       "      <th>Area Population</th>\n",
       "      <th>Price</th>\n",
       "    </tr>\n",
       "  </thead>\n",
       "  <tbody>\n",
       "    <tr>\n",
       "      <th>0</th>\n",
       "      <td>79545.458574</td>\n",
       "      <td>5.682861</td>\n",
       "      <td>7.009188</td>\n",
       "      <td>4.09</td>\n",
       "      <td>23086.800503</td>\n",
       "      <td>1.059034e+06</td>\n",
       "    </tr>\n",
       "    <tr>\n",
       "      <th>1</th>\n",
       "      <td>79248.642455</td>\n",
       "      <td>6.002900</td>\n",
       "      <td>6.730821</td>\n",
       "      <td>3.09</td>\n",
       "      <td>40173.072174</td>\n",
       "      <td>1.505891e+06</td>\n",
       "    </tr>\n",
       "    <tr>\n",
       "      <th>2</th>\n",
       "      <td>61287.067179</td>\n",
       "      <td>5.865890</td>\n",
       "      <td>8.512727</td>\n",
       "      <td>5.13</td>\n",
       "      <td>36882.159400</td>\n",
       "      <td>1.058988e+06</td>\n",
       "    </tr>\n",
       "    <tr>\n",
       "      <th>3</th>\n",
       "      <td>63345.240046</td>\n",
       "      <td>7.188236</td>\n",
       "      <td>5.586729</td>\n",
       "      <td>3.26</td>\n",
       "      <td>34310.242831</td>\n",
       "      <td>1.260617e+06</td>\n",
       "    </tr>\n",
       "    <tr>\n",
       "      <th>4</th>\n",
       "      <td>59982.197226</td>\n",
       "      <td>5.040555</td>\n",
       "      <td>7.839388</td>\n",
       "      <td>4.23</td>\n",
       "      <td>26354.109472</td>\n",
       "      <td>6.309435e+05</td>\n",
       "    </tr>\n",
       "  </tbody>\n",
       "</table>\n",
       "</div>"
      ],
      "text/plain": [
       "   Avg. Area Income  Avg. Area House Age  Avg. Area Number of Rooms  \\\n",
       "0      79545.458574             5.682861                   7.009188   \n",
       "1      79248.642455             6.002900                   6.730821   \n",
       "2      61287.067179             5.865890                   8.512727   \n",
       "3      63345.240046             7.188236                   5.586729   \n",
       "4      59982.197226             5.040555                   7.839388   \n",
       "\n",
       "   Avg. Area Number of Bedrooms  Area Population         Price  \n",
       "0                          4.09     23086.800503  1.059034e+06  \n",
       "1                          3.09     40173.072174  1.505891e+06  \n",
       "2                          5.13     36882.159400  1.058988e+06  \n",
       "3                          3.26     34310.242831  1.260617e+06  \n",
       "4                          4.23     26354.109472  6.309435e+05  "
      ]
     },
     "execution_count": 41,
     "metadata": {},
     "output_type": "execute_result"
    }
   ],
   "source": [
    "df.head()"
   ]
  },
  {
   "cell_type": "code",
   "execution_count": 42,
   "id": "ed35aaae",
   "metadata": {
    "execution": {
     "iopub.execute_input": "2024-08-10T07:31:26.945523Z",
     "iopub.status.busy": "2024-08-10T07:31:26.945117Z",
     "iopub.status.idle": "2024-08-10T07:31:26.951154Z",
     "shell.execute_reply": "2024-08-10T07:31:26.949794Z"
    },
    "papermill": {
     "duration": 0.037875,
     "end_time": "2024-08-10T07:31:26.953772",
     "exception": false,
     "start_time": "2024-08-10T07:31:26.915897",
     "status": "completed"
    },
    "tags": []
   },
   "outputs": [],
   "source": [
    "X = df.iloc[:, :-1] # Independent Variables  # X = df.drop(columns=[\"Price\"])\n",
    "y = df['Price'] # Dependent Variables"
   ]
  },
  {
   "cell_type": "code",
   "execution_count": 43,
   "id": "bbbe4a3a",
   "metadata": {
    "execution": {
     "iopub.execute_input": "2024-08-10T07:31:27.008412Z",
     "iopub.status.busy": "2024-08-10T07:31:27.007992Z",
     "iopub.status.idle": "2024-08-10T07:31:27.022741Z",
     "shell.execute_reply": "2024-08-10T07:31:27.021316Z"
    },
    "papermill": {
     "duration": 0.045429,
     "end_time": "2024-08-10T07:31:27.025434",
     "exception": false,
     "start_time": "2024-08-10T07:31:26.980005",
     "status": "completed"
    },
    "tags": []
   },
   "outputs": [
    {
     "data": {
      "text/html": [
       "<div>\n",
       "<style scoped>\n",
       "    .dataframe tbody tr th:only-of-type {\n",
       "        vertical-align: middle;\n",
       "    }\n",
       "\n",
       "    .dataframe tbody tr th {\n",
       "        vertical-align: top;\n",
       "    }\n",
       "\n",
       "    .dataframe thead th {\n",
       "        text-align: right;\n",
       "    }\n",
       "</style>\n",
       "<table border=\"1\" class=\"dataframe\">\n",
       "  <thead>\n",
       "    <tr style=\"text-align: right;\">\n",
       "      <th></th>\n",
       "      <th>Avg. Area Income</th>\n",
       "      <th>Avg. Area House Age</th>\n",
       "      <th>Avg. Area Number of Rooms</th>\n",
       "      <th>Avg. Area Number of Bedrooms</th>\n",
       "      <th>Area Population</th>\n",
       "    </tr>\n",
       "  </thead>\n",
       "  <tbody>\n",
       "    <tr>\n",
       "      <th>0</th>\n",
       "      <td>79545.458574</td>\n",
       "      <td>5.682861</td>\n",
       "      <td>7.009188</td>\n",
       "      <td>4.09</td>\n",
       "      <td>23086.800503</td>\n",
       "    </tr>\n",
       "    <tr>\n",
       "      <th>1</th>\n",
       "      <td>79248.642455</td>\n",
       "      <td>6.002900</td>\n",
       "      <td>6.730821</td>\n",
       "      <td>3.09</td>\n",
       "      <td>40173.072174</td>\n",
       "    </tr>\n",
       "    <tr>\n",
       "      <th>2</th>\n",
       "      <td>61287.067179</td>\n",
       "      <td>5.865890</td>\n",
       "      <td>8.512727</td>\n",
       "      <td>5.13</td>\n",
       "      <td>36882.159400</td>\n",
       "    </tr>\n",
       "  </tbody>\n",
       "</table>\n",
       "</div>"
      ],
      "text/plain": [
       "   Avg. Area Income  Avg. Area House Age  Avg. Area Number of Rooms  \\\n",
       "0      79545.458574             5.682861                   7.009188   \n",
       "1      79248.642455             6.002900                   6.730821   \n",
       "2      61287.067179             5.865890                   8.512727   \n",
       "\n",
       "   Avg. Area Number of Bedrooms  Area Population  \n",
       "0                          4.09     23086.800503  \n",
       "1                          3.09     40173.072174  \n",
       "2                          5.13     36882.159400  "
      ]
     },
     "execution_count": 43,
     "metadata": {},
     "output_type": "execute_result"
    }
   ],
   "source": [
    "X[:3]"
   ]
  },
  {
   "cell_type": "code",
   "execution_count": 44,
   "id": "124b4d08",
   "metadata": {
    "execution": {
     "iopub.execute_input": "2024-08-10T07:31:27.083625Z",
     "iopub.status.busy": "2024-08-10T07:31:27.083200Z",
     "iopub.status.idle": "2024-08-10T07:31:27.091880Z",
     "shell.execute_reply": "2024-08-10T07:31:27.090670Z"
    },
    "papermill": {
     "duration": 0.039585,
     "end_time": "2024-08-10T07:31:27.094234",
     "exception": false,
     "start_time": "2024-08-10T07:31:27.054649",
     "status": "completed"
    },
    "tags": []
   },
   "outputs": [
    {
     "data": {
      "text/plain": [
       "0    1.059034e+06\n",
       "1    1.505891e+06\n",
       "2    1.058988e+06\n",
       "Name: Price, dtype: float64"
      ]
     },
     "execution_count": 44,
     "metadata": {},
     "output_type": "execute_result"
    }
   ],
   "source": [
    "y[:3]"
   ]
  },
  {
   "cell_type": "markdown",
   "id": "6cd30b86",
   "metadata": {
    "papermill": {
     "duration": 0.027228,
     "end_time": "2024-08-10T07:31:27.148284",
     "exception": false,
     "start_time": "2024-08-10T07:31:27.121056",
     "status": "completed"
    },
    "tags": []
   },
   "source": [
    "## Split your data into Training and Test Set"
   ]
  },
  {
   "cell_type": "code",
   "execution_count": 45,
   "id": "d5ed70b1",
   "metadata": {
    "execution": {
     "iopub.execute_input": "2024-08-10T07:31:27.204679Z",
     "iopub.status.busy": "2024-08-10T07:31:27.204222Z",
     "iopub.status.idle": "2024-08-10T07:31:27.214171Z",
     "shell.execute_reply": "2024-08-10T07:31:27.212873Z"
    },
    "papermill": {
     "duration": 0.041516,
     "end_time": "2024-08-10T07:31:27.217067",
     "exception": false,
     "start_time": "2024-08-10T07:31:27.175551",
     "status": "completed"
    },
    "tags": []
   },
   "outputs": [],
   "source": [
    "X_train, X_test, y_train, y_test = train_test_split(X,y, test_size=0.2, random_state=42)\n"
   ]
  },
  {
   "cell_type": "code",
   "execution_count": 46,
   "id": "5aed3e64",
   "metadata": {
    "execution": {
     "iopub.execute_input": "2024-08-10T07:31:27.274883Z",
     "iopub.status.busy": "2024-08-10T07:31:27.273751Z",
     "iopub.status.idle": "2024-08-10T07:31:27.281646Z",
     "shell.execute_reply": "2024-08-10T07:31:27.280502Z"
    },
    "papermill": {
     "duration": 0.039312,
     "end_time": "2024-08-10T07:31:27.283993",
     "exception": false,
     "start_time": "2024-08-10T07:31:27.244681",
     "status": "completed"
    },
    "tags": []
   },
   "outputs": [
    {
     "data": {
      "text/plain": [
       "(3974, 5)"
      ]
     },
     "execution_count": 46,
     "metadata": {},
     "output_type": "execute_result"
    }
   ],
   "source": [
    "X_train.shape"
   ]
  },
  {
   "cell_type": "code",
   "execution_count": 47,
   "id": "d880fbf9",
   "metadata": {
    "execution": {
     "iopub.execute_input": "2024-08-10T07:31:27.340726Z",
     "iopub.status.busy": "2024-08-10T07:31:27.340311Z",
     "iopub.status.idle": "2024-08-10T07:31:27.347071Z",
     "shell.execute_reply": "2024-08-10T07:31:27.345946Z"
    },
    "papermill": {
     "duration": 0.037008,
     "end_time": "2024-08-10T07:31:27.349356",
     "exception": false,
     "start_time": "2024-08-10T07:31:27.312348",
     "status": "completed"
    },
    "tags": []
   },
   "outputs": [
    {
     "data": {
      "text/plain": [
       "(994, 5)"
      ]
     },
     "execution_count": 47,
     "metadata": {},
     "output_type": "execute_result"
    }
   ],
   "source": [
    "X_test.shape"
   ]
  },
  {
   "cell_type": "code",
   "execution_count": 48,
   "id": "327ae198",
   "metadata": {
    "execution": {
     "iopub.execute_input": "2024-08-10T07:31:27.406371Z",
     "iopub.status.busy": "2024-08-10T07:31:27.405386Z",
     "iopub.status.idle": "2024-08-10T07:31:27.412668Z",
     "shell.execute_reply": "2024-08-10T07:31:27.411505Z"
    },
    "papermill": {
     "duration": 0.038416,
     "end_time": "2024-08-10T07:31:27.415249",
     "exception": false,
     "start_time": "2024-08-10T07:31:27.376833",
     "status": "completed"
    },
    "tags": []
   },
   "outputs": [
    {
     "data": {
      "text/plain": [
       "((3974,), (994,))"
      ]
     },
     "execution_count": 48,
     "metadata": {},
     "output_type": "execute_result"
    }
   ],
   "source": [
    "y_train.shape, y_test.shape"
   ]
  },
  {
   "cell_type": "code",
   "execution_count": 49,
   "id": "6ca9b17d",
   "metadata": {
    "execution": {
     "iopub.execute_input": "2024-08-10T07:31:27.471149Z",
     "iopub.status.busy": "2024-08-10T07:31:27.470759Z",
     "iopub.status.idle": "2024-08-10T07:31:27.485695Z",
     "shell.execute_reply": "2024-08-10T07:31:27.484242Z"
    },
    "papermill": {
     "duration": 0.045808,
     "end_time": "2024-08-10T07:31:27.488074",
     "exception": false,
     "start_time": "2024-08-10T07:31:27.442266",
     "status": "completed"
    },
    "tags": []
   },
   "outputs": [
    {
     "data": {
      "text/html": [
       "<div>\n",
       "<style scoped>\n",
       "    .dataframe tbody tr th:only-of-type {\n",
       "        vertical-align: middle;\n",
       "    }\n",
       "\n",
       "    .dataframe tbody tr th {\n",
       "        vertical-align: top;\n",
       "    }\n",
       "\n",
       "    .dataframe thead th {\n",
       "        text-align: right;\n",
       "    }\n",
       "</style>\n",
       "<table border=\"1\" class=\"dataframe\">\n",
       "  <thead>\n",
       "    <tr style=\"text-align: right;\">\n",
       "      <th></th>\n",
       "      <th>Avg. Area Income</th>\n",
       "      <th>Avg. Area House Age</th>\n",
       "      <th>Avg. Area Number of Rooms</th>\n",
       "      <th>Avg. Area Number of Bedrooms</th>\n",
       "      <th>Area Population</th>\n",
       "    </tr>\n",
       "  </thead>\n",
       "  <tbody>\n",
       "    <tr>\n",
       "      <th>1487</th>\n",
       "      <td>83403.445246</td>\n",
       "      <td>7.005353</td>\n",
       "      <td>9.404851</td>\n",
       "      <td>3.32</td>\n",
       "      <td>26319.720010</td>\n",
       "    </tr>\n",
       "    <tr>\n",
       "      <th>4079</th>\n",
       "      <td>57657.899557</td>\n",
       "      <td>5.391957</td>\n",
       "      <td>4.904768</td>\n",
       "      <td>3.38</td>\n",
       "      <td>35437.887014</td>\n",
       "    </tr>\n",
       "    <tr>\n",
       "      <th>2233</th>\n",
       "      <td>74614.824494</td>\n",
       "      <td>5.008817</td>\n",
       "      <td>5.963195</td>\n",
       "      <td>4.31</td>\n",
       "      <td>46070.443396</td>\n",
       "    </tr>\n",
       "    <tr>\n",
       "      <th>4128</th>\n",
       "      <td>63918.051581</td>\n",
       "      <td>5.099158</td>\n",
       "      <td>7.662942</td>\n",
       "      <td>4.26</td>\n",
       "      <td>48669.649744</td>\n",
       "    </tr>\n",
       "    <tr>\n",
       "      <th>82</th>\n",
       "      <td>82061.565204</td>\n",
       "      <td>4.182828</td>\n",
       "      <td>5.963032</td>\n",
       "      <td>4.10</td>\n",
       "      <td>36271.408496</td>\n",
       "    </tr>\n",
       "    <tr>\n",
       "      <th>...</th>\n",
       "      <td>...</td>\n",
       "      <td>...</td>\n",
       "      <td>...</td>\n",
       "      <td>...</td>\n",
       "      <td>...</td>\n",
       "    </tr>\n",
       "    <tr>\n",
       "      <th>4454</th>\n",
       "      <td>74584.373917</td>\n",
       "      <td>5.720482</td>\n",
       "      <td>6.414775</td>\n",
       "      <td>3.36</td>\n",
       "      <td>46372.745043</td>\n",
       "    </tr>\n",
       "    <tr>\n",
       "      <th>469</th>\n",
       "      <td>60509.044588</td>\n",
       "      <td>7.126075</td>\n",
       "      <td>8.527952</td>\n",
       "      <td>6.29</td>\n",
       "      <td>28410.303750</td>\n",
       "    </tr>\n",
       "    <tr>\n",
       "      <th>3112</th>\n",
       "      <td>88722.959535</td>\n",
       "      <td>5.864466</td>\n",
       "      <td>5.987424</td>\n",
       "      <td>4.06</td>\n",
       "      <td>29896.674174</td>\n",
       "    </tr>\n",
       "    <tr>\n",
       "      <th>3796</th>\n",
       "      <td>64298.651420</td>\n",
       "      <td>7.004974</td>\n",
       "      <td>7.025782</td>\n",
       "      <td>3.39</td>\n",
       "      <td>35999.975533</td>\n",
       "    </tr>\n",
       "    <tr>\n",
       "      <th>866</th>\n",
       "      <td>75151.105555</td>\n",
       "      <td>7.299215</td>\n",
       "      <td>6.596280</td>\n",
       "      <td>3.30</td>\n",
       "      <td>32032.141095</td>\n",
       "    </tr>\n",
       "  </tbody>\n",
       "</table>\n",
       "<p>3974 rows × 5 columns</p>\n",
       "</div>"
      ],
      "text/plain": [
       "      Avg. Area Income  Avg. Area House Age  Avg. Area Number of Rooms  \\\n",
       "1487      83403.445246             7.005353                   9.404851   \n",
       "4079      57657.899557             5.391957                   4.904768   \n",
       "2233      74614.824494             5.008817                   5.963195   \n",
       "4128      63918.051581             5.099158                   7.662942   \n",
       "82        82061.565204             4.182828                   5.963032   \n",
       "...                ...                  ...                        ...   \n",
       "4454      74584.373917             5.720482                   6.414775   \n",
       "469       60509.044588             7.126075                   8.527952   \n",
       "3112      88722.959535             5.864466                   5.987424   \n",
       "3796      64298.651420             7.004974                   7.025782   \n",
       "866       75151.105555             7.299215                   6.596280   \n",
       "\n",
       "      Avg. Area Number of Bedrooms  Area Population  \n",
       "1487                          3.32     26319.720010  \n",
       "4079                          3.38     35437.887014  \n",
       "2233                          4.31     46070.443396  \n",
       "4128                          4.26     48669.649744  \n",
       "82                            4.10     36271.408496  \n",
       "...                            ...              ...  \n",
       "4454                          3.36     46372.745043  \n",
       "469                           6.29     28410.303750  \n",
       "3112                          4.06     29896.674174  \n",
       "3796                          3.39     35999.975533  \n",
       "866                           3.30     32032.141095  \n",
       "\n",
       "[3974 rows x 5 columns]"
      ]
     },
     "execution_count": 49,
     "metadata": {},
     "output_type": "execute_result"
    }
   ],
   "source": [
    "X_train"
   ]
  },
  {
   "cell_type": "code",
   "execution_count": null,
   "id": "a6798048",
   "metadata": {
    "papermill": {
     "duration": 0.028633,
     "end_time": "2024-08-10T07:31:27.544842",
     "exception": false,
     "start_time": "2024-08-10T07:31:27.516209",
     "status": "completed"
    },
    "tags": []
   },
   "outputs": [],
   "source": []
  },
  {
   "cell_type": "markdown",
   "id": "0d980298",
   "metadata": {
    "papermill": {
     "duration": 0.027488,
     "end_time": "2024-08-10T07:31:27.600332",
     "exception": false,
     "start_time": "2024-08-10T07:31:27.572844",
     "status": "completed"
    },
    "tags": []
   },
   "source": [
    "## Model Selection"
   ]
  },
  {
   "cell_type": "markdown",
   "id": "b241bdb6",
   "metadata": {
    "papermill": {
     "duration": 0.026647,
     "end_time": "2024-08-10T07:31:27.655196",
     "exception": false,
     "start_time": "2024-08-10T07:31:27.628549",
     "status": "completed"
    },
    "tags": []
   },
   "source": [
    "### Using Linear Regression"
   ]
  },
  {
   "cell_type": "code",
   "execution_count": 50,
   "id": "d2ef2c3b",
   "metadata": {
    "execution": {
     "iopub.execute_input": "2024-08-10T07:31:27.711556Z",
     "iopub.status.busy": "2024-08-10T07:31:27.711162Z",
     "iopub.status.idle": "2024-08-10T07:31:27.742068Z",
     "shell.execute_reply": "2024-08-10T07:31:27.740911Z"
    },
    "papermill": {
     "duration": 0.062133,
     "end_time": "2024-08-10T07:31:27.744595",
     "exception": false,
     "start_time": "2024-08-10T07:31:27.682462",
     "status": "completed"
    },
    "tags": []
   },
   "outputs": [
    {
     "data": {
      "text/html": [
       "<style>#sk-container-id-1 {color: black;background-color: white;}#sk-container-id-1 pre{padding: 0;}#sk-container-id-1 div.sk-toggleable {background-color: white;}#sk-container-id-1 label.sk-toggleable__label {cursor: pointer;display: block;width: 100%;margin-bottom: 0;padding: 0.3em;box-sizing: border-box;text-align: center;}#sk-container-id-1 label.sk-toggleable__label-arrow:before {content: \"▸\";float: left;margin-right: 0.25em;color: #696969;}#sk-container-id-1 label.sk-toggleable__label-arrow:hover:before {color: black;}#sk-container-id-1 div.sk-estimator:hover label.sk-toggleable__label-arrow:before {color: black;}#sk-container-id-1 div.sk-toggleable__content {max-height: 0;max-width: 0;overflow: hidden;text-align: left;background-color: #f0f8ff;}#sk-container-id-1 div.sk-toggleable__content pre {margin: 0.2em;color: black;border-radius: 0.25em;background-color: #f0f8ff;}#sk-container-id-1 input.sk-toggleable__control:checked~div.sk-toggleable__content {max-height: 200px;max-width: 100%;overflow: auto;}#sk-container-id-1 input.sk-toggleable__control:checked~label.sk-toggleable__label-arrow:before {content: \"▾\";}#sk-container-id-1 div.sk-estimator input.sk-toggleable__control:checked~label.sk-toggleable__label {background-color: #d4ebff;}#sk-container-id-1 div.sk-label input.sk-toggleable__control:checked~label.sk-toggleable__label {background-color: #d4ebff;}#sk-container-id-1 input.sk-hidden--visually {border: 0;clip: rect(1px 1px 1px 1px);clip: rect(1px, 1px, 1px, 1px);height: 1px;margin: -1px;overflow: hidden;padding: 0;position: absolute;width: 1px;}#sk-container-id-1 div.sk-estimator {font-family: monospace;background-color: #f0f8ff;border: 1px dotted black;border-radius: 0.25em;box-sizing: border-box;margin-bottom: 0.5em;}#sk-container-id-1 div.sk-estimator:hover {background-color: #d4ebff;}#sk-container-id-1 div.sk-parallel-item::after {content: \"\";width: 100%;border-bottom: 1px solid gray;flex-grow: 1;}#sk-container-id-1 div.sk-label:hover label.sk-toggleable__label {background-color: #d4ebff;}#sk-container-id-1 div.sk-serial::before {content: \"\";position: absolute;border-left: 1px solid gray;box-sizing: border-box;top: 0;bottom: 0;left: 50%;z-index: 0;}#sk-container-id-1 div.sk-serial {display: flex;flex-direction: column;align-items: center;background-color: white;padding-right: 0.2em;padding-left: 0.2em;position: relative;}#sk-container-id-1 div.sk-item {position: relative;z-index: 1;}#sk-container-id-1 div.sk-parallel {display: flex;align-items: stretch;justify-content: center;background-color: white;position: relative;}#sk-container-id-1 div.sk-item::before, #sk-container-id-1 div.sk-parallel-item::before {content: \"\";position: absolute;border-left: 1px solid gray;box-sizing: border-box;top: 0;bottom: 0;left: 50%;z-index: -1;}#sk-container-id-1 div.sk-parallel-item {display: flex;flex-direction: column;z-index: 1;position: relative;background-color: white;}#sk-container-id-1 div.sk-parallel-item:first-child::after {align-self: flex-end;width: 50%;}#sk-container-id-1 div.sk-parallel-item:last-child::after {align-self: flex-start;width: 50%;}#sk-container-id-1 div.sk-parallel-item:only-child::after {width: 0;}#sk-container-id-1 div.sk-dashed-wrapped {border: 1px dashed gray;margin: 0 0.4em 0.5em 0.4em;box-sizing: border-box;padding-bottom: 0.4em;background-color: white;}#sk-container-id-1 div.sk-label label {font-family: monospace;font-weight: bold;display: inline-block;line-height: 1.2em;}#sk-container-id-1 div.sk-label-container {text-align: center;}#sk-container-id-1 div.sk-container {/* jupyter's `normalize.less` sets `[hidden] { display: none; }` but bootstrap.min.css set `[hidden] { display: none !important; }` so we also need the `!important` here to be able to override the default hidden behavior on the sphinx rendered scikit-learn.org. See: https://github.com/scikit-learn/scikit-learn/issues/21755 */display: inline-block !important;position: relative;}#sk-container-id-1 div.sk-text-repr-fallback {display: none;}</style><div id=\"sk-container-id-1\" class=\"sk-top-container\"><div class=\"sk-text-repr-fallback\"><pre>LinearRegression()</pre><b>In a Jupyter environment, please rerun this cell to show the HTML representation or trust the notebook. <br />On GitHub, the HTML representation is unable to render, please try loading this page with nbviewer.org.</b></div><div class=\"sk-container\" hidden><div class=\"sk-item\"><div class=\"sk-estimator sk-toggleable\"><input class=\"sk-toggleable__control sk-hidden--visually\" id=\"sk-estimator-id-1\" type=\"checkbox\" checked><label for=\"sk-estimator-id-1\" class=\"sk-toggleable__label sk-toggleable__label-arrow\">LinearRegression</label><div class=\"sk-toggleable__content\"><pre>LinearRegression()</pre></div></div></div></div></div>"
      ],
      "text/plain": [
       "LinearRegression()"
      ]
     },
     "execution_count": 50,
     "metadata": {},
     "output_type": "execute_result"
    }
   ],
   "source": [
    "lr = LinearRegression()\n",
    "lr.fit(X_train, y_train)"
   ]
  },
  {
   "cell_type": "code",
   "execution_count": 51,
   "id": "f50c91b0",
   "metadata": {
    "execution": {
     "iopub.execute_input": "2024-08-10T07:31:27.801518Z",
     "iopub.status.busy": "2024-08-10T07:31:27.800646Z",
     "iopub.status.idle": "2024-08-10T07:31:27.814868Z",
     "shell.execute_reply": "2024-08-10T07:31:27.813545Z"
    },
    "papermill": {
     "duration": 0.047309,
     "end_time": "2024-08-10T07:31:27.819448",
     "exception": false,
     "start_time": "2024-08-10T07:31:27.772139",
     "status": "completed"
    },
    "tags": []
   },
   "outputs": [
    {
     "name": "stdout",
     "output_type": "stream",
     "text": [
      "Training Accuracy : 92.0 %\n",
      "Test Accuracy : 91.0 %\n"
     ]
    }
   ],
   "source": [
    "print(f'Training Accuracy : {round(lr.score(X_train ,y_train), 2)* 100} %')\n",
    "print(f'Test Accuracy : {round(lr.score(X_test ,y_test), 2)* 100} %')\n"
   ]
  },
  {
   "cell_type": "code",
   "execution_count": null,
   "id": "b27d54d1",
   "metadata": {
    "papermill": {
     "duration": 0.045974,
     "end_time": "2024-08-10T07:31:27.911371",
     "exception": false,
     "start_time": "2024-08-10T07:31:27.865397",
     "status": "completed"
    },
    "tags": []
   },
   "outputs": [],
   "source": []
  },
  {
   "cell_type": "markdown",
   "id": "b918caed",
   "metadata": {
    "papermill": {
     "duration": 0.027282,
     "end_time": "2024-08-10T07:31:27.972589",
     "exception": false,
     "start_time": "2024-08-10T07:31:27.945307",
     "status": "completed"
    },
    "tags": []
   },
   "source": [
    "### Using Decision Tree Regressor"
   ]
  },
  {
   "cell_type": "code",
   "execution_count": 52,
   "id": "ebfe9229",
   "metadata": {
    "execution": {
     "iopub.execute_input": "2024-08-10T07:31:28.029479Z",
     "iopub.status.busy": "2024-08-10T07:31:28.028652Z",
     "iopub.status.idle": "2024-08-10T07:31:28.057017Z",
     "shell.execute_reply": "2024-08-10T07:31:28.055604Z"
    },
    "papermill": {
     "duration": 0.05968,
     "end_time": "2024-08-10T07:31:28.059581",
     "exception": false,
     "start_time": "2024-08-10T07:31:27.999901",
     "status": "completed"
    },
    "tags": []
   },
   "outputs": [
    {
     "data": {
      "text/html": [
       "<style>#sk-container-id-2 {color: black;background-color: white;}#sk-container-id-2 pre{padding: 0;}#sk-container-id-2 div.sk-toggleable {background-color: white;}#sk-container-id-2 label.sk-toggleable__label {cursor: pointer;display: block;width: 100%;margin-bottom: 0;padding: 0.3em;box-sizing: border-box;text-align: center;}#sk-container-id-2 label.sk-toggleable__label-arrow:before {content: \"▸\";float: left;margin-right: 0.25em;color: #696969;}#sk-container-id-2 label.sk-toggleable__label-arrow:hover:before {color: black;}#sk-container-id-2 div.sk-estimator:hover label.sk-toggleable__label-arrow:before {color: black;}#sk-container-id-2 div.sk-toggleable__content {max-height: 0;max-width: 0;overflow: hidden;text-align: left;background-color: #f0f8ff;}#sk-container-id-2 div.sk-toggleable__content pre {margin: 0.2em;color: black;border-radius: 0.25em;background-color: #f0f8ff;}#sk-container-id-2 input.sk-toggleable__control:checked~div.sk-toggleable__content {max-height: 200px;max-width: 100%;overflow: auto;}#sk-container-id-2 input.sk-toggleable__control:checked~label.sk-toggleable__label-arrow:before {content: \"▾\";}#sk-container-id-2 div.sk-estimator input.sk-toggleable__control:checked~label.sk-toggleable__label {background-color: #d4ebff;}#sk-container-id-2 div.sk-label input.sk-toggleable__control:checked~label.sk-toggleable__label {background-color: #d4ebff;}#sk-container-id-2 input.sk-hidden--visually {border: 0;clip: rect(1px 1px 1px 1px);clip: rect(1px, 1px, 1px, 1px);height: 1px;margin: -1px;overflow: hidden;padding: 0;position: absolute;width: 1px;}#sk-container-id-2 div.sk-estimator {font-family: monospace;background-color: #f0f8ff;border: 1px dotted black;border-radius: 0.25em;box-sizing: border-box;margin-bottom: 0.5em;}#sk-container-id-2 div.sk-estimator:hover {background-color: #d4ebff;}#sk-container-id-2 div.sk-parallel-item::after {content: \"\";width: 100%;border-bottom: 1px solid gray;flex-grow: 1;}#sk-container-id-2 div.sk-label:hover label.sk-toggleable__label {background-color: #d4ebff;}#sk-container-id-2 div.sk-serial::before {content: \"\";position: absolute;border-left: 1px solid gray;box-sizing: border-box;top: 0;bottom: 0;left: 50%;z-index: 0;}#sk-container-id-2 div.sk-serial {display: flex;flex-direction: column;align-items: center;background-color: white;padding-right: 0.2em;padding-left: 0.2em;position: relative;}#sk-container-id-2 div.sk-item {position: relative;z-index: 1;}#sk-container-id-2 div.sk-parallel {display: flex;align-items: stretch;justify-content: center;background-color: white;position: relative;}#sk-container-id-2 div.sk-item::before, #sk-container-id-2 div.sk-parallel-item::before {content: \"\";position: absolute;border-left: 1px solid gray;box-sizing: border-box;top: 0;bottom: 0;left: 50%;z-index: -1;}#sk-container-id-2 div.sk-parallel-item {display: flex;flex-direction: column;z-index: 1;position: relative;background-color: white;}#sk-container-id-2 div.sk-parallel-item:first-child::after {align-self: flex-end;width: 50%;}#sk-container-id-2 div.sk-parallel-item:last-child::after {align-self: flex-start;width: 50%;}#sk-container-id-2 div.sk-parallel-item:only-child::after {width: 0;}#sk-container-id-2 div.sk-dashed-wrapped {border: 1px dashed gray;margin: 0 0.4em 0.5em 0.4em;box-sizing: border-box;padding-bottom: 0.4em;background-color: white;}#sk-container-id-2 div.sk-label label {font-family: monospace;font-weight: bold;display: inline-block;line-height: 1.2em;}#sk-container-id-2 div.sk-label-container {text-align: center;}#sk-container-id-2 div.sk-container {/* jupyter's `normalize.less` sets `[hidden] { display: none; }` but bootstrap.min.css set `[hidden] { display: none !important; }` so we also need the `!important` here to be able to override the default hidden behavior on the sphinx rendered scikit-learn.org. See: https://github.com/scikit-learn/scikit-learn/issues/21755 */display: inline-block !important;position: relative;}#sk-container-id-2 div.sk-text-repr-fallback {display: none;}</style><div id=\"sk-container-id-2\" class=\"sk-top-container\"><div class=\"sk-text-repr-fallback\"><pre>DecisionTreeRegressor(max_depth=9)</pre><b>In a Jupyter environment, please rerun this cell to show the HTML representation or trust the notebook. <br />On GitHub, the HTML representation is unable to render, please try loading this page with nbviewer.org.</b></div><div class=\"sk-container\" hidden><div class=\"sk-item\"><div class=\"sk-estimator sk-toggleable\"><input class=\"sk-toggleable__control sk-hidden--visually\" id=\"sk-estimator-id-2\" type=\"checkbox\" checked><label for=\"sk-estimator-id-2\" class=\"sk-toggleable__label sk-toggleable__label-arrow\">DecisionTreeRegressor</label><div class=\"sk-toggleable__content\"><pre>DecisionTreeRegressor(max_depth=9)</pre></div></div></div></div></div>"
      ],
      "text/plain": [
       "DecisionTreeRegressor(max_depth=9)"
      ]
     },
     "execution_count": 52,
     "metadata": {},
     "output_type": "execute_result"
    }
   ],
   "source": [
    "dt = DecisionTreeRegressor(max_depth=9)\n",
    "dt.fit(X_train , y_train)"
   ]
  },
  {
   "cell_type": "code",
   "execution_count": 53,
   "id": "ba753a01",
   "metadata": {
    "execution": {
     "iopub.execute_input": "2024-08-10T07:31:28.121081Z",
     "iopub.status.busy": "2024-08-10T07:31:28.120708Z",
     "iopub.status.idle": "2024-08-10T07:31:28.132238Z",
     "shell.execute_reply": "2024-08-10T07:31:28.130760Z"
    },
    "papermill": {
     "duration": 0.044504,
     "end_time": "2024-08-10T07:31:28.134699",
     "exception": false,
     "start_time": "2024-08-10T07:31:28.090195",
     "status": "completed"
    },
    "tags": []
   },
   "outputs": [
    {
     "name": "stdout",
     "output_type": "stream",
     "text": [
      "Training Accuracy : 92.0 %\n",
      "Test Accuracy : 77.0 %\n"
     ]
    }
   ],
   "source": [
    "print(f'Training Accuracy : {round(dt.score(X_train ,y_train), 2)* 100} %')\n",
    "print(f'Test Accuracy : {round(dt.score(X_test ,y_test), 2)* 100} %')\n"
   ]
  },
  {
   "cell_type": "code",
   "execution_count": null,
   "id": "7d80a4b7",
   "metadata": {
    "papermill": {
     "duration": 0.028091,
     "end_time": "2024-08-10T07:31:28.190949",
     "exception": false,
     "start_time": "2024-08-10T07:31:28.162858",
     "status": "completed"
    },
    "tags": []
   },
   "outputs": [],
   "source": []
  },
  {
   "cell_type": "markdown",
   "id": "e0564eb7",
   "metadata": {
    "papermill": {
     "duration": 0.027566,
     "end_time": "2024-08-10T07:31:28.247709",
     "exception": false,
     "start_time": "2024-08-10T07:31:28.220143",
     "status": "completed"
    },
    "tags": []
   },
   "source": [
    "### Using Gradient Boosting Regressor"
   ]
  },
  {
   "cell_type": "code",
   "execution_count": 54,
   "id": "e382031e",
   "metadata": {
    "execution": {
     "iopub.execute_input": "2024-08-10T07:31:28.306040Z",
     "iopub.status.busy": "2024-08-10T07:31:28.305000Z",
     "iopub.status.idle": "2024-08-10T07:31:29.074868Z",
     "shell.execute_reply": "2024-08-10T07:31:29.073648Z"
    },
    "papermill": {
     "duration": 0.801997,
     "end_time": "2024-08-10T07:31:29.077419",
     "exception": false,
     "start_time": "2024-08-10T07:31:28.275422",
     "status": "completed"
    },
    "tags": []
   },
   "outputs": [
    {
     "data": {
      "text/html": [
       "<style>#sk-container-id-3 {color: black;background-color: white;}#sk-container-id-3 pre{padding: 0;}#sk-container-id-3 div.sk-toggleable {background-color: white;}#sk-container-id-3 label.sk-toggleable__label {cursor: pointer;display: block;width: 100%;margin-bottom: 0;padding: 0.3em;box-sizing: border-box;text-align: center;}#sk-container-id-3 label.sk-toggleable__label-arrow:before {content: \"▸\";float: left;margin-right: 0.25em;color: #696969;}#sk-container-id-3 label.sk-toggleable__label-arrow:hover:before {color: black;}#sk-container-id-3 div.sk-estimator:hover label.sk-toggleable__label-arrow:before {color: black;}#sk-container-id-3 div.sk-toggleable__content {max-height: 0;max-width: 0;overflow: hidden;text-align: left;background-color: #f0f8ff;}#sk-container-id-3 div.sk-toggleable__content pre {margin: 0.2em;color: black;border-radius: 0.25em;background-color: #f0f8ff;}#sk-container-id-3 input.sk-toggleable__control:checked~div.sk-toggleable__content {max-height: 200px;max-width: 100%;overflow: auto;}#sk-container-id-3 input.sk-toggleable__control:checked~label.sk-toggleable__label-arrow:before {content: \"▾\";}#sk-container-id-3 div.sk-estimator input.sk-toggleable__control:checked~label.sk-toggleable__label {background-color: #d4ebff;}#sk-container-id-3 div.sk-label input.sk-toggleable__control:checked~label.sk-toggleable__label {background-color: #d4ebff;}#sk-container-id-3 input.sk-hidden--visually {border: 0;clip: rect(1px 1px 1px 1px);clip: rect(1px, 1px, 1px, 1px);height: 1px;margin: -1px;overflow: hidden;padding: 0;position: absolute;width: 1px;}#sk-container-id-3 div.sk-estimator {font-family: monospace;background-color: #f0f8ff;border: 1px dotted black;border-radius: 0.25em;box-sizing: border-box;margin-bottom: 0.5em;}#sk-container-id-3 div.sk-estimator:hover {background-color: #d4ebff;}#sk-container-id-3 div.sk-parallel-item::after {content: \"\";width: 100%;border-bottom: 1px solid gray;flex-grow: 1;}#sk-container-id-3 div.sk-label:hover label.sk-toggleable__label {background-color: #d4ebff;}#sk-container-id-3 div.sk-serial::before {content: \"\";position: absolute;border-left: 1px solid gray;box-sizing: border-box;top: 0;bottom: 0;left: 50%;z-index: 0;}#sk-container-id-3 div.sk-serial {display: flex;flex-direction: column;align-items: center;background-color: white;padding-right: 0.2em;padding-left: 0.2em;position: relative;}#sk-container-id-3 div.sk-item {position: relative;z-index: 1;}#sk-container-id-3 div.sk-parallel {display: flex;align-items: stretch;justify-content: center;background-color: white;position: relative;}#sk-container-id-3 div.sk-item::before, #sk-container-id-3 div.sk-parallel-item::before {content: \"\";position: absolute;border-left: 1px solid gray;box-sizing: border-box;top: 0;bottom: 0;left: 50%;z-index: -1;}#sk-container-id-3 div.sk-parallel-item {display: flex;flex-direction: column;z-index: 1;position: relative;background-color: white;}#sk-container-id-3 div.sk-parallel-item:first-child::after {align-self: flex-end;width: 50%;}#sk-container-id-3 div.sk-parallel-item:last-child::after {align-self: flex-start;width: 50%;}#sk-container-id-3 div.sk-parallel-item:only-child::after {width: 0;}#sk-container-id-3 div.sk-dashed-wrapped {border: 1px dashed gray;margin: 0 0.4em 0.5em 0.4em;box-sizing: border-box;padding-bottom: 0.4em;background-color: white;}#sk-container-id-3 div.sk-label label {font-family: monospace;font-weight: bold;display: inline-block;line-height: 1.2em;}#sk-container-id-3 div.sk-label-container {text-align: center;}#sk-container-id-3 div.sk-container {/* jupyter's `normalize.less` sets `[hidden] { display: none; }` but bootstrap.min.css set `[hidden] { display: none !important; }` so we also need the `!important` here to be able to override the default hidden behavior on the sphinx rendered scikit-learn.org. See: https://github.com/scikit-learn/scikit-learn/issues/21755 */display: inline-block !important;position: relative;}#sk-container-id-3 div.sk-text-repr-fallback {display: none;}</style><div id=\"sk-container-id-3\" class=\"sk-top-container\"><div class=\"sk-text-repr-fallback\"><pre>GradientBoostingRegressor()</pre><b>In a Jupyter environment, please rerun this cell to show the HTML representation or trust the notebook. <br />On GitHub, the HTML representation is unable to render, please try loading this page with nbviewer.org.</b></div><div class=\"sk-container\" hidden><div class=\"sk-item\"><div class=\"sk-estimator sk-toggleable\"><input class=\"sk-toggleable__control sk-hidden--visually\" id=\"sk-estimator-id-3\" type=\"checkbox\" checked><label for=\"sk-estimator-id-3\" class=\"sk-toggleable__label sk-toggleable__label-arrow\">GradientBoostingRegressor</label><div class=\"sk-toggleable__content\"><pre>GradientBoostingRegressor()</pre></div></div></div></div></div>"
      ],
      "text/plain": [
       "GradientBoostingRegressor()"
      ]
     },
     "execution_count": 54,
     "metadata": {},
     "output_type": "execute_result"
    }
   ],
   "source": [
    "gbr = GradientBoostingRegressor()\n",
    "gbr.fit(X_train, y_train)"
   ]
  },
  {
   "cell_type": "code",
   "execution_count": 55,
   "id": "dddf54eb",
   "metadata": {
    "execution": {
     "iopub.execute_input": "2024-08-10T07:31:29.138081Z",
     "iopub.status.busy": "2024-08-10T07:31:29.137679Z",
     "iopub.status.idle": "2024-08-10T07:31:29.158978Z",
     "shell.execute_reply": "2024-08-10T07:31:29.157411Z"
    },
    "papermill": {
     "duration": 0.055281,
     "end_time": "2024-08-10T07:31:29.161510",
     "exception": false,
     "start_time": "2024-08-10T07:31:29.106229",
     "status": "completed"
    },
    "tags": []
   },
   "outputs": [
    {
     "name": "stdout",
     "output_type": "stream",
     "text": [
      "Training Accuracy : 93.0 %\n",
      "Test Accuracy : 90.0 %\n"
     ]
    }
   ],
   "source": [
    "print(f'Training Accuracy : {round(gbr.score(X_train ,y_train), 2)* 100} %')\n",
    "print(f'Test Accuracy : {round(gbr.score(X_test ,y_test), 2)* 100} %')\n"
   ]
  },
  {
   "cell_type": "code",
   "execution_count": null,
   "id": "86610af7",
   "metadata": {
    "papermill": {
     "duration": 0.028543,
     "end_time": "2024-08-10T07:31:29.218915",
     "exception": false,
     "start_time": "2024-08-10T07:31:29.190372",
     "status": "completed"
    },
    "tags": []
   },
   "outputs": [],
   "source": []
  },
  {
   "cell_type": "markdown",
   "id": "16802f6d",
   "metadata": {
    "papermill": {
     "duration": 0.030759,
     "end_time": "2024-08-10T07:31:29.279707",
     "exception": false,
     "start_time": "2024-08-10T07:31:29.248948",
     "status": "completed"
    },
    "tags": []
   },
   "source": [
    "## Model Training - Linear Regression"
   ]
  },
  {
   "cell_type": "code",
   "execution_count": 56,
   "id": "efa53232",
   "metadata": {
    "execution": {
     "iopub.execute_input": "2024-08-10T07:31:29.338740Z",
     "iopub.status.busy": "2024-08-10T07:31:29.338318Z",
     "iopub.status.idle": "2024-08-10T07:31:29.350624Z",
     "shell.execute_reply": "2024-08-10T07:31:29.349459Z"
    },
    "papermill": {
     "duration": 0.044328,
     "end_time": "2024-08-10T07:31:29.353052",
     "exception": false,
     "start_time": "2024-08-10T07:31:29.308724",
     "status": "completed"
    },
    "tags": []
   },
   "outputs": [
    {
     "data": {
      "text/html": [
       "<style>#sk-container-id-4 {color: black;background-color: white;}#sk-container-id-4 pre{padding: 0;}#sk-container-id-4 div.sk-toggleable {background-color: white;}#sk-container-id-4 label.sk-toggleable__label {cursor: pointer;display: block;width: 100%;margin-bottom: 0;padding: 0.3em;box-sizing: border-box;text-align: center;}#sk-container-id-4 label.sk-toggleable__label-arrow:before {content: \"▸\";float: left;margin-right: 0.25em;color: #696969;}#sk-container-id-4 label.sk-toggleable__label-arrow:hover:before {color: black;}#sk-container-id-4 div.sk-estimator:hover label.sk-toggleable__label-arrow:before {color: black;}#sk-container-id-4 div.sk-toggleable__content {max-height: 0;max-width: 0;overflow: hidden;text-align: left;background-color: #f0f8ff;}#sk-container-id-4 div.sk-toggleable__content pre {margin: 0.2em;color: black;border-radius: 0.25em;background-color: #f0f8ff;}#sk-container-id-4 input.sk-toggleable__control:checked~div.sk-toggleable__content {max-height: 200px;max-width: 100%;overflow: auto;}#sk-container-id-4 input.sk-toggleable__control:checked~label.sk-toggleable__label-arrow:before {content: \"▾\";}#sk-container-id-4 div.sk-estimator input.sk-toggleable__control:checked~label.sk-toggleable__label {background-color: #d4ebff;}#sk-container-id-4 div.sk-label input.sk-toggleable__control:checked~label.sk-toggleable__label {background-color: #d4ebff;}#sk-container-id-4 input.sk-hidden--visually {border: 0;clip: rect(1px 1px 1px 1px);clip: rect(1px, 1px, 1px, 1px);height: 1px;margin: -1px;overflow: hidden;padding: 0;position: absolute;width: 1px;}#sk-container-id-4 div.sk-estimator {font-family: monospace;background-color: #f0f8ff;border: 1px dotted black;border-radius: 0.25em;box-sizing: border-box;margin-bottom: 0.5em;}#sk-container-id-4 div.sk-estimator:hover {background-color: #d4ebff;}#sk-container-id-4 div.sk-parallel-item::after {content: \"\";width: 100%;border-bottom: 1px solid gray;flex-grow: 1;}#sk-container-id-4 div.sk-label:hover label.sk-toggleable__label {background-color: #d4ebff;}#sk-container-id-4 div.sk-serial::before {content: \"\";position: absolute;border-left: 1px solid gray;box-sizing: border-box;top: 0;bottom: 0;left: 50%;z-index: 0;}#sk-container-id-4 div.sk-serial {display: flex;flex-direction: column;align-items: center;background-color: white;padding-right: 0.2em;padding-left: 0.2em;position: relative;}#sk-container-id-4 div.sk-item {position: relative;z-index: 1;}#sk-container-id-4 div.sk-parallel {display: flex;align-items: stretch;justify-content: center;background-color: white;position: relative;}#sk-container-id-4 div.sk-item::before, #sk-container-id-4 div.sk-parallel-item::before {content: \"\";position: absolute;border-left: 1px solid gray;box-sizing: border-box;top: 0;bottom: 0;left: 50%;z-index: -1;}#sk-container-id-4 div.sk-parallel-item {display: flex;flex-direction: column;z-index: 1;position: relative;background-color: white;}#sk-container-id-4 div.sk-parallel-item:first-child::after {align-self: flex-end;width: 50%;}#sk-container-id-4 div.sk-parallel-item:last-child::after {align-self: flex-start;width: 50%;}#sk-container-id-4 div.sk-parallel-item:only-child::after {width: 0;}#sk-container-id-4 div.sk-dashed-wrapped {border: 1px dashed gray;margin: 0 0.4em 0.5em 0.4em;box-sizing: border-box;padding-bottom: 0.4em;background-color: white;}#sk-container-id-4 div.sk-label label {font-family: monospace;font-weight: bold;display: inline-block;line-height: 1.2em;}#sk-container-id-4 div.sk-label-container {text-align: center;}#sk-container-id-4 div.sk-container {/* jupyter's `normalize.less` sets `[hidden] { display: none; }` but bootstrap.min.css set `[hidden] { display: none !important; }` so we also need the `!important` here to be able to override the default hidden behavior on the sphinx rendered scikit-learn.org. See: https://github.com/scikit-learn/scikit-learn/issues/21755 */display: inline-block !important;position: relative;}#sk-container-id-4 div.sk-text-repr-fallback {display: none;}</style><div id=\"sk-container-id-4\" class=\"sk-top-container\"><div class=\"sk-text-repr-fallback\"><pre>LinearRegression()</pre><b>In a Jupyter environment, please rerun this cell to show the HTML representation or trust the notebook. <br />On GitHub, the HTML representation is unable to render, please try loading this page with nbviewer.org.</b></div><div class=\"sk-container\" hidden><div class=\"sk-item\"><div class=\"sk-estimator sk-toggleable\"><input class=\"sk-toggleable__control sk-hidden--visually\" id=\"sk-estimator-id-4\" type=\"checkbox\" checked><label for=\"sk-estimator-id-4\" class=\"sk-toggleable__label sk-toggleable__label-arrow\">LinearRegression</label><div class=\"sk-toggleable__content\"><pre>LinearRegression()</pre></div></div></div></div></div>"
      ],
      "text/plain": [
       "LinearRegression()"
      ]
     },
     "execution_count": 56,
     "metadata": {},
     "output_type": "execute_result"
    }
   ],
   "source": [
    "lr = LinearRegression()\n",
    "lr.fit(X_train ,y_train)"
   ]
  },
  {
   "cell_type": "markdown",
   "id": "94f31a11",
   "metadata": {
    "papermill": {
     "duration": 0.028676,
     "end_time": "2024-08-10T07:31:29.410491",
     "exception": false,
     "start_time": "2024-08-10T07:31:29.381815",
     "status": "completed"
    },
    "tags": []
   },
   "source": [
    "## Model Prediction"
   ]
  },
  {
   "cell_type": "code",
   "execution_count": 57,
   "id": "b8ad5781",
   "metadata": {
    "execution": {
     "iopub.execute_input": "2024-08-10T07:31:29.469518Z",
     "iopub.status.busy": "2024-08-10T07:31:29.469121Z",
     "iopub.status.idle": "2024-08-10T07:31:29.481151Z",
     "shell.execute_reply": "2024-08-10T07:31:29.479899Z"
    },
    "papermill": {
     "duration": 0.045398,
     "end_time": "2024-08-10T07:31:29.484836",
     "exception": false,
     "start_time": "2024-08-10T07:31:29.439438",
     "status": "completed"
    },
    "tags": []
   },
   "outputs": [],
   "source": [
    "y_train_pred = lr.predict(X_train)\n",
    "y_test_pred = lr.predict(X_test)"
   ]
  },
  {
   "cell_type": "code",
   "execution_count": 58,
   "id": "7dbd13bb",
   "metadata": {
    "execution": {
     "iopub.execute_input": "2024-08-10T07:31:29.581122Z",
     "iopub.status.busy": "2024-08-10T07:31:29.580620Z",
     "iopub.status.idle": "2024-08-10T07:31:29.599961Z",
     "shell.execute_reply": "2024-08-10T07:31:29.598828Z"
    },
    "papermill": {
     "duration": 0.070488,
     "end_time": "2024-08-10T07:31:29.602442",
     "exception": false,
     "start_time": "2024-08-10T07:31:29.531954",
     "status": "completed"
    },
    "tags": []
   },
   "outputs": [
    {
     "data": {
      "text/html": [
       "<div>\n",
       "<style scoped>\n",
       "    .dataframe tbody tr th:only-of-type {\n",
       "        vertical-align: middle;\n",
       "    }\n",
       "\n",
       "    .dataframe tbody tr th {\n",
       "        vertical-align: top;\n",
       "    }\n",
       "\n",
       "    .dataframe thead th {\n",
       "        text-align: right;\n",
       "    }\n",
       "</style>\n",
       "<table border=\"1\" class=\"dataframe\">\n",
       "  <thead>\n",
       "    <tr style=\"text-align: right;\">\n",
       "      <th></th>\n",
       "      <th>Avg. Area Income</th>\n",
       "      <th>Avg. Area House Age</th>\n",
       "      <th>Avg. Area Number of Rooms</th>\n",
       "      <th>Avg. Area Number of Bedrooms</th>\n",
       "      <th>Area Population</th>\n",
       "    </tr>\n",
       "  </thead>\n",
       "  <tbody>\n",
       "    <tr>\n",
       "      <th>1487</th>\n",
       "      <td>83403.445246</td>\n",
       "      <td>7.005353</td>\n",
       "      <td>9.404851</td>\n",
       "      <td>3.32</td>\n",
       "      <td>26319.720010</td>\n",
       "    </tr>\n",
       "    <tr>\n",
       "      <th>4079</th>\n",
       "      <td>57657.899557</td>\n",
       "      <td>5.391957</td>\n",
       "      <td>4.904768</td>\n",
       "      <td>3.38</td>\n",
       "      <td>35437.887014</td>\n",
       "    </tr>\n",
       "    <tr>\n",
       "      <th>2233</th>\n",
       "      <td>74614.824494</td>\n",
       "      <td>5.008817</td>\n",
       "      <td>5.963195</td>\n",
       "      <td>4.31</td>\n",
       "      <td>46070.443396</td>\n",
       "    </tr>\n",
       "  </tbody>\n",
       "</table>\n",
       "</div>"
      ],
      "text/plain": [
       "      Avg. Area Income  Avg. Area House Age  Avg. Area Number of Rooms  \\\n",
       "1487      83403.445246             7.005353                   9.404851   \n",
       "4079      57657.899557             5.391957                   4.904768   \n",
       "2233      74614.824494             5.008817                   5.963195   \n",
       "\n",
       "      Avg. Area Number of Bedrooms  Area Population  \n",
       "1487                          3.32     26319.720010  \n",
       "4079                          3.38     35437.887014  \n",
       "2233                          4.31     46070.443396  "
      ]
     },
     "execution_count": 58,
     "metadata": {},
     "output_type": "execute_result"
    }
   ],
   "source": [
    "X_train[:3]"
   ]
  },
  {
   "cell_type": "code",
   "execution_count": 59,
   "id": "1b8e9957",
   "metadata": {
    "execution": {
     "iopub.execute_input": "2024-08-10T07:31:29.662762Z",
     "iopub.status.busy": "2024-08-10T07:31:29.662343Z",
     "iopub.status.idle": "2024-08-10T07:31:29.669889Z",
     "shell.execute_reply": "2024-08-10T07:31:29.668623Z"
    },
    "papermill": {
     "duration": 0.039989,
     "end_time": "2024-08-10T07:31:29.672259",
     "exception": false,
     "start_time": "2024-08-10T07:31:29.632270",
     "status": "completed"
    },
    "tags": []
   },
   "outputs": [
    {
     "data": {
      "text/plain": [
       "array([1869137.31811923,  630841.88594662, 1226538.77241716])"
      ]
     },
     "execution_count": 59,
     "metadata": {},
     "output_type": "execute_result"
    }
   ],
   "source": [
    "y_train_pred[:3]"
   ]
  },
  {
   "cell_type": "code",
   "execution_count": null,
   "id": "25052f50",
   "metadata": {
    "papermill": {
     "duration": 0.029304,
     "end_time": "2024-08-10T07:31:29.730129",
     "exception": false,
     "start_time": "2024-08-10T07:31:29.700825",
     "status": "completed"
    },
    "tags": []
   },
   "outputs": [],
   "source": []
  },
  {
   "cell_type": "markdown",
   "id": "c78254ca",
   "metadata": {
    "papermill": {
     "duration": 0.028486,
     "end_time": "2024-08-10T07:31:29.787537",
     "exception": false,
     "start_time": "2024-08-10T07:31:29.759051",
     "status": "completed"
    },
    "tags": []
   },
   "source": [
    "# Slopes/Coefficients"
   ]
  },
  {
   "cell_type": "code",
   "execution_count": 60,
   "id": "aa25092d",
   "metadata": {
    "execution": {
     "iopub.execute_input": "2024-08-10T07:31:29.847095Z",
     "iopub.status.busy": "2024-08-10T07:31:29.846694Z",
     "iopub.status.idle": "2024-08-10T07:31:29.853711Z",
     "shell.execute_reply": "2024-08-10T07:31:29.852545Z"
    },
    "papermill": {
     "duration": 0.039247,
     "end_time": "2024-08-10T07:31:29.856040",
     "exception": false,
     "start_time": "2024-08-10T07:31:29.816793",
     "status": "completed"
    },
    "tags": []
   },
   "outputs": [
    {
     "data": {
      "text/plain": [
       "Index(['Avg. Area Income', 'Avg. Area House Age', 'Avg. Area Number of Rooms',\n",
       "       'Avg. Area Number of Bedrooms', 'Area Population'],\n",
       "      dtype='object')"
      ]
     },
     "execution_count": 60,
     "metadata": {},
     "output_type": "execute_result"
    }
   ],
   "source": [
    "X.columns"
   ]
  },
  {
   "cell_type": "code",
   "execution_count": 61,
   "id": "a2360919",
   "metadata": {
    "execution": {
     "iopub.execute_input": "2024-08-10T07:31:29.915272Z",
     "iopub.status.busy": "2024-08-10T07:31:29.914889Z",
     "iopub.status.idle": "2024-08-10T07:31:29.922215Z",
     "shell.execute_reply": "2024-08-10T07:31:29.921076Z"
    },
    "papermill": {
     "duration": 0.039947,
     "end_time": "2024-08-10T07:31:29.924685",
     "exception": false,
     "start_time": "2024-08-10T07:31:29.884738",
     "status": "completed"
    },
    "tags": []
   },
   "outputs": [
    {
     "data": {
      "text/plain": [
       "array([2.17381405e+01, 1.66911366e+05, 1.21596266e+05, 1.84565486e+03,\n",
       "       1.51062686e+01])"
      ]
     },
     "execution_count": 61,
     "metadata": {},
     "output_type": "execute_result"
    }
   ],
   "source": [
    "lr.coef_"
   ]
  },
  {
   "cell_type": "code",
   "execution_count": 62,
   "id": "5967268e",
   "metadata": {
    "execution": {
     "iopub.execute_input": "2024-08-10T07:31:29.984638Z",
     "iopub.status.busy": "2024-08-10T07:31:29.984211Z",
     "iopub.status.idle": "2024-08-10T07:31:29.995614Z",
     "shell.execute_reply": "2024-08-10T07:31:29.994403Z"
    },
    "papermill": {
     "duration": 0.044593,
     "end_time": "2024-08-10T07:31:29.997887",
     "exception": false,
     "start_time": "2024-08-10T07:31:29.953294",
     "status": "completed"
    },
    "tags": []
   },
   "outputs": [
    {
     "data": {
      "text/html": [
       "<div>\n",
       "<style scoped>\n",
       "    .dataframe tbody tr th:only-of-type {\n",
       "        vertical-align: middle;\n",
       "    }\n",
       "\n",
       "    .dataframe tbody tr th {\n",
       "        vertical-align: top;\n",
       "    }\n",
       "\n",
       "    .dataframe thead th {\n",
       "        text-align: right;\n",
       "    }\n",
       "</style>\n",
       "<table border=\"1\" class=\"dataframe\">\n",
       "  <thead>\n",
       "    <tr style=\"text-align: right;\">\n",
       "      <th></th>\n",
       "      <th>Coefficients</th>\n",
       "    </tr>\n",
       "  </thead>\n",
       "  <tbody>\n",
       "    <tr>\n",
       "      <th>Avg. Area Income</th>\n",
       "      <td>21.738141</td>\n",
       "    </tr>\n",
       "    <tr>\n",
       "      <th>Avg. Area House Age</th>\n",
       "      <td>166911.365721</td>\n",
       "    </tr>\n",
       "    <tr>\n",
       "      <th>Avg. Area Number of Rooms</th>\n",
       "      <td>121596.266044</td>\n",
       "    </tr>\n",
       "    <tr>\n",
       "      <th>Avg. Area Number of Bedrooms</th>\n",
       "      <td>1845.654864</td>\n",
       "    </tr>\n",
       "    <tr>\n",
       "      <th>Area Population</th>\n",
       "      <td>15.106269</td>\n",
       "    </tr>\n",
       "  </tbody>\n",
       "</table>\n",
       "</div>"
      ],
      "text/plain": [
       "                               Coefficients\n",
       "Avg. Area Income                  21.738141\n",
       "Avg. Area House Age           166911.365721\n",
       "Avg. Area Number of Rooms     121596.266044\n",
       "Avg. Area Number of Bedrooms    1845.654864\n",
       "Area Population                   15.106269"
      ]
     },
     "execution_count": 62,
     "metadata": {},
     "output_type": "execute_result"
    }
   ],
   "source": [
    "pd.DataFrame(lr.coef_, index=X.columns, columns=['Coefficients'])"
   ]
  },
  {
   "cell_type": "code",
   "execution_count": null,
   "id": "9b825466",
   "metadata": {
    "papermill": {
     "duration": 0.030011,
     "end_time": "2024-08-10T07:31:30.057125",
     "exception": false,
     "start_time": "2024-08-10T07:31:30.027114",
     "status": "completed"
    },
    "tags": []
   },
   "outputs": [],
   "source": []
  },
  {
   "cell_type": "markdown",
   "id": "77fefcc9",
   "metadata": {
    "papermill": {
     "duration": 0.030072,
     "end_time": "2024-08-10T07:31:30.118107",
     "exception": false,
     "start_time": "2024-08-10T07:31:30.088035",
     "status": "completed"
    },
    "tags": []
   },
   "source": [
    "# Model Evaluation"
   ]
  },
  {
   "cell_type": "code",
   "execution_count": 63,
   "id": "2de836a7",
   "metadata": {
    "execution": {
     "iopub.execute_input": "2024-08-10T07:31:30.179789Z",
     "iopub.status.busy": "2024-08-10T07:31:30.179332Z",
     "iopub.status.idle": "2024-08-10T07:31:30.188236Z",
     "shell.execute_reply": "2024-08-10T07:31:30.186884Z"
    },
    "papermill": {
     "duration": 0.043508,
     "end_time": "2024-08-10T07:31:30.190726",
     "exception": false,
     "start_time": "2024-08-10T07:31:30.147218",
     "status": "completed"
    },
    "tags": []
   },
   "outputs": [
    {
     "data": {
      "text/plain": [
       "10113812895.703907"
      ]
     },
     "execution_count": 63,
     "metadata": {},
     "output_type": "execute_result"
    }
   ],
   "source": [
    "# Training Data\n",
    "\n",
    "mean_squared_error(y_train, y_train_pred)"
   ]
  },
  {
   "cell_type": "code",
   "execution_count": 64,
   "id": "531c20ba",
   "metadata": {
    "execution": {
     "iopub.execute_input": "2024-08-10T07:31:30.253382Z",
     "iopub.status.busy": "2024-08-10T07:31:30.252983Z",
     "iopub.status.idle": "2024-08-10T07:31:30.261928Z",
     "shell.execute_reply": "2024-08-10T07:31:30.260782Z"
    },
    "papermill": {
     "duration": 0.043137,
     "end_time": "2024-08-10T07:31:30.264274",
     "exception": false,
     "start_time": "2024-08-10T07:31:30.221137",
     "status": "completed"
    },
    "tags": []
   },
   "outputs": [
    {
     "data": {
      "text/plain": [
       "100567.45445572294"
      ]
     },
     "execution_count": 64,
     "metadata": {},
     "output_type": "execute_result"
    }
   ],
   "source": [
    "np.sqrt(mean_squared_error(y_train, y_train_pred))"
   ]
  },
  {
   "cell_type": "code",
   "execution_count": 65,
   "id": "6e23b3b1",
   "metadata": {
    "execution": {
     "iopub.execute_input": "2024-08-10T07:31:30.327794Z",
     "iopub.status.busy": "2024-08-10T07:31:30.327362Z",
     "iopub.status.idle": "2024-08-10T07:31:30.335638Z",
     "shell.execute_reply": "2024-08-10T07:31:30.334518Z"
    },
    "papermill": {
     "duration": 0.043663,
     "end_time": "2024-08-10T07:31:30.338066",
     "exception": false,
     "start_time": "2024-08-10T07:31:30.294403",
     "status": "completed"
    },
    "tags": []
   },
   "outputs": [
    {
     "data": {
      "text/plain": [
       "80801.40012743932"
      ]
     },
     "execution_count": 65,
     "metadata": {},
     "output_type": "execute_result"
    }
   ],
   "source": [
    "mean_absolute_error(y_train, y_train_pred)"
   ]
  },
  {
   "cell_type": "code",
   "execution_count": 66,
   "id": "04757719",
   "metadata": {
    "execution": {
     "iopub.execute_input": "2024-08-10T07:31:30.399792Z",
     "iopub.status.busy": "2024-08-10T07:31:30.399358Z",
     "iopub.status.idle": "2024-08-10T07:31:30.408620Z",
     "shell.execute_reply": "2024-08-10T07:31:30.407162Z"
    },
    "papermill": {
     "duration": 0.043475,
     "end_time": "2024-08-10T07:31:30.411157",
     "exception": false,
     "start_time": "2024-08-10T07:31:30.367682",
     "status": "completed"
    },
    "tags": []
   },
   "outputs": [
    {
     "data": {
      "text/plain": [
       "0.9174048587351101"
      ]
     },
     "execution_count": 66,
     "metadata": {},
     "output_type": "execute_result"
    }
   ],
   "source": [
    "r2_score(y_train , y_train_pred)"
   ]
  },
  {
   "cell_type": "code",
   "execution_count": null,
   "id": "eddbb3fd",
   "metadata": {
    "papermill": {
     "duration": 0.029283,
     "end_time": "2024-08-10T07:31:30.470374",
     "exception": false,
     "start_time": "2024-08-10T07:31:30.441091",
     "status": "completed"
    },
    "tags": []
   },
   "outputs": [],
   "source": []
  },
  {
   "cell_type": "code",
   "execution_count": 67,
   "id": "f288492a",
   "metadata": {
    "execution": {
     "iopub.execute_input": "2024-08-10T07:31:30.532106Z",
     "iopub.status.busy": "2024-08-10T07:31:30.531704Z",
     "iopub.status.idle": "2024-08-10T07:31:30.540249Z",
     "shell.execute_reply": "2024-08-10T07:31:30.538591Z"
    },
    "papermill": {
     "duration": 0.04366,
     "end_time": "2024-08-10T07:31:30.543649",
     "exception": false,
     "start_time": "2024-08-10T07:31:30.499989",
     "status": "completed"
    },
    "tags": []
   },
   "outputs": [],
   "source": [
    "\n",
    "def training_evaluation(actual, predicted):\n",
    "    # Calculate metrics\n",
    "    mse = mean_squared_error(actual, predicted)\n",
    "    rmse = np.sqrt(mse)\n",
    "    mae = mean_absolute_error(actual, predicted)\n",
    "    r2 = r2_score(actual, predicted)\n",
    "    \n",
    "    # Print metrics\n",
    "    print(f\"MSE :  {mse}\")\n",
    "    print(f\"RMSE : {rmse}\")\n",
    "    print(f\"MAE : {mae}\")\n",
    "    print(f\"Accuracy : {r2}\")\n",
    "    \n",
    "    # Scatter plot with line of equality\n",
    "    plt.scatter(actual, predicted, color='r')\n",
    "    plt.plot([actual.min(), actual.max()], [actual.min(), actual.max()], 'k', lw=3, ls='--')\n",
    "    plt.title(\"Scatter Plot for Training Data\")\n",
    "    plt.xlabel(\"Actual Values (y_train)\")\n",
    "    plt.ylabel(\"Predicted Values (y_pred_train)\")\n",
    "    plt.show()\n"
   ]
  },
  {
   "cell_type": "code",
   "execution_count": 68,
   "id": "b2224fed",
   "metadata": {
    "execution": {
     "iopub.execute_input": "2024-08-10T07:31:30.604936Z",
     "iopub.status.busy": "2024-08-10T07:31:30.604531Z",
     "iopub.status.idle": "2024-08-10T07:31:30.893374Z",
     "shell.execute_reply": "2024-08-10T07:31:30.892233Z"
    },
    "papermill": {
     "duration": 0.322105,
     "end_time": "2024-08-10T07:31:30.895536",
     "exception": false,
     "start_time": "2024-08-10T07:31:30.573431",
     "status": "completed"
    },
    "tags": []
   },
   "outputs": [
    {
     "name": "stdout",
     "output_type": "stream",
     "text": [
      "MSE :  10113812895.703907\n",
      "RMSE : 100567.45445572294\n",
      "MAE : 80801.40012743932\n",
      "Accuracy : 0.9174048587351101\n"
     ]
    },
    {
     "data": {
      "image/png": "[encoded data removed]",
      "text/plain": [
       "<Figure size 640x480 with 1 Axes>"
      ]
     },
     "metadata": {},
     "output_type": "display_data"
    }
   ],
   "source": [
    "training_evaluation(y_train ,y_train_pred)"
   ]
  },
  {
   "cell_type": "code",
   "execution_count": 69,
   "id": "1a49ae2f",
   "metadata": {
    "execution": {
     "iopub.execute_input": "2024-08-10T07:31:30.959305Z",
     "iopub.status.busy": "2024-08-10T07:31:30.958888Z",
     "iopub.status.idle": "2024-08-10T07:31:30.964070Z",
     "shell.execute_reply": "2024-08-10T07:31:30.962777Z"
    },
    "papermill": {
     "duration": 0.04051,
     "end_time": "2024-08-10T07:31:30.966369",
     "exception": false,
     "start_time": "2024-08-10T07:31:30.925859",
     "status": "completed"
    },
    "tags": []
   },
   "outputs": [],
   "source": [
    "# Test Data\n"
   ]
  },
  {
   "cell_type": "code",
   "execution_count": 70,
   "id": "5974fcd2",
   "metadata": {
    "execution": {
     "iopub.execute_input": "2024-08-10T07:31:31.032333Z",
     "iopub.status.busy": "2024-08-10T07:31:31.031939Z",
     "iopub.status.idle": "2024-08-10T07:31:31.040119Z",
     "shell.execute_reply": "2024-08-10T07:31:31.038875Z"
    },
    "papermill": {
     "duration": 0.042901,
     "end_time": "2024-08-10T07:31:31.042603",
     "exception": false,
     "start_time": "2024-08-10T07:31:30.999702",
     "status": "completed"
    },
    "tags": []
   },
   "outputs": [],
   "source": [
    "\n",
    "def test_evaluation(actual, predicted):\n",
    "    # Calculate metrics\n",
    "    mse = mean_squared_error(actual, predicted)\n",
    "    rmse = np.sqrt(mse)\n",
    "    mae = mean_absolute_error(actual, predicted)\n",
    "    r2 = r2_score(actual, predicted)\n",
    "    \n",
    "    # Print metrics\n",
    "    print(f\"MSE :  {mse}\")\n",
    "    print(f\"RMSE : {rmse}\")\n",
    "    print(f\"MAE : {mae}\")\n",
    "    print(f\"Accuracy : {r2}\")\n",
    "    \n",
    "    # Scatter plot with line of equality\n",
    "    plt.scatter(actual, predicted, color='r')\n",
    "    plt.plot([actual.min(), actual.max()], [actual.min(), actual.max()], 'k', lw=3, ls='--')\n",
    "    plt.title(\"Scatter Plot for Test Data\")\n",
    "    plt.xlabel(\"Actual Values (y_test)\")\n",
    "    plt.ylabel(\"Predicted Values (y_pred_test)\")\n",
    "    plt.show()\n"
   ]
  },
  {
   "cell_type": "code",
   "execution_count": 71,
   "id": "405705e1",
   "metadata": {
    "execution": {
     "iopub.execute_input": "2024-08-10T07:31:31.109372Z",
     "iopub.status.busy": "2024-08-10T07:31:31.108953Z",
     "iopub.status.idle": "2024-08-10T07:31:31.425859Z",
     "shell.execute_reply": "2024-08-10T07:31:31.424674Z"
    },
    "papermill": {
     "duration": 0.353242,
     "end_time": "2024-08-10T07:31:31.428243",
     "exception": false,
     "start_time": "2024-08-10T07:31:31.075001",
     "status": "completed"
    },
    "tags": []
   },
   "outputs": [
    {
     "name": "stdout",
     "output_type": "stream",
     "text": [
      "MSE :  10400603830.477753\n",
      "RMSE : 101983.35075137389\n",
      "MAE : 82589.5170884984\n",
      "Accuracy : 0.9133687209002822\n"
     ]
    },
    {
     "data": {
      "image/png": "[encoded data removed]",
      "text/plain": [
       "<Figure size 640x480 with 1 Axes>"
      ]
     },
     "metadata": {},
     "output_type": "display_data"
    }
   ],
   "source": [
    "test_evaluation(y_test, y_test_pred)"
   ]
  }
 ],
 "metadata": {
  "kaggle": {
   "accelerator": "none",
   "dataSources": [
    {
     "datasetId": 5522967,
     "sourceId": 9144170,
     "sourceType": "datasetVersion"
    }
   ],
   "dockerImageVersionId": 30746,
   "isGpuEnabled": false,
   "isInternetEnabled": false,
   "language": "python",
   "sourceType": "notebook"
  },
  "kernelspec": {
   "display_name": "Python 3",
   "language": "python",
   "name": "python3"
  },
  "language_info": {
   "codemirror_mode": {
    "name": "ipython",
    "version": 3
   },
   "file_extension": ".py",
   "mimetype": "text/x-python",
   "name": "python",
   "nbconvert_exporter": "python",
   "pygments_lexer": "ipython3",
   "version": "3.10.13"
  },
  "papermill": {
   "default_parameters": {},
   "duration": 16.304295,
   "end_time": "2024-08-10T07:31:32.181306",
   "environment_variables": {},
   "exception": null,
   "input_path": "__notebook__.ipynb",
   "output_path": "__notebook__.ipynb",
   "parameters": {},
   "start_time": "2024-08-10T07:31:15.877011",
   "version": "2.5.0"
  }
 },
 "nbformat": 4,
 "nbformat_minor": 5
}
